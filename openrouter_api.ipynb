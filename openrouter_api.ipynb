{
  "cells": [
    {
      "cell_type": "markdown",
      "metadata": {
        "id": "dl2KCzxXbbF0"
      },
      "source": [
        "[![Open In Colab](https://colab.research.google.com/assets/colab-badge.svg)](https://colab.research.google.com/github/danielmlow/llm_course/blob/main/openrouter_api.ipynb)"
      ]
    },
    {
      "cell_type": "code",
      "execution_count": 1,
      "metadata": {
        "id": "gbTd5pDGu72f"
      },
      "outputs": [],
      "source": [
        "import json\n",
        "import requests\n",
        "import os\n",
        "import pandas as pd"
      ]
    },
    {
      "cell_type": "markdown",
      "metadata": {
        "id": "lIbdbUyebbF2"
      },
      "source": [
        "# Set API key and choose model\n",
        "- API key is associated to your account. You can add money to use paid models.\n",
        "- All models: https://openrouter.ai/rankings\n",
        "- Paid models:\n",
        "    - Google's State of the art (SOTA): 'google/gemini-2.5-pro'\n",
        "    - Google's fast and cheap: 'google/gemini-2.5-flash'\n",
        "    - Google's even cheaper 'google/gemini-2.5-flash-lite'\n",
        "    - OpenAI's SOTA model: 'openai/gpt-5'\n",
        "    - OpenAI's fast and cheap: 'openai/gpt-5-mini'\n",
        "    - Anthropic's SOTA model: 'anthropic/claude-sonnet-4'\n",
        "    - Anthropic's fast and cheap: 'anthropic/claude-3.5-haiku'\n",
        "    - There are also even better reasoning models but very expensive and overkill for this use case\n",
        "- Free models: https://openrouter.ai/models?max_price=0\n",
        "    - free models: certain requests per minute (e.g., 20) and N requests per day (depends on model). See https://openrouter.ai/docs/limits\n",
        "    - \"google/gemini-2.0-flash-exp:free\"\n",
        "    - \"deepseek/deepseek-chat-v3.1:free\"\n",
        "    - \"meta-llama/llama-3.1-70b-instruct:free\"\n",
        "    - \"qwen/qwen3-coder:free\"\n",
        "\n"
      ]
    },
    {
      "cell_type": "markdown",
      "metadata": {
        "id": "zmwb3T0PbbF1"
      },
      "source": [
        "# Measure constructs using LLMs"
      ]
    },
    {
      "cell_type": "code",
      "execution_count": 2,
      "metadata": {
        "cellView": "form",
        "id": "QLTD3Np8bbF2"
      },
      "outputs": [],
      "source": [
        "# @title\n",
        "\n",
        "\n",
        "def process_api_output(output_str):\n",
        "  \"\"\"\n",
        "  Processes the API output string and returns a dictionary.\n",
        "\n",
        "  Args:\n",
        "    output_str: The string output from the API call.\n",
        "\n",
        "  Returns:\n",
        "    A dictionary containing the extracted data.\n",
        "\n",
        "  Example:\n",
        "\n",
        "    output_str1 = '{  \"desire to escape\": [[1], [\"I want out\"]],  \"loneliness\": [[1], [\"No one cares about me\"]],  \"suicidal ideation\": [[0.5], [\"I want out\", \"It wont get better\"]] }'\n",
        "    output_str2 = '{  \"desire to escape\": [[1], [\"I want out\"]],  \"loneliness\": [[1], [\"No one cares about me\"]],  \"suicidal ideation\": [[0.5], [\"I want out\", \"It wont get better\"]] }Explanation: - The text clearly expresses a \"desire to escape\" with the phrase \"I want out\", which suggests a strong desire to leave the current situation.- The text also clearly expresses \"loneliness\" with the phrase \"No one cares about me\", which indicates feelings of isolation and disconnection.- The text may suggest \"suicidal ideation\" with the phrases \"I want out\" and \"It wont get better\", but it\\'s not explicitly stated, hence the lower score.'\n",
        "    output_str3 = '{  \"desire to escape\": [[1], [\"I want out\"]],  \"loneliness\": [[1], [\"No one cares about me\"]],  \"suicidal ideation\": [[0.5], [\"I want out\", \"It wont get better\"]] }Some additional information here.'\n",
        "\n",
        "    print(process_api_output(output_str1))\n",
        "    print(process_api_output(output_str2))\n",
        "    print(process_api_output(output_str3))\n",
        "  \"\"\"\n",
        "  data = {}\n",
        "  start_index = output_str.find('{')\n",
        "  end_index = output_str.rfind('}') + 1\n",
        "\n",
        "  try:\n",
        "    # Attempt to directly load the JSON string\n",
        "    data = json.loads(output_str)\n",
        "  except json.JSONDecodeError:\n",
        "    # If JSON decoding fails, try to extract the JSON part\n",
        "    if start_index != -1 and end_index != -1:\n",
        "      json_part = output_str[start_index:end_index]\n",
        "      data = json.loads(json_part)\n",
        "    else:\n",
        "      raise ValueError(\"Invalid API output format.\")\n",
        "\n",
        "  # Extract the additional note if it exists\n",
        "  if start_index != 0 or end_index != len(output_str):\n",
        "    data['Additional note'] = output_str[end_index:].strip()\n",
        "\n",
        "  return data\n",
        "\n",
        "\n",
        "def openrouter_request(prompt, OPENROUTER_API_KEY, model, temperature, safety_settings=None, verbose=False):\n",
        "    \"\"\"\n",
        "    Makes a request to OpenRouter API. Returns (result, metadata) tuple.\n",
        "    If there's an error, returns (None, None) to allow skipping the failed request.\n",
        "\n",
        "    Args:\n",
        "        prompt: The prompt to send to the API\n",
        "        OPENROUTER_API_KEY: Your OpenRouter API key\n",
        "        model: The model to use\n",
        "        temperature: The temperature parameter\n",
        "        safety_settings: Optional safety settings\n",
        "        verbose: If True, print detailed logs. Default is False.\n",
        "\n",
        "    free models: 20 requests per minute and 200 requests per day. See https://openrouter.ai/docs/limits\n",
        "    \"\"\"\n",
        "    # Configure session with retry logic\n",
        "    session = requests.Session()\n",
        "    retry = requests.adapters.HTTPAdapter(\n",
        "        max_retries=3\n",
        "    )\n",
        "    session.mount('http://', retry)\n",
        "    session.mount('https://', retry)\n",
        "\n",
        "    try:\n",
        "        if verbose:\n",
        "            print(f\"\\nMaking request to OpenRouter API...\")\n",
        "            print(f\"Model: {model}\")\n",
        "            print(f\"Temperature: {temperature}\")\n",
        "\n",
        "        # Try without proxy first\n",
        "        try:\n",
        "            response = session.post(\n",
        "                url=\"https://openrouter.ai/api/v1/chat/completions\",\n",
        "                headers={\n",
        "                    \"Authorization\": f\"Bearer {OPENROUTER_API_KEY}\",\n",
        "                    \"Content-Type\": \"application/json\",\n",
        "                    \"HTTP-Referer\": \"https://github.com/danielmlow/talklife\",\n",
        "                    \"X-Title\": \"TalkLife Research\"\n",
        "                },\n",
        "                json={\n",
        "                    \"model\": model,\n",
        "                    \"temperature\": temperature,\n",
        "                    \"response_format\": { \"type\": \"json_object\" },\n",
        "                    \"messages\": [\n",
        "                        { \"role\": \"user\", \"content\": prompt}\n",
        "                    ],\n",
        "                },\n",
        "                timeout=30,\n",
        "                proxies=None\n",
        "            )\n",
        "            if verbose:\n",
        "                print(f\"Response status code: {response.status_code}\")\n",
        "\n",
        "        except requests.exceptions.ProxyError as e:\n",
        "\n",
        "            print(f\"Proxy error detected: {str(e)}\")\n",
        "            print(\"Retrying with direct connection...\")\n",
        "\n",
        "\n",
        "        # Check if request was successful\n",
        "        response.raise_for_status()\n",
        "\n",
        "        try:\n",
        "            metadata = response.json()\n",
        "            if verbose:\n",
        "                print(\"Successfully received JSON response\")\n",
        "            final_result = metadata['choices'][0]['message']['content']\n",
        "            try:\n",
        "                final_result = dict(eval(final_result))\n",
        "                if verbose:\n",
        "                    print(\"Successfully parsed response as dictionary\")\n",
        "                return final_result, metadata\n",
        "            except Exception as e:\n",
        "\n",
        "                print(f\"Error parsing response as dictionary: {str(e)}\")\n",
        "                print(\"Attempting to process output...\")\n",
        "                final_result = process_api_output(final_result)\n",
        "                return final_result, metadata\n",
        "\n",
        "        except json.JSONDecodeError as e:\n",
        "\n",
        "            print(f\"Error decoding JSON response: {str(e)}\")\n",
        "            print(f\"Response text: {response.text[:500]}...\")  # Print first 500 chars\n",
        "            return None, None\n",
        "\n",
        "    except requests.exceptions.RequestException as e:\n",
        "\n",
        "        print(f\"Request failed: {str(e)}\")\n",
        "        if hasattr(e, 'response') and e.response is not None:\n",
        "            print(f\"Response status code: {e.response.status_code}\")\n",
        "        print(f\"Response text: {e.response.text[:500]}...\")  # Print first 500 chars\n",
        "        return None, None\n",
        "    except Exception as e:\n",
        "\n",
        "        print(f\"Unexpected error: {str(e)}\")\n",
        "        return None, None\n",
        "    finally:\n",
        "\n",
        "        session.close()\n",
        "\n",
        "# # It's a good idea to keep keys in a separate file such as api_keys.py (not shared with anyone) which you can import\n",
        "# try:\n",
        "#     import api_keys # local file\n",
        "#     OPENROUTER_API_KEY = api_keys.OPENROUTER_API_KEY\n",
        "# except:\n",
        "#     # if not, set key here\n",
        "#     print(\"Module 'api_key' not found. Add your key here. \") # get it from OpenRouter AI: https://openrouter.ai/settings/keys\n",
        "#     OPENROUTER_API_KEY = \"\" # This key will disactivate if you place it on a public repository. Get your own and add some dollars from OpenRouter AI: https://openrouter.ai/settings/keys\n",
        "\n",
        "OPENROUTER_API_KEY = \"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\" #@param\n",
        "model=\"google/gemini-2.5-flash\" #@param\n",
        "\n"
      ]
    },
    {
      "cell_type": "markdown",
      "metadata": {
        "id": "7s_sM1cPbbF2"
      },
      "source": [
        "# Design a prompt"
      ]
    },
    {
      "cell_type": "code",
      "execution_count": 3,
      "metadata": {
        "id": "MCNUCdyS_O78"
      },
      "outputs": [],
      "source": [
        "prompt_template = \"\"\"Classify the text into one or more of the following {context} categories: {categories}.\n",
        "\n",
        "Provide a score (0 or 1) as to whether the text clearly mentions the category and an explanation (words or phrases from the text that are clearly about the category).\n",
        "\n",
        "Text:\n",
        "{text}\n",
        "\n",
        "Structure your response in the following JSON format (no extra text):\n",
        "{{'category_A': [[score], [words, phrases]], 'category_B': [[score], [words, phrases]], ...}}\n",
        "\n",
        "JSON:\n",
        "\"\"\""
      ]
    },
    {
      "cell_type": "code",
      "execution_count": 4,
      "metadata": {
        "id": "sXz0FTnObbF3"
      },
      "outputs": [],
      "source": [
        "categories = ['desire to escape', 'suicidal ideation', 'anger', 'loneliness']"
      ]
    },
    {
      "cell_type": "code",
      "execution_count": 5,
      "metadata": {
        "id": "37COgD_jbbF3"
      },
      "outputs": [],
      "source": [
        "text = 'No one cares about me. I go to therapy, but it doesnt work. It wont get better. I want out. Im feeling hyperactive.'"
      ]
    },
    {
      "cell_type": "code",
      "execution_count": 6,
      "metadata": {
        "cellView": "form",
        "colab": {
          "base_uri": "https://localhost:8080/"
        },
        "id": "AhOa-l0WbbF3",
        "outputId": "49744a37-b58f-40a1-b9cf-7070a6c2b9ec"
      },
      "outputs": [
        {
          "output_type": "stream",
          "name": "stdout",
          "text": [
            "Prompt:\n",
            "Classify the text into one or more of the following  categories: ['desire to escape', 'suicidal ideation', 'anger', 'loneliness'].\n",
            "\n",
            "Provide a score (0 or 1) as to whether the text clearly mentions the category and an explanation (words or phrases from the text that are clearly about the category).\n",
            "\n",
            "Text: \n",
            "No one cares about me. I go to therapy, but it doesnt work. It wont get better. I want out. Im feeling hyperactive.\n",
            "\n",
            "Structure your response in the following JSON format (no extra text):\n",
            "{'category_A': [[score], [words, phrases]], 'category_B': [[score], [words, phrases]], ...}\n",
            "\n",
            "JSON:\n",
            "\n"
          ]
        }
      ],
      "source": [
        "# @title\n",
        "prompt = prompt_template.format(context = '',\n",
        "              categories = categories,\n",
        "              text= text\n",
        "              )\n",
        "\n",
        "print('Prompt:')\n",
        "print(prompt)"
      ]
    },
    {
      "cell_type": "markdown",
      "metadata": {
        "id": "Fjr5qeRIbbF3"
      },
      "source": [
        "### With definitions\n"
      ]
    },
    {
      "cell_type": "code",
      "source": [
        "# Definitions and examples of the Suicide Risk Lexicon: https://github.com/danielmlow/construct-tracker/blob/e9897da4f53efe40745aa5dcec923cc56830c23e/src/construct_tracker/data/lexicons/suicide_risk_lexicon_v1-0/suicide_risk_lexicon_codebook_prototypical_examples.txt\n",
        "# https://osf.io/preprints/psyarxiv/vf2bc_v3\n",
        "\n",
        "\n",
        "categories_with_definitions = \"\"\"desire to escape: wish to escape from awareness of current life problems their implications about the self. Examples: escape; paralyzing; no escape; want to get out; there is no exit; want to escape; craving release; escape pain; have to escape; running out of options\n",
        "suicidal ideation: Suicidal thoughts desiring one's own death or related states. Examples: I want to die; better off dead; want to be dead; want to die; wish I was dead; wish I wasn't alive; wish I would not wake up; would be better off dead\n",
        "anxiety: Anxiety is a feeling of worry, nervousness, or unease, often about an imminent event or something with an uncertain outcome. We include anxiety disorders. Examples: Xanax; phobia; apprehension; worry; nervous; xanax; can't relax; diazepam; phobic; anxiety; anxious; worried; agoraphobia; social anxiety\n",
        "loneliness: aversive state experienced when a discrepancy exists between the interpersonal relationships one wishes to have and those that one perceives they currently have. The perception that one's social relationships are not living up to some expectation. Examples: no one to turn to; no one will miss me; nobody thinks about me; nobody wants me here; no friends; no one misses me; I am alone; no one cares; have no one; don't have anyone; feel ignored; have nobody; lonely; no one to talk; no one I can talk to\"\"\""
      ],
      "metadata": {
        "id": "RhC5yvP5euk4"
      },
      "execution_count": 7,
      "outputs": []
    },
    {
      "cell_type": "code",
      "execution_count": 8,
      "metadata": {
        "id": "DXF1FSWybbF3"
      },
      "outputs": [],
      "source": [
        "\n",
        "prompt_template_with_definitions = \"\"\"Classify the text into one or more of the following categories with their corresponding definitions:\\n\\n{categories}\n",
        "\n",
        "Provide an ordinal score (0=construct is not mentioned, 1 = indirect mention or not clear, 2 = clear and prototypical mention of the construct) as to whether the text clearly mentions the construct. Structure your response in the following JSON format (just JSON, no extra text), providing a score for the construct and an explanation (verbatim short phrases from the text if they are clear expressions of the construct --do not repeat phrases for specific construct--):\n",
        "\n",
        "Text:\n",
        "{text}\n",
        "\n",
        "Structure your response in the following JSON format (no extra text):\n",
        "{{'category_A': [[score], [words, phrases]], 'category_B': [[score], [words, phrases]], ...}}\n",
        "\n",
        "JSON:\n",
        "\"\"\"\n",
        "\n",
        "\n"
      ]
    },
    {
      "cell_type": "code",
      "source": [
        "# @title\n",
        "\n",
        "\n",
        "\n",
        "\n",
        "# Insert into prompt\n",
        "prompt_with_definitions = prompt_template_with_definitions.format(context = '', # I change to prompt_template_with_definitions\n",
        "              categories = categories_with_definitions,\n",
        "              text= text\n",
        "              )\n",
        "\n",
        "\n",
        "print('Prompt:')\n",
        "print(prompt_with_definitions)\n"
      ],
      "metadata": {
        "cellView": "form",
        "colab": {
          "base_uri": "https://localhost:8080/"
        },
        "id": "i-ymJS72e0Iz",
        "outputId": "b824af82-5fb9-4d4c-8dcc-ff26a191246a"
      },
      "execution_count": 9,
      "outputs": [
        {
          "output_type": "stream",
          "name": "stdout",
          "text": [
            "Prompt:\n",
            "Classify the text into one or more of the following categories with their corresponding definitions:\n",
            "\n",
            "desire to escape: wish to escape from awareness of current life problems their implications about the self. Examples: escape; paralyzing; no escape; want to get out; there is no exit; want to escape; craving release; escape pain; have to escape; running out of options\n",
            "suicidal ideation: Suicidal thoughts desiring one's own death or related states. Examples: I want to die; better off dead; want to be dead; want to die; wish I was dead; wish I wasn't alive; wish I would not wake up; would be better off dead\n",
            "anxiety: Anxiety is a feeling of worry, nervousness, or unease, often about an imminent event or something with an uncertain outcome. We include anxiety disorders. Examples: Xanax; phobia; apprehension; worry; nervous; xanax; can't relax; diazepam; phobic; anxiety; anxious; worried; agoraphobia; social anxiety\n",
            "loneliness: aversive state experienced when a discrepancy exists between the interpersonal relationships one wishes to have and those that one perceives they currently have. The perception that one's social relationships are not living up to some expectation. Examples: no one to turn to; no one will miss me; nobody thinks about me; nobody wants me here; no friends; no one misses me; I am alone; no one cares; have no one; don't have anyone; feel ignored; have nobody; lonely; no one to talk; no one I can talk to\n",
            "\n",
            "Provide an ordinal score (0=construct is not mentioned, 1 = indirect mention or not clear, 2 = clear and prototypical mention of the construct) as to whether the text clearly mentions the construct. Structure your response in the following JSON format (just JSON, no extra text), providing a score for the construct and an explanation (verbatim short phrases from the text if they are clear expressions of the construct --do not repeat phrases for specific construct--):\n",
            "\n",
            "Text: \n",
            "No one cares about me. I go to therapy, but it doesnt work. It wont get better. I want out. Im feeling hyperactive.\n",
            "\n",
            "Structure your response in the following JSON format (no extra text):\n",
            "{'category_A': [[score], [words, phrases]], 'category_B': [[score], [words, phrases]], ...}\n",
            "\n",
            "JSON:\n",
            "\n"
          ]
        }
      ]
    },
    {
      "cell_type": "markdown",
      "metadata": {
        "id": "J9u1PW-ybbF3"
      },
      "source": [
        "# Submit prompt to openrouter\n"
      ]
    },
    {
      "cell_type": "code",
      "execution_count": 10,
      "metadata": {
        "id": "6Q02nv6I_qxl"
      },
      "outputs": [],
      "source": [
        "# Choose which prompt to use\n",
        "\n",
        "final_result, metadata = openrouter_request(prompt_with_definitions, OPENROUTER_API_KEY, model = model, temperature=0)"
      ]
    },
    {
      "cell_type": "code",
      "execution_count": 11,
      "metadata": {
        "colab": {
          "base_uri": "https://localhost:8080/",
          "height": 52
        },
        "id": "8AnFAsLMnsyW",
        "outputId": "4cf8ea45-7337-4ca5-886e-57373d7568e8"
      },
      "outputs": [
        {
          "output_type": "execute_result",
          "data": {
            "text/plain": [
              "'No one cares about me. I go to therapy, but it doesnt work. It wont get better. I want out. Im feeling hyperactive.'"
            ],
            "application/vnd.google.colaboratory.intrinsic+json": {
              "type": "string"
            }
          },
          "metadata": {},
          "execution_count": 11
        }
      ],
      "source": [
        "# Recap what the text was\n",
        "text"
      ]
    },
    {
      "cell_type": "code",
      "execution_count": 12,
      "metadata": {
        "colab": {
          "base_uri": "https://localhost:8080/"
        },
        "id": "wx9rVvT-bbF4",
        "outputId": "082700e0-0ad7-4db9-ccca-5de77e1860c6"
      },
      "outputs": [
        {
          "output_type": "execute_result",
          "data": {
            "text/plain": [
              "{'desire to escape': [2, ['I want out']],\n",
              " 'suicidal ideation': [0, []],\n",
              " 'anxiety': [0, []],\n",
              " 'loneliness': [2, ['No one cares about me']]}"
            ]
          },
          "metadata": {},
          "execution_count": 12
        }
      ],
      "source": [
        "final_result"
      ]
    },
    {
      "cell_type": "code",
      "execution_count": 13,
      "metadata": {
        "colab": {
          "base_uri": "https://localhost:8080/"
        },
        "id": "efZo7t7mbbF4",
        "outputId": "36aacde9-1b96-4902-aa0b-621d07d7ab2b"
      },
      "outputs": [
        {
          "output_type": "execute_result",
          "data": {
            "text/plain": [
              "{'id': 'gen-1761751466-E8EnKCubGRnGlukxYoTe',\n",
              " 'provider': 'Google',\n",
              " 'model': 'google/gemini-2.5-flash',\n",
              " 'object': 'chat.completion',\n",
              " 'created': 1761751466,\n",
              " 'choices': [{'logprobs': None,\n",
              "   'finish_reason': 'stop',\n",
              "   'native_finish_reason': 'STOP',\n",
              "   'index': 0,\n",
              "   'message': {'role': 'assistant',\n",
              "    'content': '{\\n  \"desire to escape\": [\\n    2,\\n    [\\n      \"I want out\"\\n    ]\\n  ],\\n  \"suicidal ideation\": [\\n    0,\\n    []\\n  ],\\n  \"anxiety\": [\\n    0,\\n    []\\n  ],\\n  \"loneliness\": [\\n    2,\\n    [\\n      \"No one cares about me\"\\n    ]\\n  ]\\n}',\n",
              "    'refusal': None,\n",
              "    'reasoning': None}}],\n",
              " 'usage': {'prompt_tokens': 498,\n",
              "  'completion_tokens': 95,\n",
              "  'total_tokens': 593,\n",
              "  'prompt_tokens_details': {'cached_tokens': 0},\n",
              "  'completion_tokens_details': {'reasoning_tokens': 0, 'image_tokens': 0}}}"
            ]
          },
          "metadata": {},
          "execution_count": 13
        }
      ],
      "source": [
        "metadata"
      ]
    },
    {
      "cell_type": "markdown",
      "metadata": {
        "id": "Rz1EmMYPbbF4"
      },
      "source": [
        "# loop through text documents\n",
        "\n",
        "server\n",
        "- google: load files from google drive. Specify path below\n",
        "- local: load files from your computer (not running colab, but jupyter notebook locally)\n",
        "- False: load data from URL\n",
        "\n",
        "In this tutorial we choose False to load some Reddit posts.\n",
        "\n"
      ]
    },
    {
      "cell_type": "code",
      "execution_count": 14,
      "metadata": {
        "id": "ar22N339_hQ9",
        "cellView": "form",
        "colab": {
          "base_uri": "https://localhost:8080/"
        },
        "outputId": "770088a5-e92c-4693-9c79-c0442dbbccf5"
      },
      "outputs": [
        {
          "output_type": "execute_result",
          "data": {
            "text/plain": [
              "{'1_suicidewatch': \"31 and ready to stop existing I've made so many mistakes, medicated or not that desire is still there. Husband decides he's ready to divorce mostly all of my fault. I don't see a way to ever feel happy again. The years of depression (18 years) have won.\\n\",\n",
              " '2_anxiety': \"Freezing up I'm new to the sub, so I don't really know if this is the right place to ask for help, but I've been told that this is probably linked to some form of anxiety. I've recently gotten over depression through the help of a medication, and since I've started feeling better, I've been feeling a lot more on edge, and social situations and various other interactions have gotten a lot harder. There are times where I'll be talking with somebody (this can be any person, talking about anything. I've had it happen with teachers, relatives, and even some of my closest friends, so I don't think its related to who I'm talking to), and some kind of response is prompted, I come up with an answer/response, but there is something that is physically not letting me say the words. I just stand there with my mouth open trying to say something but I physically can't, and its gotten bad enough that I avoid certain interactions out of fear that it's going to happen again. I've also been taking a different medication that is supposed to help with anxiety as well as depression, but this continues to happen.\",\n",
              " '3_anxiety': \"My GAD is starting to ruin my life. I recently left a job that I was really great at, I worked there for 8 years. I left because I was tired of retail hours and I am recently married, so I wanted a better work-life balance. I had no idea that leaving that job and starting a new one would cause debilitating anxiety. For about 3.5 weeks now, I have woken up every morning with extreme nausea and vomiting. This has caused me to quit literally three new jobs since April. I don't know what to do, I don't know how to cope. I just started taking lexapro about 1.5 weeks ago, and I have noticed that I am feeling better. I have a job interview on friday for the same line of work i used to be in, just the competitor. I'm hoping the fact that I'll already know how to do this job will put me in a better place. But what do i do? I'm worried my husband is going to start hating me. He ended up taking me to the hospital last week cause i started vomiting blood and got diagnosed with gastritis, doctor said that it was caused 1000% by my anxiety. what do I do? how can i find a job and live like this?\",\n",
              " '4_anxiety': 'Anxiety Breakthrough Had a big breakthrough today about my anxiety. Currently withdrawing off of benzos so my anxiety is quite high. I experience a lot of dissociation when I’m anxious, my bodies way to cope. Usually when driving I start to freak out when I dissociate so it makes it worse but today I said fuck it this feels kind of cool. Trying to enjoy the feeling actually made it less and less prominent. Also I have anxiety that when I dissociate I’ll hit another car or something dumb, I literally tried to make myself hit a car and it wasn’t possible my brain stopped myself every time. It’s really crazy how the brain works. Accept the feeling and enjoy it no matter how shitty it is.',\n",
              " '5_suicidewatch': 'Would drinking isopropyl alcohol kill me? Would it be any better than bleach?'}"
            ]
          },
          "metadata": {},
          "execution_count": 14
        }
      ],
      "source": [
        "# @title\n",
        "server = False #@param [\"google\", \"local\", \"False\"]\n",
        "\n",
        "if server == \"False\":\n",
        "  server = False\n",
        "# Options: \"google\", \"local\", False  # True: Running on colab and looking for files on on google drive; False: run on your local computer and find files locally\n",
        "\n",
        "# Obtain documents\n",
        "\n",
        "if server == 'google':\n",
        "    # ON GOOGLE DRIVE\n",
        "    from google.colab import drive\n",
        "    drive.mount('/content/drive')\n",
        "    # Or find using os.listdir('/content/')\n",
        "    input_dir = '/content/drive/MyDrive/your_folder/'\n",
        "    output_dir = '/content/drive/MyDrive/your_folder/'\n",
        "elif server == 'local':\n",
        "    # ON YOUR COMPUTER\n",
        "    input_dir = './' # add path to input_dir\n",
        "    output_dir = './'\n",
        "else:\n",
        "    # Load default data\n",
        "    reddit_df = pd.read_csv('https://mair.sites.fas.harvard.edu/datasets/rmhd_27subreddits_1300posts_train.csv', index_col = 0)\n",
        "    reddit_df_subset = reddit_df[reddit_df['subreddit'].isin(['suicidewatch', 'anxiety'])]\n",
        "    reddit_df_subset_random = reddit_df_subset.sample(frac=1, random_state=42)\n",
        "    reddit_df_subset_random_5 =  reddit_df_subset_random[['subreddit', 'post']][:5]\n",
        "    # Add an incrementing number to the beginning of the key and create a dictionary\n",
        "    texts = {\n",
        "        f\"{i+1}_{row.subreddit}\": row.post\n",
        "        for i, row in enumerate(reddit_df_subset_random_5.itertuples(index=False))\n",
        "    }\n",
        "\n",
        "    output_dir = './data/output/'\n",
        "\n",
        "os.makedirs(output_dir, exist_ok=True)\n",
        "if server in ['google', 'local']:\n",
        "    # load txt files. Loop through text\n",
        "    print('current working directory: ', os.getcwd())\n",
        "    texts = {}\n",
        "\n",
        "    for file in os.listdir(input_dir):\n",
        "        if file.endswith('.txt'):\n",
        "            with open(os.path.join(input_dir, file), 'r') as f:\n",
        "                text = f.read()\n",
        "                texts[file] = text\n",
        "\n",
        "texts\n",
        "\n"
      ]
    },
    {
      "cell_type": "markdown",
      "metadata": {
        "id": "tzEtlgJpbbF4"
      },
      "source": [
        "# Text de-identification\n",
        "\n",
        "Install packages (60 sec)"
      ]
    },
    {
      "cell_type": "code",
      "source": [
        "\n",
        "!pip install -q presidio-analyzer\n",
        "!pip install -q presidio-anonymizer\n",
        "!python -m spacy download en_core_web_lg"
      ],
      "metadata": {
        "colab": {
          "base_uri": "https://localhost:8080/"
        },
        "id": "JC8E6zc-cx9F",
        "outputId": "b8d78da1-4ebe-40da-94f2-e732819a8491"
      },
      "execution_count": 15,
      "outputs": [
        {
          "output_type": "stream",
          "name": "stdout",
          "text": [
            "Collecting en-core-web-lg==3.8.0\n",
            "  Downloading https://github.com/explosion/spacy-models/releases/download/en_core_web_lg-3.8.0/en_core_web_lg-3.8.0-py3-none-any.whl (400.7 MB)\n",
            "\u001b[2K     \u001b[90m━━━━━━━━━━━━━━━━━━━━━━━━━━━━━━━━━━━━━━━\u001b[0m \u001b[32m400.7/400.7 MB\u001b[0m \u001b[31m1.1 MB/s\u001b[0m eta \u001b[36m0:00:00\u001b[0m\n",
            "\u001b[?25h\u001b[38;5;2m✔ Download and installation successful\u001b[0m\n",
            "You can now load the package via spacy.load('en_core_web_lg')\n",
            "\u001b[38;5;3m⚠ Restart to reload dependencies\u001b[0m\n",
            "If you are in a Jupyter or Colab notebook, you may need to restart Python in\n",
            "order to load all the package's dependencies. You can do this by selecting the\n",
            "'Restart kernel' or 'Restart runtime' option.\n"
          ]
        }
      ]
    },
    {
      "cell_type": "code",
      "execution_count": 16,
      "metadata": {
        "cellView": "form",
        "colab": {
          "base_uri": "https://localhost:8080/"
        },
        "id": "vrKlDA7nbbF4",
        "outputId": "73848e2c-fa03-47b8-a5c5-2ab63b7c1976"
      },
      "outputs": [
        {
          "output_type": "stream",
          "name": "stderr",
          "text": [
            "WARNING:presidio-analyzer:Recognizer not added to registry because language is not supported by registry - CreditCardRecognizer supported languages: es, registry supported languages: en\n",
            "WARNING:presidio-analyzer:Recognizer not added to registry because language is not supported by registry - CreditCardRecognizer supported languages: it, registry supported languages: en\n",
            "WARNING:presidio-analyzer:Recognizer not added to registry because language is not supported by registry - CreditCardRecognizer supported languages: pl, registry supported languages: en\n",
            "WARNING:presidio-analyzer:Recognizer not added to registry because language is not supported by registry - EsNifRecognizer supported languages: es, registry supported languages: en\n",
            "WARNING:presidio-analyzer:Recognizer not added to registry because language is not supported by registry - EsNieRecognizer supported languages: es, registry supported languages: en\n",
            "WARNING:presidio-analyzer:Recognizer not added to registry because language is not supported by registry - ItDriverLicenseRecognizer supported languages: it, registry supported languages: en\n",
            "WARNING:presidio-analyzer:Recognizer not added to registry because language is not supported by registry - ItFiscalCodeRecognizer supported languages: it, registry supported languages: en\n",
            "WARNING:presidio-analyzer:Recognizer not added to registry because language is not supported by registry - ItVatCodeRecognizer supported languages: it, registry supported languages: en\n",
            "WARNING:presidio-analyzer:Recognizer not added to registry because language is not supported by registry - ItIdentityCardRecognizer supported languages: it, registry supported languages: en\n",
            "WARNING:presidio-analyzer:Recognizer not added to registry because language is not supported by registry - ItPassportRecognizer supported languages: it, registry supported languages: en\n",
            "WARNING:presidio-analyzer:Recognizer not added to registry because language is not supported by registry - PlPeselRecognizer supported languages: pl, registry supported languages: en\n",
            "WARNING:presidio-analyzer:Entity NAME doesn't have the corresponding recognizer in language : en\n",
            "WARNING:presidio-analyzer:Entity NUMBER doesn't have the corresponding recognizer in language : en\n",
            "WARNING:presidio-analyzer:Recognizer not added to registry because language is not supported by registry - CreditCardRecognizer supported languages: es, registry supported languages: en\n",
            "WARNING:presidio-analyzer:Recognizer not added to registry because language is not supported by registry - CreditCardRecognizer supported languages: it, registry supported languages: en\n",
            "WARNING:presidio-analyzer:Recognizer not added to registry because language is not supported by registry - CreditCardRecognizer supported languages: pl, registry supported languages: en\n",
            "WARNING:presidio-analyzer:Recognizer not added to registry because language is not supported by registry - EsNifRecognizer supported languages: es, registry supported languages: en\n",
            "WARNING:presidio-analyzer:Recognizer not added to registry because language is not supported by registry - EsNieRecognizer supported languages: es, registry supported languages: en\n",
            "WARNING:presidio-analyzer:Recognizer not added to registry because language is not supported by registry - ItDriverLicenseRecognizer supported languages: it, registry supported languages: en\n",
            "WARNING:presidio-analyzer:Recognizer not added to registry because language is not supported by registry - ItFiscalCodeRecognizer supported languages: it, registry supported languages: en\n",
            "WARNING:presidio-analyzer:Recognizer not added to registry because language is not supported by registry - ItVatCodeRecognizer supported languages: it, registry supported languages: en\n",
            "WARNING:presidio-analyzer:Recognizer not added to registry because language is not supported by registry - ItIdentityCardRecognizer supported languages: it, registry supported languages: en\n",
            "WARNING:presidio-analyzer:Recognizer not added to registry because language is not supported by registry - ItPassportRecognizer supported languages: it, registry supported languages: en\n",
            "WARNING:presidio-analyzer:Recognizer not added to registry because language is not supported by registry - PlPeselRecognizer supported languages: pl, registry supported languages: en\n",
            "WARNING:presidio-analyzer:Entity NAME doesn't have the corresponding recognizer in language : en\n",
            "WARNING:presidio-analyzer:Entity NUMBER doesn't have the corresponding recognizer in language : en\n",
            "WARNING:presidio-analyzer:Recognizer not added to registry because language is not supported by registry - CreditCardRecognizer supported languages: es, registry supported languages: en\n",
            "WARNING:presidio-analyzer:Recognizer not added to registry because language is not supported by registry - CreditCardRecognizer supported languages: it, registry supported languages: en\n",
            "WARNING:presidio-analyzer:Recognizer not added to registry because language is not supported by registry - CreditCardRecognizer supported languages: pl, registry supported languages: en\n",
            "WARNING:presidio-analyzer:Recognizer not added to registry because language is not supported by registry - EsNifRecognizer supported languages: es, registry supported languages: en\n",
            "WARNING:presidio-analyzer:Recognizer not added to registry because language is not supported by registry - EsNieRecognizer supported languages: es, registry supported languages: en\n",
            "WARNING:presidio-analyzer:Recognizer not added to registry because language is not supported by registry - ItDriverLicenseRecognizer supported languages: it, registry supported languages: en\n",
            "WARNING:presidio-analyzer:Recognizer not added to registry because language is not supported by registry - ItFiscalCodeRecognizer supported languages: it, registry supported languages: en\n",
            "WARNING:presidio-analyzer:Recognizer not added to registry because language is not supported by registry - ItVatCodeRecognizer supported languages: it, registry supported languages: en\n",
            "WARNING:presidio-analyzer:Recognizer not added to registry because language is not supported by registry - ItIdentityCardRecognizer supported languages: it, registry supported languages: en\n",
            "WARNING:presidio-analyzer:Recognizer not added to registry because language is not supported by registry - ItPassportRecognizer supported languages: it, registry supported languages: en\n",
            "WARNING:presidio-analyzer:Recognizer not added to registry because language is not supported by registry - PlPeselRecognizer supported languages: pl, registry supported languages: en\n",
            "WARNING:presidio-analyzer:Entity NAME doesn't have the corresponding recognizer in language : en\n",
            "WARNING:presidio-analyzer:Entity NUMBER doesn't have the corresponding recognizer in language : en\n",
            "WARNING:presidio-analyzer:Recognizer not added to registry because language is not supported by registry - CreditCardRecognizer supported languages: es, registry supported languages: en\n",
            "WARNING:presidio-analyzer:Recognizer not added to registry because language is not supported by registry - CreditCardRecognizer supported languages: it, registry supported languages: en\n",
            "WARNING:presidio-analyzer:Recognizer not added to registry because language is not supported by registry - CreditCardRecognizer supported languages: pl, registry supported languages: en\n",
            "WARNING:presidio-analyzer:Recognizer not added to registry because language is not supported by registry - EsNifRecognizer supported languages: es, registry supported languages: en\n",
            "WARNING:presidio-analyzer:Recognizer not added to registry because language is not supported by registry - EsNieRecognizer supported languages: es, registry supported languages: en\n",
            "WARNING:presidio-analyzer:Recognizer not added to registry because language is not supported by registry - ItDriverLicenseRecognizer supported languages: it, registry supported languages: en\n",
            "WARNING:presidio-analyzer:Recognizer not added to registry because language is not supported by registry - ItFiscalCodeRecognizer supported languages: it, registry supported languages: en\n",
            "WARNING:presidio-analyzer:Recognizer not added to registry because language is not supported by registry - ItVatCodeRecognizer supported languages: it, registry supported languages: en\n",
            "WARNING:presidio-analyzer:Recognizer not added to registry because language is not supported by registry - ItIdentityCardRecognizer supported languages: it, registry supported languages: en\n",
            "WARNING:presidio-analyzer:Recognizer not added to registry because language is not supported by registry - ItPassportRecognizer supported languages: it, registry supported languages: en\n",
            "WARNING:presidio-analyzer:Recognizer not added to registry because language is not supported by registry - PlPeselRecognizer supported languages: pl, registry supported languages: en\n",
            "WARNING:presidio-analyzer:Entity NAME doesn't have the corresponding recognizer in language : en\n",
            "WARNING:presidio-analyzer:Entity NUMBER doesn't have the corresponding recognizer in language : en\n",
            "WARNING:presidio-analyzer:Recognizer not added to registry because language is not supported by registry - CreditCardRecognizer supported languages: es, registry supported languages: en\n",
            "WARNING:presidio-analyzer:Recognizer not added to registry because language is not supported by registry - CreditCardRecognizer supported languages: it, registry supported languages: en\n",
            "WARNING:presidio-analyzer:Recognizer not added to registry because language is not supported by registry - CreditCardRecognizer supported languages: pl, registry supported languages: en\n",
            "WARNING:presidio-analyzer:Recognizer not added to registry because language is not supported by registry - EsNifRecognizer supported languages: es, registry supported languages: en\n",
            "WARNING:presidio-analyzer:Recognizer not added to registry because language is not supported by registry - EsNieRecognizer supported languages: es, registry supported languages: en\n",
            "WARNING:presidio-analyzer:Recognizer not added to registry because language is not supported by registry - ItDriverLicenseRecognizer supported languages: it, registry supported languages: en\n",
            "WARNING:presidio-analyzer:Recognizer not added to registry because language is not supported by registry - ItFiscalCodeRecognizer supported languages: it, registry supported languages: en\n",
            "WARNING:presidio-analyzer:Recognizer not added to registry because language is not supported by registry - ItVatCodeRecognizer supported languages: it, registry supported languages: en\n",
            "WARNING:presidio-analyzer:Recognizer not added to registry because language is not supported by registry - ItIdentityCardRecognizer supported languages: it, registry supported languages: en\n",
            "WARNING:presidio-analyzer:Recognizer not added to registry because language is not supported by registry - ItPassportRecognizer supported languages: it, registry supported languages: en\n",
            "WARNING:presidio-analyzer:Recognizer not added to registry because language is not supported by registry - PlPeselRecognizer supported languages: pl, registry supported languages: en\n",
            "WARNING:presidio-analyzer:Entity NAME doesn't have the corresponding recognizer in language : en\n",
            "WARNING:presidio-analyzer:Entity NUMBER doesn't have the corresponding recognizer in language : en\n"
          ]
        }
      ],
      "source": [
        "\n",
        "\n",
        "from presidio_analyzer import AnalyzerEngine\n",
        "from presidio_anonymizer import AnonymizerEngine\n",
        "from tqdm import tqdm\n",
        "\n",
        "entities = [\"PERSON\",\"NAME\", \"PHONE_NUMBER\",\"NUMBER\"] #@param\n",
        "\n",
        "for file, text  in texts.items():\n",
        "\n",
        "\n",
        "    # Set up the engine, loads the NLP module (spaCy model by default)\n",
        "    # and other PII recognizers\n",
        "    analyzer = AnalyzerEngine()\n",
        "\n",
        "    # Call analyzer to get results\n",
        "    results = analyzer.analyze(text=text,\n",
        "                            entities=entities, #You could add LOCATION\n",
        "                            language='en')\n",
        "    # print(results)\n",
        "\n",
        "    # Analyzer results are passed to the AnonymizerEngine for anonymization\n",
        "\n",
        "    anonymizer = AnonymizerEngine()\n",
        "\n",
        "    anonymized_text = anonymizer.anonymize(text=text,analyzer_results=results)\n",
        "    texts[file] = anonymized_text.text\n",
        "\n"
      ]
    },
    {
      "cell_type": "markdown",
      "metadata": {
        "id": "dU12Ba4HbbF4"
      },
      "source": [
        "# Loop through texts and apply openrouter\n",
        "\n"
      ]
    },
    {
      "cell_type": "code",
      "source": [
        "for file, text  in texts.items():\n",
        "  print(text)"
      ],
      "metadata": {
        "colab": {
          "base_uri": "https://localhost:8080/"
        },
        "id": "Qqoi4fgXjFuO",
        "outputId": "68de28b2-9e79-4460-eb74-651e7ffe4bc4"
      },
      "execution_count": 17,
      "outputs": [
        {
          "output_type": "stream",
          "name": "stdout",
          "text": [
            "31 and ready to stop existing I've made so many mistakes, medicated or not that desire is still there. Husband decides he's ready to divorce mostly all of my fault. I don't see a way to ever feel happy again. The years of depression (18 years) have won.\n",
            "\n",
            "<PERSON> new to the sub, so I don't really know if this is the right place to ask for help, but I've been told that this is probably linked to some form of anxiety. I've recently gotten over depression through the help of a medication, and since I've started feeling better, I've been feeling a lot more on edge, and social situations and various other interactions have gotten a lot harder. There are times where I'll be talking with somebody (this can be any person, talking about anything. I've had it happen with teachers, relatives, and even some of my closest friends, so I don't think its related to who I'm talking to), and some kind of response is prompted, I come up with an answer/response, but there is something that is physically not letting me say the words. I just stand there with my mouth open trying to say something but I physically can't, and its gotten bad enough that I avoid certain interactions out of fear that it's going to happen again. I've also been taking a different medication that is supposed to help with anxiety as well as depression, but this continues to happen.\n",
            "My GAD is starting to ruin my life. I recently left a job that I was really great at, I worked there for 8 years. I left because I was tired of retail hours and I am recently married, so I wanted a better work-life balance. I had no idea that leaving that job and starting a new one would cause debilitating anxiety. For about 3.5 weeks now, I have woken up every morning with extreme nausea and vomiting. This has caused me to quit literally three new jobs since April. I don't know what to do, I don't know how to cope. I just started taking lexapro about 1.5 weeks ago, and I have noticed that I am feeling better. I have a job interview on friday for the same line of work i used to be in, just the competitor. I'm hoping the fact that I'll already know how to do this job will put me in a better place. But what do i do? I'm worried my husband is going to start hating me. He ended up taking me to the hospital last week cause i started vomiting blood and got diagnosed with gastritis, doctor said that it was caused 1000% by my anxiety. what do I do? how can i find a job and live like this?\n",
            "Anxiety Breakthrough Had a big breakthrough today about my anxiety. Currently withdrawing off of benzos so my anxiety is quite high. I experience a lot of dissociation when I’m anxious, my bodies way to cope. Usually when driving I start to freak out when I dissociate so it makes it worse but today I said fuck it this feels kind of cool. Trying to enjoy the feeling actually made it less and less prominent. Also I have anxiety that when I dissociate I’ll hit another car or something dumb, I literally tried to make myself hit a car and it wasn’t possible my brain stopped myself every time. It’s really crazy how the brain works. Accept the feeling and enjoy it no matter how shitty it is.\n",
            "Would drinking isopropyl alcohol kill me? Would it be any better than bleach?\n"
          ]
        }
      ]
    },
    {
      "cell_type": "markdown",
      "source": [
        "Run LLM on data"
      ],
      "metadata": {
        "id": "7ovr5ULljLhZ"
      }
    },
    {
      "cell_type": "code",
      "execution_count": 18,
      "metadata": {
        "id": "cW7BfHzJv2X2",
        "cellView": "form"
      },
      "outputs": [],
      "source": [
        "# @title\n",
        "print_results = False #@param {type:\"boolean\"}\n",
        "\n",
        "results = {}\n",
        "\n",
        "for file, text  in texts.items():\n",
        "    prompt = prompt_template_with_definitions.format(context = 'mental health',\n",
        "              categories = categories_with_definitions,\n",
        "              text= text\n",
        "              )\n",
        "\n",
        "    if print_results:\n",
        "      print(prompt)\n",
        "\n",
        "    # Make request. WARNING: this costs some money depending on model\n",
        "    response, metadata = openrouter_request(prompt, OPENROUTER_API_KEY, model = model, temperature=0)\n",
        "    results[file] = response\n",
        "\n",
        "    if print_results:\n",
        "      print('---------------------')\n",
        "      print(response)\n",
        "      print('\\n========================\\n')\n"
      ]
    },
    {
      "cell_type": "code",
      "execution_count": 19,
      "metadata": {
        "colab": {
          "base_uri": "https://localhost:8080/"
        },
        "id": "IpQoJPbGbbF4",
        "outputId": "17420e77-7428-4eda-cc5a-8028096ca1a5"
      },
      "outputs": [
        {
          "output_type": "execute_result",
          "data": {
            "text/plain": [
              "{'1_suicidewatch': {'desire to escape': [0, []],\n",
              "  'suicidal ideation': [2, ['ready to stop existing']],\n",
              "  'anxiety': [0, []],\n",
              "  'loneliness': [0, []]},\n",
              " '2_anxiety': {'desire to escape': [0, []],\n",
              "  'suicidal ideation': [0, []],\n",
              "  'anxiety': [2, ['anxiety', 'on edge', 'fear']],\n",
              "  'loneliness': [0, []]},\n",
              " '3_anxiety': {'desire to escape': [0, []],\n",
              "  'suicidal ideation': [0, []],\n",
              "  'anxiety': [2,\n",
              "   ['GAD',\n",
              "    'debilitating anxiety',\n",
              "    'extreme nausea and vomiting',\n",
              "    'worried',\n",
              "    'gastritis, doctor said that it was caused 1000% by my anxiety']],\n",
              "  'loneliness': [0, []]},\n",
              " '4_anxiety': {'desire to escape': [0, []],\n",
              "  'suicidal ideation': [0, []],\n",
              "  'anxiety': [2, ['anxiety', 'anxious', 'freak out']],\n",
              "  'loneliness': [0, []]},\n",
              " '5_suicidewatch': {'desire to escape': [0, []],\n",
              "  'suicidal ideation': [2, ['kill me']],\n",
              "  'anxiety': [0, []],\n",
              "  'loneliness': [0, []]}}"
            ]
          },
          "metadata": {},
          "execution_count": 19
        }
      ],
      "source": [
        "results"
      ]
    },
    {
      "cell_type": "code",
      "execution_count": 20,
      "metadata": {
        "id": "pUSHMK3-u9Pq",
        "colab": {
          "base_uri": "https://localhost:8080/"
        },
        "outputId": "c138e93b-20c8-4a68-aa4c-4f71292e333b"
      },
      "outputs": [
        {
          "output_type": "execute_result",
          "data": {
            "text/plain": [
              "{'id': 'gen-1761751545-7551ycjP1rSYtf5hgJDs',\n",
              " 'provider': 'Google',\n",
              " 'model': 'google/gemini-2.5-flash',\n",
              " 'object': 'chat.completion',\n",
              " 'created': 1761751545,\n",
              " 'choices': [{'logprobs': None,\n",
              "   'finish_reason': 'stop',\n",
              "   'native_finish_reason': 'STOP',\n",
              "   'index': 0,\n",
              "   'message': {'role': 'assistant',\n",
              "    'content': '{\\n  \"desire to escape\": [\\n    0,\\n    []\\n  ],\\n  \"suicidal ideation\": [\\n    2,\\n    [\\n      \"kill me\"\\n    ]\\n  ],\\n  \"anxiety\": [\\n    0,\\n    []\\n  ],\\n  \"loneliness\": [\\n    0,\\n    []\\n  ]\\n}',\n",
              "    'refusal': None,\n",
              "    'reasoning': None}}],\n",
              " 'usage': {'prompt_tokens': 484,\n",
              "  'completion_tokens': 82,\n",
              "  'total_tokens': 566,\n",
              "  'prompt_tokens_details': {'cached_tokens': 0},\n",
              "  'completion_tokens_details': {'reasoning_tokens': 0, 'image_tokens': 0}}}"
            ]
          },
          "metadata": {},
          "execution_count": 20
        }
      ],
      "source": [
        "# Format JSON into CSV\n",
        "metadata\n"
      ]
    },
    {
      "cell_type": "markdown",
      "metadata": {
        "id": "kVysdW5YbbF4"
      },
      "source": [
        "# Turn JSON results into a csv\n",
        "With each document as a row and each category as a column"
      ]
    },
    {
      "cell_type": "code",
      "execution_count": 21,
      "metadata": {
        "cellView": "form",
        "colab": {
          "base_uri": "https://localhost:8080/",
          "height": 278
        },
        "id": "k9atIoY1bbF4",
        "outputId": "b47d7d86-73a3-4e41-a7f0-89ec53e680e0"
      },
      "outputs": [
        {
          "output_type": "display_data",
          "data": {
            "text/plain": [
              "         sentence  desire to escape_score desire to escape_explanation  \\\n",
              "0  1_suicidewatch                       0                           []   \n",
              "1       2_anxiety                       0                           []   \n",
              "2       3_anxiety                       0                           []   \n",
              "3       4_anxiety                       0                           []   \n",
              "4  5_suicidewatch                       0                           []   \n",
              "\n",
              "   suicidal ideation_score suicidal ideation_explanation  anxiety_score  \\\n",
              "0                        2      [ready to stop existing]              0   \n",
              "1                        0                            []              2   \n",
              "2                        0                            []              2   \n",
              "3                        0                            []              2   \n",
              "4                        2                     [kill me]              0   \n",
              "\n",
              "                                 anxiety_explanation  loneliness_score  \\\n",
              "0                                                 []                 0   \n",
              "1                           [anxiety, on edge, fear]                 0   \n",
              "2  [GAD, debilitating anxiety, extreme nausea and...                 0   \n",
              "3                      [anxiety, anxious, freak out]                 0   \n",
              "4                                                 []                 0   \n",
              "\n",
              "  loneliness_explanation  \n",
              "0                     []  \n",
              "1                     []  \n",
              "2                     []  \n",
              "3                     []  \n",
              "4                     []  "
            ],
            "text/html": [
              "\n",
              "  <div id=\"df-f544509d-3cd4-4e63-9a94-62ddd49a7665\" class=\"colab-df-container\">\n",
              "    <div>\n",
              "<style scoped>\n",
              "    .dataframe tbody tr th:only-of-type {\n",
              "        vertical-align: middle;\n",
              "    }\n",
              "\n",
              "    .dataframe tbody tr th {\n",
              "        vertical-align: top;\n",
              "    }\n",
              "\n",
              "    .dataframe thead th {\n",
              "        text-align: right;\n",
              "    }\n",
              "</style>\n",
              "<table border=\"1\" class=\"dataframe\">\n",
              "  <thead>\n",
              "    <tr style=\"text-align: right;\">\n",
              "      <th></th>\n",
              "      <th>sentence</th>\n",
              "      <th>desire to escape_score</th>\n",
              "      <th>desire to escape_explanation</th>\n",
              "      <th>suicidal ideation_score</th>\n",
              "      <th>suicidal ideation_explanation</th>\n",
              "      <th>anxiety_score</th>\n",
              "      <th>anxiety_explanation</th>\n",
              "      <th>loneliness_score</th>\n",
              "      <th>loneliness_explanation</th>\n",
              "    </tr>\n",
              "  </thead>\n",
              "  <tbody>\n",
              "    <tr>\n",
              "      <th>0</th>\n",
              "      <td>1_suicidewatch</td>\n",
              "      <td>0</td>\n",
              "      <td>[]</td>\n",
              "      <td>2</td>\n",
              "      <td>[ready to stop existing]</td>\n",
              "      <td>0</td>\n",
              "      <td>[]</td>\n",
              "      <td>0</td>\n",
              "      <td>[]</td>\n",
              "    </tr>\n",
              "    <tr>\n",
              "      <th>1</th>\n",
              "      <td>2_anxiety</td>\n",
              "      <td>0</td>\n",
              "      <td>[]</td>\n",
              "      <td>0</td>\n",
              "      <td>[]</td>\n",
              "      <td>2</td>\n",
              "      <td>[anxiety, on edge, fear]</td>\n",
              "      <td>0</td>\n",
              "      <td>[]</td>\n",
              "    </tr>\n",
              "    <tr>\n",
              "      <th>2</th>\n",
              "      <td>3_anxiety</td>\n",
              "      <td>0</td>\n",
              "      <td>[]</td>\n",
              "      <td>0</td>\n",
              "      <td>[]</td>\n",
              "      <td>2</td>\n",
              "      <td>[GAD, debilitating anxiety, extreme nausea and...</td>\n",
              "      <td>0</td>\n",
              "      <td>[]</td>\n",
              "    </tr>\n",
              "    <tr>\n",
              "      <th>3</th>\n",
              "      <td>4_anxiety</td>\n",
              "      <td>0</td>\n",
              "      <td>[]</td>\n",
              "      <td>0</td>\n",
              "      <td>[]</td>\n",
              "      <td>2</td>\n",
              "      <td>[anxiety, anxious, freak out]</td>\n",
              "      <td>0</td>\n",
              "      <td>[]</td>\n",
              "    </tr>\n",
              "    <tr>\n",
              "      <th>4</th>\n",
              "      <td>5_suicidewatch</td>\n",
              "      <td>0</td>\n",
              "      <td>[]</td>\n",
              "      <td>2</td>\n",
              "      <td>[kill me]</td>\n",
              "      <td>0</td>\n",
              "      <td>[]</td>\n",
              "      <td>0</td>\n",
              "      <td>[]</td>\n",
              "    </tr>\n",
              "  </tbody>\n",
              "</table>\n",
              "</div>\n",
              "    <div class=\"colab-df-buttons\">\n",
              "\n",
              "  <div class=\"colab-df-container\">\n",
              "    <button class=\"colab-df-convert\" onclick=\"convertToInteractive('df-f544509d-3cd4-4e63-9a94-62ddd49a7665')\"\n",
              "            title=\"Convert this dataframe to an interactive table.\"\n",
              "            style=\"display:none;\">\n",
              "\n",
              "  <svg xmlns=\"http://www.w3.org/2000/svg\" height=\"24px\" viewBox=\"0 -960 960 960\">\n",
              "    <path d=\"M120-120v-720h720v720H120Zm60-500h600v-160H180v160Zm220 220h160v-160H400v160Zm0 220h160v-160H400v160ZM180-400h160v-160H180v160Zm440 0h160v-160H620v160ZM180-180h160v-160H180v160Zm440 0h160v-160H620v160Z\"/>\n",
              "  </svg>\n",
              "    </button>\n",
              "\n",
              "  <style>\n",
              "    .colab-df-container {\n",
              "      display:flex;\n",
              "      gap: 12px;\n",
              "    }\n",
              "\n",
              "    .colab-df-convert {\n",
              "      background-color: #E8F0FE;\n",
              "      border: none;\n",
              "      border-radius: 50%;\n",
              "      cursor: pointer;\n",
              "      display: none;\n",
              "      fill: #1967D2;\n",
              "      height: 32px;\n",
              "      padding: 0 0 0 0;\n",
              "      width: 32px;\n",
              "    }\n",
              "\n",
              "    .colab-df-convert:hover {\n",
              "      background-color: #E2EBFA;\n",
              "      box-shadow: 0px 1px 2px rgba(60, 64, 67, 0.3), 0px 1px 3px 1px rgba(60, 64, 67, 0.15);\n",
              "      fill: #174EA6;\n",
              "    }\n",
              "\n",
              "    .colab-df-buttons div {\n",
              "      margin-bottom: 4px;\n",
              "    }\n",
              "\n",
              "    [theme=dark] .colab-df-convert {\n",
              "      background-color: #3B4455;\n",
              "      fill: #D2E3FC;\n",
              "    }\n",
              "\n",
              "    [theme=dark] .colab-df-convert:hover {\n",
              "      background-color: #434B5C;\n",
              "      box-shadow: 0px 1px 3px 1px rgba(0, 0, 0, 0.15);\n",
              "      filter: drop-shadow(0px 1px 2px rgba(0, 0, 0, 0.3));\n",
              "      fill: #FFFFFF;\n",
              "    }\n",
              "  </style>\n",
              "\n",
              "    <script>\n",
              "      const buttonEl =\n",
              "        document.querySelector('#df-f544509d-3cd4-4e63-9a94-62ddd49a7665 button.colab-df-convert');\n",
              "      buttonEl.style.display =\n",
              "        google.colab.kernel.accessAllowed ? 'block' : 'none';\n",
              "\n",
              "      async function convertToInteractive(key) {\n",
              "        const element = document.querySelector('#df-f544509d-3cd4-4e63-9a94-62ddd49a7665');\n",
              "        const dataTable =\n",
              "          await google.colab.kernel.invokeFunction('convertToInteractive',\n",
              "                                                    [key], {});\n",
              "        if (!dataTable) return;\n",
              "\n",
              "        const docLinkHtml = 'Like what you see? Visit the ' +\n",
              "          '<a target=\"_blank\" href=https://colab.research.google.com/notebooks/data_table.ipynb>data table notebook</a>'\n",
              "          + ' to learn more about interactive tables.';\n",
              "        element.innerHTML = '';\n",
              "        dataTable['output_type'] = 'display_data';\n",
              "        await google.colab.output.renderOutput(dataTable, element);\n",
              "        const docLink = document.createElement('div');\n",
              "        docLink.innerHTML = docLinkHtml;\n",
              "        element.appendChild(docLink);\n",
              "      }\n",
              "    </script>\n",
              "  </div>\n",
              "\n",
              "\n",
              "    <div id=\"df-26d518b0-46da-4485-8bbc-2f7f2a199fdb\">\n",
              "      <button class=\"colab-df-quickchart\" onclick=\"quickchart('df-26d518b0-46da-4485-8bbc-2f7f2a199fdb')\"\n",
              "                title=\"Suggest charts\"\n",
              "                style=\"display:none;\">\n",
              "\n",
              "<svg xmlns=\"http://www.w3.org/2000/svg\" height=\"24px\"viewBox=\"0 0 24 24\"\n",
              "     width=\"24px\">\n",
              "    <g>\n",
              "        <path d=\"M19 3H5c-1.1 0-2 .9-2 2v14c0 1.1.9 2 2 2h14c1.1 0 2-.9 2-2V5c0-1.1-.9-2-2-2zM9 17H7v-7h2v7zm4 0h-2V7h2v10zm4 0h-2v-4h2v4z\"/>\n",
              "    </g>\n",
              "</svg>\n",
              "      </button>\n",
              "\n",
              "<style>\n",
              "  .colab-df-quickchart {\n",
              "      --bg-color: #E8F0FE;\n",
              "      --fill-color: #1967D2;\n",
              "      --hover-bg-color: #E2EBFA;\n",
              "      --hover-fill-color: #174EA6;\n",
              "      --disabled-fill-color: #AAA;\n",
              "      --disabled-bg-color: #DDD;\n",
              "  }\n",
              "\n",
              "  [theme=dark] .colab-df-quickchart {\n",
              "      --bg-color: #3B4455;\n",
              "      --fill-color: #D2E3FC;\n",
              "      --hover-bg-color: #434B5C;\n",
              "      --hover-fill-color: #FFFFFF;\n",
              "      --disabled-bg-color: #3B4455;\n",
              "      --disabled-fill-color: #666;\n",
              "  }\n",
              "\n",
              "  .colab-df-quickchart {\n",
              "    background-color: var(--bg-color);\n",
              "    border: none;\n",
              "    border-radius: 50%;\n",
              "    cursor: pointer;\n",
              "    display: none;\n",
              "    fill: var(--fill-color);\n",
              "    height: 32px;\n",
              "    padding: 0;\n",
              "    width: 32px;\n",
              "  }\n",
              "\n",
              "  .colab-df-quickchart:hover {\n",
              "    background-color: var(--hover-bg-color);\n",
              "    box-shadow: 0 1px 2px rgba(60, 64, 67, 0.3), 0 1px 3px 1px rgba(60, 64, 67, 0.15);\n",
              "    fill: var(--button-hover-fill-color);\n",
              "  }\n",
              "\n",
              "  .colab-df-quickchart-complete:disabled,\n",
              "  .colab-df-quickchart-complete:disabled:hover {\n",
              "    background-color: var(--disabled-bg-color);\n",
              "    fill: var(--disabled-fill-color);\n",
              "    box-shadow: none;\n",
              "  }\n",
              "\n",
              "  .colab-df-spinner {\n",
              "    border: 2px solid var(--fill-color);\n",
              "    border-color: transparent;\n",
              "    border-bottom-color: var(--fill-color);\n",
              "    animation:\n",
              "      spin 1s steps(1) infinite;\n",
              "  }\n",
              "\n",
              "  @keyframes spin {\n",
              "    0% {\n",
              "      border-color: transparent;\n",
              "      border-bottom-color: var(--fill-color);\n",
              "      border-left-color: var(--fill-color);\n",
              "    }\n",
              "    20% {\n",
              "      border-color: transparent;\n",
              "      border-left-color: var(--fill-color);\n",
              "      border-top-color: var(--fill-color);\n",
              "    }\n",
              "    30% {\n",
              "      border-color: transparent;\n",
              "      border-left-color: var(--fill-color);\n",
              "      border-top-color: var(--fill-color);\n",
              "      border-right-color: var(--fill-color);\n",
              "    }\n",
              "    40% {\n",
              "      border-color: transparent;\n",
              "      border-right-color: var(--fill-color);\n",
              "      border-top-color: var(--fill-color);\n",
              "    }\n",
              "    60% {\n",
              "      border-color: transparent;\n",
              "      border-right-color: var(--fill-color);\n",
              "    }\n",
              "    80% {\n",
              "      border-color: transparent;\n",
              "      border-right-color: var(--fill-color);\n",
              "      border-bottom-color: var(--fill-color);\n",
              "    }\n",
              "    90% {\n",
              "      border-color: transparent;\n",
              "      border-bottom-color: var(--fill-color);\n",
              "    }\n",
              "  }\n",
              "</style>\n",
              "\n",
              "      <script>\n",
              "        async function quickchart(key) {\n",
              "          const quickchartButtonEl =\n",
              "            document.querySelector('#' + key + ' button');\n",
              "          quickchartButtonEl.disabled = true;  // To prevent multiple clicks.\n",
              "          quickchartButtonEl.classList.add('colab-df-spinner');\n",
              "          try {\n",
              "            const charts = await google.colab.kernel.invokeFunction(\n",
              "                'suggestCharts', [key], {});\n",
              "          } catch (error) {\n",
              "            console.error('Error during call to suggestCharts:', error);\n",
              "          }\n",
              "          quickchartButtonEl.classList.remove('colab-df-spinner');\n",
              "          quickchartButtonEl.classList.add('colab-df-quickchart-complete');\n",
              "        }\n",
              "        (() => {\n",
              "          let quickchartButtonEl =\n",
              "            document.querySelector('#df-26d518b0-46da-4485-8bbc-2f7f2a199fdb button');\n",
              "          quickchartButtonEl.style.display =\n",
              "            google.colab.kernel.accessAllowed ? 'block' : 'none';\n",
              "        })();\n",
              "      </script>\n",
              "    </div>\n",
              "\n",
              "  <div id=\"id_c3afcf23-8182-4cb7-af65-1e92b50a19ac\">\n",
              "    <style>\n",
              "      .colab-df-generate {\n",
              "        background-color: #E8F0FE;\n",
              "        border: none;\n",
              "        border-radius: 50%;\n",
              "        cursor: pointer;\n",
              "        display: none;\n",
              "        fill: #1967D2;\n",
              "        height: 32px;\n",
              "        padding: 0 0 0 0;\n",
              "        width: 32px;\n",
              "      }\n",
              "\n",
              "      .colab-df-generate:hover {\n",
              "        background-color: #E2EBFA;\n",
              "        box-shadow: 0px 1px 2px rgba(60, 64, 67, 0.3), 0px 1px 3px 1px rgba(60, 64, 67, 0.15);\n",
              "        fill: #174EA6;\n",
              "      }\n",
              "\n",
              "      [theme=dark] .colab-df-generate {\n",
              "        background-color: #3B4455;\n",
              "        fill: #D2E3FC;\n",
              "      }\n",
              "\n",
              "      [theme=dark] .colab-df-generate:hover {\n",
              "        background-color: #434B5C;\n",
              "        box-shadow: 0px 1px 3px 1px rgba(0, 0, 0, 0.15);\n",
              "        filter: drop-shadow(0px 1px 2px rgba(0, 0, 0, 0.3));\n",
              "        fill: #FFFFFF;\n",
              "      }\n",
              "    </style>\n",
              "    <button class=\"colab-df-generate\" onclick=\"generateWithVariable('df')\"\n",
              "            title=\"Generate code using this dataframe.\"\n",
              "            style=\"display:none;\">\n",
              "\n",
              "  <svg xmlns=\"http://www.w3.org/2000/svg\" height=\"24px\"viewBox=\"0 0 24 24\"\n",
              "       width=\"24px\">\n",
              "    <path d=\"M7,19H8.4L18.45,9,17,7.55,7,17.6ZM5,21V16.75L18.45,3.32a2,2,0,0,1,2.83,0l1.4,1.43a1.91,1.91,0,0,1,.58,1.4,1.91,1.91,0,0,1-.58,1.4L9.25,21ZM18.45,9,17,7.55Zm-12,3A5.31,5.31,0,0,0,4.9,8.1,5.31,5.31,0,0,0,1,6.5,5.31,5.31,0,0,0,4.9,4.9,5.31,5.31,0,0,0,6.5,1,5.31,5.31,0,0,0,8.1,4.9,5.31,5.31,0,0,0,12,6.5,5.46,5.46,0,0,0,6.5,12Z\"/>\n",
              "  </svg>\n",
              "    </button>\n",
              "    <script>\n",
              "      (() => {\n",
              "      const buttonEl =\n",
              "        document.querySelector('#id_c3afcf23-8182-4cb7-af65-1e92b50a19ac button.colab-df-generate');\n",
              "      buttonEl.style.display =\n",
              "        google.colab.kernel.accessAllowed ? 'block' : 'none';\n",
              "\n",
              "      buttonEl.onclick = () => {\n",
              "        google.colab.notebook.generateWithVariable('df');\n",
              "      }\n",
              "      })();\n",
              "    </script>\n",
              "  </div>\n",
              "\n",
              "    </div>\n",
              "  </div>\n"
            ],
            "application/vnd.google.colaboratory.intrinsic+json": {
              "type": "dataframe",
              "variable_name": "df",
              "summary": "{\n  \"name\": \"df\",\n  \"rows\": 5,\n  \"fields\": [\n    {\n      \"column\": \"sentence\",\n      \"properties\": {\n        \"dtype\": \"string\",\n        \"num_unique_values\": 5,\n        \"samples\": [\n          \"2_anxiety\",\n          \"5_suicidewatch\",\n          \"3_anxiety\"\n        ],\n        \"semantic_type\": \"\",\n        \"description\": \"\"\n      }\n    },\n    {\n      \"column\": \"desire to escape_score\",\n      \"properties\": {\n        \"dtype\": \"number\",\n        \"std\": 0,\n        \"min\": 0,\n        \"max\": 0,\n        \"num_unique_values\": 1,\n        \"samples\": [\n          0\n        ],\n        \"semantic_type\": \"\",\n        \"description\": \"\"\n      }\n    },\n    {\n      \"column\": \"desire to escape_explanation\",\n      \"properties\": {\n        \"dtype\": \"object\",\n        \"semantic_type\": \"\",\n        \"description\": \"\"\n      }\n    },\n    {\n      \"column\": \"suicidal ideation_score\",\n      \"properties\": {\n        \"dtype\": \"number\",\n        \"std\": 1,\n        \"min\": 0,\n        \"max\": 2,\n        \"num_unique_values\": 2,\n        \"samples\": [\n          0\n        ],\n        \"semantic_type\": \"\",\n        \"description\": \"\"\n      }\n    },\n    {\n      \"column\": \"suicidal ideation_explanation\",\n      \"properties\": {\n        \"dtype\": \"object\",\n        \"semantic_type\": \"\",\n        \"description\": \"\"\n      }\n    },\n    {\n      \"column\": \"anxiety_score\",\n      \"properties\": {\n        \"dtype\": \"number\",\n        \"std\": 1,\n        \"min\": 0,\n        \"max\": 2,\n        \"num_unique_values\": 2,\n        \"samples\": [\n          2\n        ],\n        \"semantic_type\": \"\",\n        \"description\": \"\"\n      }\n    },\n    {\n      \"column\": \"anxiety_explanation\",\n      \"properties\": {\n        \"dtype\": \"object\",\n        \"semantic_type\": \"\",\n        \"description\": \"\"\n      }\n    },\n    {\n      \"column\": \"loneliness_score\",\n      \"properties\": {\n        \"dtype\": \"number\",\n        \"std\": 0,\n        \"min\": 0,\n        \"max\": 0,\n        \"num_unique_values\": 1,\n        \"samples\": [\n          0\n        ],\n        \"semantic_type\": \"\",\n        \"description\": \"\"\n      }\n    },\n    {\n      \"column\": \"loneliness_explanation\",\n      \"properties\": {\n        \"dtype\": \"object\",\n        \"semantic_type\": \"\",\n        \"description\": \"\"\n      }\n    }\n  ]\n}"
            }
          },
          "metadata": {}
        }
      ],
      "source": [
        "\n",
        "output_path = \"./data/output/openrouter_results.csv\" #@param {type:\"string\"}\n",
        "\n",
        "rows = []\n",
        "for post_id, categories in results.items():\n",
        "    row = {'sentence': post_id}\n",
        "    for category, (score, explanation) in categories.items():\n",
        "        row[f'{category}_score'] = score\n",
        "        row[f'{category}_explanation'] = explanation\n",
        "    rows.append(row)\n",
        "\n",
        "# Create DataFrame\n",
        "df = pd.DataFrame(rows)\n",
        "display(df)\n",
        "df.to_csv(output_path, index=False)\n"
      ]
    },
    {
      "cell_type": "code",
      "execution_count": 22,
      "metadata": {
        "colab": {
          "base_uri": "https://localhost:8080/"
        },
        "id": "S6gqpHPhbbF4",
        "outputId": "24634c9c-1f6a-4400-cdd7-8361da14c095"
      },
      "outputs": [
        {
          "output_type": "execute_result",
          "data": {
            "text/plain": [
              "{'1_suicidewatch': {'desire to escape': [0, []],\n",
              "  'suicidal ideation': [2, ['ready to stop existing']],\n",
              "  'anxiety': [0, []],\n",
              "  'loneliness': [0, []]},\n",
              " '2_anxiety': {'desire to escape': [0, []],\n",
              "  'suicidal ideation': [0, []],\n",
              "  'anxiety': [2, ['anxiety', 'on edge', 'fear']],\n",
              "  'loneliness': [0, []]},\n",
              " '3_anxiety': {'desire to escape': [0, []],\n",
              "  'suicidal ideation': [0, []],\n",
              "  'anxiety': [2,\n",
              "   ['GAD',\n",
              "    'debilitating anxiety',\n",
              "    'extreme nausea and vomiting',\n",
              "    'worried',\n",
              "    'gastritis, doctor said that it was caused 1000% by my anxiety']],\n",
              "  'loneliness': [0, []]},\n",
              " '4_anxiety': {'desire to escape': [0, []],\n",
              "  'suicidal ideation': [0, []],\n",
              "  'anxiety': [2, ['anxiety', 'anxious', 'freak out']],\n",
              "  'loneliness': [0, []]},\n",
              " '5_suicidewatch': {'desire to escape': [0, []],\n",
              "  'suicidal ideation': [2, ['kill me']],\n",
              "  'anxiety': [0, []],\n",
              "  'loneliness': [0, []]}}"
            ]
          },
          "metadata": {},
          "execution_count": 22
        }
      ],
      "source": [
        "results"
      ]
    },
    {
      "cell_type": "code",
      "execution_count": 23,
      "metadata": {
        "colab": {
          "base_uri": "https://localhost:8080/"
        },
        "id": "YHAItnvJbbF4",
        "outputId": "7a6de9b8-fa3f-4dce-e6b7-7284cb74cdae"
      },
      "outputs": [
        {
          "output_type": "stream",
          "name": "stdout",
          "text": [
            "post_id:  5_suicidewatch\n",
            "categories:  {'desire to escape': [0, []], 'suicidal ideation': [2, ['kill me']], 'anxiety': [0, []], 'loneliness': [0, []]}\n",
            "category:  loneliness\n",
            "score:  0\n",
            "explanation:  []\n"
          ]
        }
      ],
      "source": [
        "print('post_id: ', post_id)\n",
        "print('categories: ', categories)\n",
        "print('category: ', category)\n",
        "print('score: ', score)\n",
        "print('explanation: ', explanation)\n"
      ]
    },
    {
      "cell_type": "markdown",
      "metadata": {
        "id": "0ERKtxrjbbF4"
      },
      "source": [
        "# Example doing something completely different: extracting linguistic features from text"
      ]
    },
    {
      "cell_type": "code",
      "execution_count": 24,
      "metadata": {
        "id": "mVx95glubbF4"
      },
      "outputs": [],
      "source": [
        "# Choose which prompt to use\n",
        "prompt_template = \"\"\"For the following text, return the tense, aspect, and verbal mood for each verb phrase:\n",
        "\n",
        "{text}\n",
        "\n",
        "Structure your answer in the following JSON format (without extra text):\n",
        "{{verbal_phrase_A: ['tense': , 'aspect': , 'mood': ], verbal_phrase_B: […] }}\n",
        "\n",
        "JSON:\n",
        "\"\"\"\n",
        "\n",
        "\n",
        "texts_2 = {'001': \"I suspect, however, that he was not very capable of thinking. To think is to forget differences, to generalize, to abstract. In Funes's crowded world there were only details, almost immediate ones.\"}\n",
        "\n",
        "prompt = prompt_template.format(text = texts_2.get('001'))\n",
        "\n",
        "final_result, metadata = openrouter_request(prompt, OPENROUTER_API_KEY, model = model, temperature=0)"
      ]
    },
    {
      "cell_type": "code",
      "source": [
        "\n",
        "print(prompt)"
      ],
      "metadata": {
        "colab": {
          "base_uri": "https://localhost:8080/"
        },
        "id": "6CY0WxYnkJaX",
        "outputId": "7f4cf914-e577-478b-ed78-a25a5f8be67a"
      },
      "execution_count": 25,
      "outputs": [
        {
          "output_type": "stream",
          "name": "stdout",
          "text": [
            "For the following text, return the tense, aspect, and verbal mood for each verb phrase:\n",
            "\n",
            "I suspect, however, that he was not very capable of thinking. To think is to forget differences, to generalize, to abstract. In Funes's crowded world there were only details, almost immediate ones.\n",
            "\n",
            "Structure your answer in the following JSON format (without extra text):\n",
            "{verbal_phrase_A: ['tense': , 'aspect': , 'mood': ], verbal_phrase_B: […] }\n",
            "\n",
            "JSON:\n",
            "\n"
          ]
        }
      ]
    },
    {
      "cell_type": "code",
      "execution_count": 26,
      "metadata": {
        "colab": {
          "base_uri": "https://localhost:8080/"
        },
        "id": "_3QP9u70bbF4",
        "outputId": "8b0496d2-76f5-4310-9bb4-4451519850d6"
      },
      "outputs": [
        {
          "output_type": "execute_result",
          "data": {
            "text/plain": [
              "{'suspect': {'tense': 'present', 'aspect': 'simple', 'mood': 'indicative'},\n",
              " 'was': {'tense': 'past', 'aspect': 'simple', 'mood': 'indicative'},\n",
              " 'thinking': {'tense': 'present',\n",
              "  'aspect': 'progressive',\n",
              "  'mood': 'indicative'},\n",
              " 'think': {'tense': 'present', 'aspect': 'simple', 'mood': 'infinitive'},\n",
              " 'forget': {'tense': 'present', 'aspect': 'simple', 'mood': 'infinitive'},\n",
              " 'generalize': {'tense': 'present', 'aspect': 'simple', 'mood': 'infinitive'},\n",
              " 'abstract': {'tense': 'present', 'aspect': 'simple', 'mood': 'infinitive'},\n",
              " 'were': {'tense': 'past', 'aspect': 'simple', 'mood': 'indicative'}}"
            ]
          },
          "metadata": {},
          "execution_count": 26
        }
      ],
      "source": [
        "final_result"
      ]
    },
    {
      "cell_type": "code",
      "execution_count": 27,
      "metadata": {
        "colab": {
          "base_uri": "https://localhost:8080/",
          "height": 300
        },
        "id": "RJItRWpVbbF5",
        "outputId": "54f8e513-606b-46df-f100-94149f8dfd99"
      },
      "outputs": [
        {
          "output_type": "execute_result",
          "data": {
            "text/plain": [
              "  Verbal phrase    tense       aspect        mood text\n",
              "0       suspect  present       simple  indicative  001\n",
              "1           was     past       simple  indicative  001\n",
              "2      thinking  present  progressive  indicative  001\n",
              "3         think  present       simple  infinitive  001\n",
              "4        forget  present       simple  infinitive  001\n",
              "5    generalize  present       simple  infinitive  001\n",
              "6      abstract  present       simple  infinitive  001\n",
              "7          were     past       simple  indicative  001"
            ],
            "text/html": [
              "\n",
              "  <div id=\"df-de07d877-5b90-4867-815a-a825e820c684\" class=\"colab-df-container\">\n",
              "    <div>\n",
              "<style scoped>\n",
              "    .dataframe tbody tr th:only-of-type {\n",
              "        vertical-align: middle;\n",
              "    }\n",
              "\n",
              "    .dataframe tbody tr th {\n",
              "        vertical-align: top;\n",
              "    }\n",
              "\n",
              "    .dataframe thead th {\n",
              "        text-align: right;\n",
              "    }\n",
              "</style>\n",
              "<table border=\"1\" class=\"dataframe\">\n",
              "  <thead>\n",
              "    <tr style=\"text-align: right;\">\n",
              "      <th></th>\n",
              "      <th>Verbal phrase</th>\n",
              "      <th>tense</th>\n",
              "      <th>aspect</th>\n",
              "      <th>mood</th>\n",
              "      <th>text</th>\n",
              "    </tr>\n",
              "  </thead>\n",
              "  <tbody>\n",
              "    <tr>\n",
              "      <th>0</th>\n",
              "      <td>suspect</td>\n",
              "      <td>present</td>\n",
              "      <td>simple</td>\n",
              "      <td>indicative</td>\n",
              "      <td>001</td>\n",
              "    </tr>\n",
              "    <tr>\n",
              "      <th>1</th>\n",
              "      <td>was</td>\n",
              "      <td>past</td>\n",
              "      <td>simple</td>\n",
              "      <td>indicative</td>\n",
              "      <td>001</td>\n",
              "    </tr>\n",
              "    <tr>\n",
              "      <th>2</th>\n",
              "      <td>thinking</td>\n",
              "      <td>present</td>\n",
              "      <td>progressive</td>\n",
              "      <td>indicative</td>\n",
              "      <td>001</td>\n",
              "    </tr>\n",
              "    <tr>\n",
              "      <th>3</th>\n",
              "      <td>think</td>\n",
              "      <td>present</td>\n",
              "      <td>simple</td>\n",
              "      <td>infinitive</td>\n",
              "      <td>001</td>\n",
              "    </tr>\n",
              "    <tr>\n",
              "      <th>4</th>\n",
              "      <td>forget</td>\n",
              "      <td>present</td>\n",
              "      <td>simple</td>\n",
              "      <td>infinitive</td>\n",
              "      <td>001</td>\n",
              "    </tr>\n",
              "    <tr>\n",
              "      <th>5</th>\n",
              "      <td>generalize</td>\n",
              "      <td>present</td>\n",
              "      <td>simple</td>\n",
              "      <td>infinitive</td>\n",
              "      <td>001</td>\n",
              "    </tr>\n",
              "    <tr>\n",
              "      <th>6</th>\n",
              "      <td>abstract</td>\n",
              "      <td>present</td>\n",
              "      <td>simple</td>\n",
              "      <td>infinitive</td>\n",
              "      <td>001</td>\n",
              "    </tr>\n",
              "    <tr>\n",
              "      <th>7</th>\n",
              "      <td>were</td>\n",
              "      <td>past</td>\n",
              "      <td>simple</td>\n",
              "      <td>indicative</td>\n",
              "      <td>001</td>\n",
              "    </tr>\n",
              "  </tbody>\n",
              "</table>\n",
              "</div>\n",
              "    <div class=\"colab-df-buttons\">\n",
              "\n",
              "  <div class=\"colab-df-container\">\n",
              "    <button class=\"colab-df-convert\" onclick=\"convertToInteractive('df-de07d877-5b90-4867-815a-a825e820c684')\"\n",
              "            title=\"Convert this dataframe to an interactive table.\"\n",
              "            style=\"display:none;\">\n",
              "\n",
              "  <svg xmlns=\"http://www.w3.org/2000/svg\" height=\"24px\" viewBox=\"0 -960 960 960\">\n",
              "    <path d=\"M120-120v-720h720v720H120Zm60-500h600v-160H180v160Zm220 220h160v-160H400v160Zm0 220h160v-160H400v160ZM180-400h160v-160H180v160Zm440 0h160v-160H620v160ZM180-180h160v-160H180v160Zm440 0h160v-160H620v160Z\"/>\n",
              "  </svg>\n",
              "    </button>\n",
              "\n",
              "  <style>\n",
              "    .colab-df-container {\n",
              "      display:flex;\n",
              "      gap: 12px;\n",
              "    }\n",
              "\n",
              "    .colab-df-convert {\n",
              "      background-color: #E8F0FE;\n",
              "      border: none;\n",
              "      border-radius: 50%;\n",
              "      cursor: pointer;\n",
              "      display: none;\n",
              "      fill: #1967D2;\n",
              "      height: 32px;\n",
              "      padding: 0 0 0 0;\n",
              "      width: 32px;\n",
              "    }\n",
              "\n",
              "    .colab-df-convert:hover {\n",
              "      background-color: #E2EBFA;\n",
              "      box-shadow: 0px 1px 2px rgba(60, 64, 67, 0.3), 0px 1px 3px 1px rgba(60, 64, 67, 0.15);\n",
              "      fill: #174EA6;\n",
              "    }\n",
              "\n",
              "    .colab-df-buttons div {\n",
              "      margin-bottom: 4px;\n",
              "    }\n",
              "\n",
              "    [theme=dark] .colab-df-convert {\n",
              "      background-color: #3B4455;\n",
              "      fill: #D2E3FC;\n",
              "    }\n",
              "\n",
              "    [theme=dark] .colab-df-convert:hover {\n",
              "      background-color: #434B5C;\n",
              "      box-shadow: 0px 1px 3px 1px rgba(0, 0, 0, 0.15);\n",
              "      filter: drop-shadow(0px 1px 2px rgba(0, 0, 0, 0.3));\n",
              "      fill: #FFFFFF;\n",
              "    }\n",
              "  </style>\n",
              "\n",
              "    <script>\n",
              "      const buttonEl =\n",
              "        document.querySelector('#df-de07d877-5b90-4867-815a-a825e820c684 button.colab-df-convert');\n",
              "      buttonEl.style.display =\n",
              "        google.colab.kernel.accessAllowed ? 'block' : 'none';\n",
              "\n",
              "      async function convertToInteractive(key) {\n",
              "        const element = document.querySelector('#df-de07d877-5b90-4867-815a-a825e820c684');\n",
              "        const dataTable =\n",
              "          await google.colab.kernel.invokeFunction('convertToInteractive',\n",
              "                                                    [key], {});\n",
              "        if (!dataTable) return;\n",
              "\n",
              "        const docLinkHtml = 'Like what you see? Visit the ' +\n",
              "          '<a target=\"_blank\" href=https://colab.research.google.com/notebooks/data_table.ipynb>data table notebook</a>'\n",
              "          + ' to learn more about interactive tables.';\n",
              "        element.innerHTML = '';\n",
              "        dataTable['output_type'] = 'display_data';\n",
              "        await google.colab.output.renderOutput(dataTable, element);\n",
              "        const docLink = document.createElement('div');\n",
              "        docLink.innerHTML = docLinkHtml;\n",
              "        element.appendChild(docLink);\n",
              "      }\n",
              "    </script>\n",
              "  </div>\n",
              "\n",
              "\n",
              "    <div id=\"df-bb7359b2-4e55-4a77-aa76-bfb03ca53fe3\">\n",
              "      <button class=\"colab-df-quickchart\" onclick=\"quickchart('df-bb7359b2-4e55-4a77-aa76-bfb03ca53fe3')\"\n",
              "                title=\"Suggest charts\"\n",
              "                style=\"display:none;\">\n",
              "\n",
              "<svg xmlns=\"http://www.w3.org/2000/svg\" height=\"24px\"viewBox=\"0 0 24 24\"\n",
              "     width=\"24px\">\n",
              "    <g>\n",
              "        <path d=\"M19 3H5c-1.1 0-2 .9-2 2v14c0 1.1.9 2 2 2h14c1.1 0 2-.9 2-2V5c0-1.1-.9-2-2-2zM9 17H7v-7h2v7zm4 0h-2V7h2v10zm4 0h-2v-4h2v4z\"/>\n",
              "    </g>\n",
              "</svg>\n",
              "      </button>\n",
              "\n",
              "<style>\n",
              "  .colab-df-quickchart {\n",
              "      --bg-color: #E8F0FE;\n",
              "      --fill-color: #1967D2;\n",
              "      --hover-bg-color: #E2EBFA;\n",
              "      --hover-fill-color: #174EA6;\n",
              "      --disabled-fill-color: #AAA;\n",
              "      --disabled-bg-color: #DDD;\n",
              "  }\n",
              "\n",
              "  [theme=dark] .colab-df-quickchart {\n",
              "      --bg-color: #3B4455;\n",
              "      --fill-color: #D2E3FC;\n",
              "      --hover-bg-color: #434B5C;\n",
              "      --hover-fill-color: #FFFFFF;\n",
              "      --disabled-bg-color: #3B4455;\n",
              "      --disabled-fill-color: #666;\n",
              "  }\n",
              "\n",
              "  .colab-df-quickchart {\n",
              "    background-color: var(--bg-color);\n",
              "    border: none;\n",
              "    border-radius: 50%;\n",
              "    cursor: pointer;\n",
              "    display: none;\n",
              "    fill: var(--fill-color);\n",
              "    height: 32px;\n",
              "    padding: 0;\n",
              "    width: 32px;\n",
              "  }\n",
              "\n",
              "  .colab-df-quickchart:hover {\n",
              "    background-color: var(--hover-bg-color);\n",
              "    box-shadow: 0 1px 2px rgba(60, 64, 67, 0.3), 0 1px 3px 1px rgba(60, 64, 67, 0.15);\n",
              "    fill: var(--button-hover-fill-color);\n",
              "  }\n",
              "\n",
              "  .colab-df-quickchart-complete:disabled,\n",
              "  .colab-df-quickchart-complete:disabled:hover {\n",
              "    background-color: var(--disabled-bg-color);\n",
              "    fill: var(--disabled-fill-color);\n",
              "    box-shadow: none;\n",
              "  }\n",
              "\n",
              "  .colab-df-spinner {\n",
              "    border: 2px solid var(--fill-color);\n",
              "    border-color: transparent;\n",
              "    border-bottom-color: var(--fill-color);\n",
              "    animation:\n",
              "      spin 1s steps(1) infinite;\n",
              "  }\n",
              "\n",
              "  @keyframes spin {\n",
              "    0% {\n",
              "      border-color: transparent;\n",
              "      border-bottom-color: var(--fill-color);\n",
              "      border-left-color: var(--fill-color);\n",
              "    }\n",
              "    20% {\n",
              "      border-color: transparent;\n",
              "      border-left-color: var(--fill-color);\n",
              "      border-top-color: var(--fill-color);\n",
              "    }\n",
              "    30% {\n",
              "      border-color: transparent;\n",
              "      border-left-color: var(--fill-color);\n",
              "      border-top-color: var(--fill-color);\n",
              "      border-right-color: var(--fill-color);\n",
              "    }\n",
              "    40% {\n",
              "      border-color: transparent;\n",
              "      border-right-color: var(--fill-color);\n",
              "      border-top-color: var(--fill-color);\n",
              "    }\n",
              "    60% {\n",
              "      border-color: transparent;\n",
              "      border-right-color: var(--fill-color);\n",
              "    }\n",
              "    80% {\n",
              "      border-color: transparent;\n",
              "      border-right-color: var(--fill-color);\n",
              "      border-bottom-color: var(--fill-color);\n",
              "    }\n",
              "    90% {\n",
              "      border-color: transparent;\n",
              "      border-bottom-color: var(--fill-color);\n",
              "    }\n",
              "  }\n",
              "</style>\n",
              "\n",
              "      <script>\n",
              "        async function quickchart(key) {\n",
              "          const quickchartButtonEl =\n",
              "            document.querySelector('#' + key + ' button');\n",
              "          quickchartButtonEl.disabled = true;  // To prevent multiple clicks.\n",
              "          quickchartButtonEl.classList.add('colab-df-spinner');\n",
              "          try {\n",
              "            const charts = await google.colab.kernel.invokeFunction(\n",
              "                'suggestCharts', [key], {});\n",
              "          } catch (error) {\n",
              "            console.error('Error during call to suggestCharts:', error);\n",
              "          }\n",
              "          quickchartButtonEl.classList.remove('colab-df-spinner');\n",
              "          quickchartButtonEl.classList.add('colab-df-quickchart-complete');\n",
              "        }\n",
              "        (() => {\n",
              "          let quickchartButtonEl =\n",
              "            document.querySelector('#df-bb7359b2-4e55-4a77-aa76-bfb03ca53fe3 button');\n",
              "          quickchartButtonEl.style.display =\n",
              "            google.colab.kernel.accessAllowed ? 'block' : 'none';\n",
              "        })();\n",
              "      </script>\n",
              "    </div>\n",
              "\n",
              "  <div id=\"id_524c0a76-c486-4184-b01b-1719ac18e2b8\">\n",
              "    <style>\n",
              "      .colab-df-generate {\n",
              "        background-color: #E8F0FE;\n",
              "        border: none;\n",
              "        border-radius: 50%;\n",
              "        cursor: pointer;\n",
              "        display: none;\n",
              "        fill: #1967D2;\n",
              "        height: 32px;\n",
              "        padding: 0 0 0 0;\n",
              "        width: 32px;\n",
              "      }\n",
              "\n",
              "      .colab-df-generate:hover {\n",
              "        background-color: #E2EBFA;\n",
              "        box-shadow: 0px 1px 2px rgba(60, 64, 67, 0.3), 0px 1px 3px 1px rgba(60, 64, 67, 0.15);\n",
              "        fill: #174EA6;\n",
              "      }\n",
              "\n",
              "      [theme=dark] .colab-df-generate {\n",
              "        background-color: #3B4455;\n",
              "        fill: #D2E3FC;\n",
              "      }\n",
              "\n",
              "      [theme=dark] .colab-df-generate:hover {\n",
              "        background-color: #434B5C;\n",
              "        box-shadow: 0px 1px 3px 1px rgba(0, 0, 0, 0.15);\n",
              "        filter: drop-shadow(0px 1px 2px rgba(0, 0, 0, 0.3));\n",
              "        fill: #FFFFFF;\n",
              "      }\n",
              "    </style>\n",
              "    <button class=\"colab-df-generate\" onclick=\"generateWithVariable('results2')\"\n",
              "            title=\"Generate code using this dataframe.\"\n",
              "            style=\"display:none;\">\n",
              "\n",
              "  <svg xmlns=\"http://www.w3.org/2000/svg\" height=\"24px\"viewBox=\"0 0 24 24\"\n",
              "       width=\"24px\">\n",
              "    <path d=\"M7,19H8.4L18.45,9,17,7.55,7,17.6ZM5,21V16.75L18.45,3.32a2,2,0,0,1,2.83,0l1.4,1.43a1.91,1.91,0,0,1,.58,1.4,1.91,1.91,0,0,1-.58,1.4L9.25,21ZM18.45,9,17,7.55Zm-12,3A5.31,5.31,0,0,0,4.9,8.1,5.31,5.31,0,0,0,1,6.5,5.31,5.31,0,0,0,4.9,4.9,5.31,5.31,0,0,0,6.5,1,5.31,5.31,0,0,0,8.1,4.9,5.31,5.31,0,0,0,12,6.5,5.46,5.46,0,0,0,6.5,12Z\"/>\n",
              "  </svg>\n",
              "    </button>\n",
              "    <script>\n",
              "      (() => {\n",
              "      const buttonEl =\n",
              "        document.querySelector('#id_524c0a76-c486-4184-b01b-1719ac18e2b8 button.colab-df-generate');\n",
              "      buttonEl.style.display =\n",
              "        google.colab.kernel.accessAllowed ? 'block' : 'none';\n",
              "\n",
              "      buttonEl.onclick = () => {\n",
              "        google.colab.notebook.generateWithVariable('results2');\n",
              "      }\n",
              "      })();\n",
              "    </script>\n",
              "  </div>\n",
              "\n",
              "    </div>\n",
              "  </div>\n"
            ],
            "application/vnd.google.colaboratory.intrinsic+json": {
              "type": "dataframe",
              "variable_name": "results2",
              "summary": "{\n  \"name\": \"results2\",\n  \"rows\": 8,\n  \"fields\": [\n    {\n      \"column\": \"Verbal phrase\",\n      \"properties\": {\n        \"dtype\": \"string\",\n        \"num_unique_values\": 8,\n        \"samples\": [\n          \"was\",\n          \"generalize\",\n          \"suspect\"\n        ],\n        \"semantic_type\": \"\",\n        \"description\": \"\"\n      }\n    },\n    {\n      \"column\": \"tense\",\n      \"properties\": {\n        \"dtype\": \"category\",\n        \"num_unique_values\": 2,\n        \"samples\": [\n          \"past\",\n          \"present\"\n        ],\n        \"semantic_type\": \"\",\n        \"description\": \"\"\n      }\n    },\n    {\n      \"column\": \"aspect\",\n      \"properties\": {\n        \"dtype\": \"category\",\n        \"num_unique_values\": 2,\n        \"samples\": [\n          \"progressive\",\n          \"simple\"\n        ],\n        \"semantic_type\": \"\",\n        \"description\": \"\"\n      }\n    },\n    {\n      \"column\": \"mood\",\n      \"properties\": {\n        \"dtype\": \"category\",\n        \"num_unique_values\": 2,\n        \"samples\": [\n          \"infinitive\",\n          \"indicative\"\n        ],\n        \"semantic_type\": \"\",\n        \"description\": \"\"\n      }\n    },\n    {\n      \"column\": \"text\",\n      \"properties\": {\n        \"dtype\": \"category\",\n        \"num_unique_values\": 1,\n        \"samples\": [\n          \"001\"\n        ],\n        \"semantic_type\": \"\",\n        \"description\": \"\"\n      }\n    }\n  ]\n}"
            }
          },
          "metadata": {},
          "execution_count": 27
        }
      ],
      "source": [
        "\n",
        "results2 = pd.DataFrame(final_result).T.reset_index()\n",
        "# rename column\n",
        "results2 = results2.rename(columns={'index':'Verbal phrase'})\n",
        "results2['text'] = '001'\n",
        "results2"
      ]
    },
    {
      "cell_type": "code",
      "execution_count": 28,
      "metadata": {
        "colab": {
          "base_uri": "https://localhost:8080/",
          "height": 52
        },
        "id": "YX0W1NMobbF5",
        "outputId": "dc8bfeb7-4eac-4c03-f8d3-6e3302da681a"
      },
      "outputs": [
        {
          "output_type": "execute_result",
          "data": {
            "text/plain": [
              "\"I suspect, however, that he was not very capable of thinking. To think is to forget differences, to generalize, to abstract. In Funes's crowded world there were only details, almost immediate ones.\""
            ],
            "application/vnd.google.colaboratory.intrinsic+json": {
              "type": "string"
            }
          },
          "metadata": {},
          "execution_count": 28
        }
      ],
      "source": [
        "texts_2.get('001')"
      ]
    },
    {
      "cell_type": "code",
      "execution_count": 28,
      "metadata": {
        "id": "CnCevxVIbbF5"
      },
      "outputs": [],
      "source": []
    }
  ],
  "metadata": {
    "colab": {
      "provenance": []
    },
    "kernelspec": {
      "display_name": "llm_course",
      "language": "python",
      "name": "python3"
    },
    "language_info": {
      "codemirror_mode": {
        "name": "ipython",
        "version": 3
      },
      "file_extension": ".py",
      "mimetype": "text/x-python",
      "name": "python",
      "nbconvert_exporter": "python",
      "pygments_lexer": "ipython3",
      "version": "3.11.13"
    }
  },
  "nbformat": 4,
  "nbformat_minor": 0
}