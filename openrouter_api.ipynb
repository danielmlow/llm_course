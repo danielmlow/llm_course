{
    "cells": [
        {
            "cell_type": "markdown",
            "metadata": {},
            "source": [
                "[![Open In Colab](https://colab.research.google.com/assets/colab-badge.svg)](https://colab.research.google.com/github/danielmlow/llm_course/blob/main/openrouter_api.ipynb)"
            ]
        },
        {
            "cell_type": "code",
            "execution_count": 1,
            "metadata": {
                "id": "gbTd5pDGu72f"
            },
            "outputs": [],
            "source": [
                "import json\n",
                "import requests\n",
                "import os\n",
                "import pandas as pd"
            ]
        },
        {
            "cell_type": "markdown",
            "metadata": {},
            "source": [
                "# Measure constructs using LLMs"
            ]
        },
        {
            "cell_type": "code",
            "execution_count": 2,
            "metadata": {},
            "outputs": [],
            "source": [
                "\n",
                "\n",
                "def process_api_output(output_str):\n",
                "  \"\"\"\n",
                "  Processes the API output string and returns a dictionary.\n",
                "\n",
                "  Args:\n",
                "    output_str: The string output from the API call.\n",
                "\n",
                "  Returns:\n",
                "    A dictionary containing the extracted data.\n",
                "  \n",
                "  Example:\n",
                "    \n",
                "    output_str1 = '{  \"desire to escape\": [[1], [\"I want out\"]],  \"loneliness\": [[1], [\"No one cares about me\"]],  \"suicidal ideation\": [[0.5], [\"I want out\", \"It wont get better\"]] }'\n",
                "    output_str2 = '{  \"desire to escape\": [[1], [\"I want out\"]],  \"loneliness\": [[1], [\"No one cares about me\"]],  \"suicidal ideation\": [[0.5], [\"I want out\", \"It wont get better\"]] }Explanation: - The text clearly expresses a \"desire to escape\" with the phrase \"I want out\", which suggests a strong desire to leave the current situation.- The text also clearly expresses \"loneliness\" with the phrase \"No one cares about me\", which indicates feelings of isolation and disconnection.- The text may suggest \"suicidal ideation\" with the phrases \"I want out\" and \"It wont get better\", but it\\'s not explicitly stated, hence the lower score.'\n",
                "    output_str3 = '{  \"desire to escape\": [[1], [\"I want out\"]],  \"loneliness\": [[1], [\"No one cares about me\"]],  \"suicidal ideation\": [[0.5], [\"I want out\", \"It wont get better\"]] }Some additional information here.'\n",
                "\n",
                "    print(process_api_output(output_str1))\n",
                "    print(process_api_output(output_str2))\n",
                "    print(process_api_output(output_str3))\n",
                "  \"\"\"\n",
                "  data = {} \n",
                "  start_index = output_str.find('{') \n",
                "  end_index = output_str.rfind('}') + 1\n",
                "\n",
                "  try:\n",
                "    # Attempt to directly load the JSON string\n",
                "    data = json.loads(output_str)\n",
                "  except json.JSONDecodeError:\n",
                "    # If JSON decoding fails, try to extract the JSON part\n",
                "    if start_index != -1 and end_index != -1:\n",
                "      json_part = output_str[start_index:end_index]\n",
                "      data = json.loads(json_part)\n",
                "    else:\n",
                "      raise ValueError(\"Invalid API output format.\")\n",
                "\n",
                "  # Extract the additional note if it exists\n",
                "  if start_index != 0 or end_index != len(output_str):\n",
                "    data['Additional note'] = output_str[end_index:].strip()\n",
                "\n",
                "  return data\n",
                "\n"
            ]
        },
        {
            "cell_type": "code",
            "execution_count": 3,
            "metadata": {
                "id": "rs6Qzw5H_coU"
            },
            "outputs": [],
            "source": [
                "\n",
                "def openrouter_request(prompt, OPENROUTER_API_KEY, model, temperature, safety_settings=None, verbose=False):\n",
                "    \"\"\"\n",
                "    Makes a request to OpenRouter API. Returns (result, metadata) tuple.\n",
                "    If there's an error, returns (None, None) to allow skipping the failed request.\n",
                "    \n",
                "    Args:\n",
                "        prompt: The prompt to send to the API\n",
                "        OPENROUTER_API_KEY: Your OpenRouter API key\n",
                "        model: The model to use\n",
                "        temperature: The temperature parameter\n",
                "        safety_settings: Optional safety settings\n",
                "        verbose: If True, print detailed logs. Default is False.\n",
                "    \n",
                "    free models: 20 requests per minute and 200 requests per day. See https://openrouter.ai/docs/limits\n",
                "    \"\"\"\n",
                "    # Configure session with retry logic\n",
                "    session = requests.Session()\n",
                "    retry = requests.adapters.HTTPAdapter(\n",
                "        max_retries=3\n",
                "    )\n",
                "    session.mount('http://', retry)\n",
                "    session.mount('https://', retry)\n",
                "    \n",
                "    try:\n",
                "        if verbose:\n",
                "            print(f\"\\nMaking request to OpenRouter API...\")\n",
                "            print(f\"Model: {model}\")\n",
                "            print(f\"Temperature: {temperature}\")\n",
                "        \n",
                "        # Try without proxy first\n",
                "        try:\n",
                "            response = session.post(\n",
                "                url=\"https://openrouter.ai/api/v1/chat/completions\",\n",
                "                headers={\n",
                "                    \"Authorization\": f\"Bearer {OPENROUTER_API_KEY}\",\n",
                "                    \"Content-Type\": \"application/json\",\n",
                "                    \"HTTP-Referer\": \"https://github.com/danielmlow/talklife\",\n",
                "                    \"X-Title\": \"TalkLife Research\"\n",
                "                },\n",
                "                json={\n",
                "                    \"model\": model,\n",
                "                    \"temperature\": temperature,\n",
                "                    \"response_format\": { \"type\": \"json_object\" },\n",
                "                    \"messages\": [\n",
                "                        { \"role\": \"user\", \"content\": prompt}\n",
                "                    ],\n",
                "                },\n",
                "                timeout=30,\n",
                "                proxies=None\n",
                "            )\n",
                "            if verbose:\n",
                "                print(f\"Response status code: {response.status_code}\")\n",
                "            \n",
                "        except requests.exceptions.ProxyError as e:\n",
                "            \n",
                "            print(f\"Proxy error detected: {str(e)}\")\n",
                "            print(\"Retrying with direct connection...\")\n",
                "            \n",
                "        \n",
                "        # Check if request was successful\n",
                "        response.raise_for_status()\n",
                "        \n",
                "        try:\n",
                "            metadata = response.json()\n",
                "            if verbose:\n",
                "                print(\"Successfully received JSON response\")\n",
                "            final_result = metadata['choices'][0]['message']['content']\n",
                "            try:\n",
                "                final_result = dict(eval(final_result))\n",
                "                if verbose:\n",
                "                    print(\"Successfully parsed response as dictionary\")\n",
                "                return final_result, metadata\n",
                "            except Exception as e:\n",
                "                \n",
                "                print(f\"Error parsing response as dictionary: {str(e)}\")\n",
                "                print(\"Attempting to process output...\")\n",
                "                final_result = process_api_output(final_result)\n",
                "                return final_result, metadata\n",
                "                \n",
                "        except json.JSONDecodeError as e:\n",
                "            \n",
                "            print(f\"Error decoding JSON response: {str(e)}\")\n",
                "            print(f\"Response text: {response.text[:500]}...\")  # Print first 500 chars\n",
                "            return None, None\n",
                "            \n",
                "    except requests.exceptions.RequestException as e:\n",
                "        \n",
                "        print(f\"Request failed: {str(e)}\")\n",
                "        if hasattr(e, 'response') and e.response is not None:\n",
                "            print(f\"Response status code: {e.response.status_code}\")\n",
                "        print(f\"Response text: {e.response.text[:500]}...\")  # Print first 500 chars\n",
                "        return None, None\n",
                "    except Exception as e:\n",
                "        \n",
                "        print(f\"Unexpected error: {str(e)}\")\n",
                "        return None, None\n",
                "    finally:\n",
                "        \n",
                "        session.close()\n",
                "\n"
            ]
        },
        {
            "cell_type": "markdown",
            "metadata": {},
            "source": [
                "# Set API key and choose model\n",
                "- API key is associated to your account. You can add money to use paid models. \n",
                "- All models: https://openrouter.ai/rankings\n",
                "- Paid models:\n",
                "    - Google's State of the art (SOTA): 'google/gemini-2.5-pro'\n",
                "    - Google's fast and cheap: 'google/gemini-2.5-flash'\n",
                "    - Google's even cheaper 'google/gemini-2.5-flash-lite'\n",
                "    - OpenAI's SOTA model: 'openai/gpt-5'\n",
                "    - OpenAI's fast and cheap: 'openai/gpt-5-mini'\n",
                "    - Anthropic's SOTA model: 'anthropic/claude-sonnet-4'\n",
                "    - Anthropic's fast and cheap: 'anthropic/claude-3.5-haiku'\n",
                "    - There are also even better reasoning models but very expensive and overkill for this use case\n",
                "- Free models: https://openrouter.ai/models?max_price=0\n",
                "    - free models: certain requests per minute (e.g., 20) and N requests per day (depends on model). See https://openrouter.ai/docs/limits\n",
                "    - \"google/gemini-2.0-flash-exp:free\"\n",
                "    - \"deepseek/deepseek-chat-v3.1:free\"\n",
                "    - \"meta-llama/llama-3.1-70b-instruct:free\"\n",
                "    - \"qwen/qwen3-coder:free\"\n",
                "\n"
            ]
        },
        {
            "cell_type": "code",
            "execution_count": 4,
            "metadata": {},
            "outputs": [],
            "source": [
                "# It's a good idea to keep keys in a separate file such as api_keys.py (not shared with anyone) which you can import\n",
                "try:\n",
                "    import api_keys # local file\n",
                "    OPENROUTER_API_KEY = api_keys.OPENROUTER_API_KEY \n",
                "except:\n",
                "    # if not, set key here\n",
                "    print(\"Module 'api_key' not found. Add your key here. \") # get it from OpenRouter AI: https://openrouter.ai/settings/keys\n",
                "    OPENROUTER_API_KEY = \"\" # This key will disactivate if you place it on a public repository. Get your own and add some dollars from OpenRouter AI: https://openrouter.ai/settings/keys\n",
                "\n",
                "# Choose a model\n",
                "model  = \"google/gemini-2.5-flash\" "
            ]
        },
        {
            "cell_type": "markdown",
            "metadata": {},
            "source": [
                "# Design a prompt"
            ]
        },
        {
            "cell_type": "code",
            "execution_count": 5,
            "metadata": {
                "id": "MCNUCdyS_O78"
            },
            "outputs": [],
            "source": [
                "prompt_template = \"\"\"Classify the text into one or more of the following {context} categories: {categories}.\n",
                "\n",
                "Provide a score (0 or 1) as to whether the text clearly mentions the category and an explanation (words or phrases from the text that are clearly about the category).\n",
                "\n",
                "Text: \n",
                "{text}\n",
                "\n",
                "Structure your response in the following JSON format (no extra text):\n",
                "{{'category_A': [[score], [words, phrases]], 'category_B': [[score], [words, phrases]], ...}}\n",
                "\n",
                "JSON:\n",
                "\"\"\""
            ]
        },
        {
            "cell_type": "code",
            "execution_count": 6,
            "metadata": {},
            "outputs": [],
            "source": [
                "categories = ['desire to escape', 'suicidal ideation', 'anger', 'loneliness']"
            ]
        },
        {
            "cell_type": "code",
            "execution_count": 7,
            "metadata": {},
            "outputs": [],
            "source": [
                "text = 'No one cares about me. I go to therapy, but it doesnt work. It wont get better. I want out. Im feeling hyperactive.'"
            ]
        },
        {
            "cell_type": "code",
            "execution_count": 8,
            "metadata": {},
            "outputs": [
                {
                    "name": "stdout",
                    "output_type": "stream",
                    "text": [
                        "Prompt:\n",
                        "Classify the text into one or more of the following  categories: ['desire to escape', 'suicidal ideation', 'anger', 'loneliness'].\n",
                        "\n",
                        "Provide a score (0 or 1) as to whether the text clearly mentions the category and an explanation (words or phrases from the text that are clearly about the category).\n",
                        "\n",
                        "Text: \n",
                        "No one cares about me. I go to therapy, but it doesnt work. It wont get better. I want out. Im feeling hyperactive.\n",
                        "\n",
                        "Structure your response in the following JSON format (no extra text):\n",
                        "{'category_A': [[score], [words, phrases]], 'category_B': [[score], [words, phrases]], ...}\n",
                        "\n",
                        "JSON:\n",
                        "\n"
                    ]
                }
            ],
            "source": [
                "prompt = prompt_template.format(context = '',\n",
                "              categories = categories,\n",
                "              text= text\n",
                "              )\n",
                "\n",
                "print('Prompt:')\n",
                "print(prompt)"
            ]
        },
        {
            "cell_type": "markdown",
            "metadata": {},
            "source": [
                "### With definitions\n"
            ]
        },
        {
            "cell_type": "code",
            "execution_count": null,
            "metadata": {},
            "outputs": [
                {
                    "name": "stdout",
                    "output_type": "stream",
                    "text": [
                        "Prompt:\n",
                        "Classify the text into one or more of the following  categories with their corresponding definitions:\n",
                        "\n",
                        "desire to escape: wish to escape from awareness of current life problems their implications about the self. Examples: escape; paralyzing; no escape; want to get out; there is no exit; want to escape; craving release; escape pain; have to escape; running out of options\n",
                        "suicidal ideation: Suicidal thoughts desiring one's own death or related states. Examples: I want to die; better off dead; want to be dead; want to die; wish I was dead; wish I wasn't alive; wish I would not wake up; would be better off dead\n",
                        "anxiety: Anxiety is a feeling of worry, nervousness, or unease, often about an imminent event or something with an uncertain outcome. We include anxiety disorders. Examples: Xanax; phobia; apprehension; worry; nervous; xanax; can't relax; diazepam; phobic; anxiety; anxious; worried; agoraphobia; social anxiety\n",
                        "loneliness: aversive state experienced when a discrepancy exists between the interpersonal relationships one wishes to have and those that one perceives they currently have. The perception that one's social relationships are not living up to some expectation. Examples: no one to turn to; no one will miss me; nobody thinks about me; nobody wants me here; no friends; no one misses me; I am alone; no one cares; have no one; don't have anyone; feel ignored; have nobody; lonely; no one to talk; no one I can talk to\n",
                        "\n",
                        "Provide a score (0 or 1) as to whether the text clearly mentions the category and an explanation (words or phrases from the text that are very prototypical expressions of the category).\n",
                        "\n",
                        "Text: \n",
                        "No one cares about me. I go to therapy, but it doesnt work. It wont get better. I want out. Im feeling hyperactive.\n",
                        "\n",
                        "Structure your response in the following JSON format (no extra text):\n",
                        "{'category_A': [[score], [words, phrases]], 'category_B': [[score], [words, phrases]], ...}\n",
                        "\n",
                        "JSON:\n",
                        "\n"
                    ]
                }
            ],
            "source": [
                "\n",
                "prompt_template_with_definitions = \"\"\"Classify the text into one or more of the following {context} categories with their corresponding definitions:\\n\\n{categories}\n",
                "\n",
                "Provide a score (0 or 1) as to whether the text clearly mentions the category and an explanation (words or phrases from the text that are very prototypical expressions of the category).\n",
                "\n",
                "Text: \n",
                "{text}\n",
                "\n",
                "Structure your response in the following JSON format (no extra text):\n",
                "{{'category_A': [[score], [words, phrases]], 'category_B': [[score], [words, phrases]], ...}}\n",
                "\n",
                "JSON:\n",
                "\"\"\"\n",
                "\n",
                "# Definitions and examples of the Suicide Risk Lexicon: https://github.com/danielmlow/construct-tracker/blob/e9897da4f53efe40745aa5dcec923cc56830c23e/src/construct_tracker/data/lexicons/suicide_risk_lexicon_v1-0/suicide_risk_lexicon_codebook_prototypical_examples.txt\n",
                "# https://osf.io/preprints/psyarxiv/vf2bc_v3 \n",
                "\n",
                "categories_with_definitions = {'desire to escape': 'wish to escape from awareness of current life problems their implications about the self. Examples: escape; paralyzing; no escape; want to get out; there is no exit; want to escape; craving release; escape pain; have to escape; running out of options', \n",
                "              'suicidal ideation': \"Suicidal thoughts desiring one's own death or related states. Examples: I want to die; better off dead; want to be dead; want to die; wish I was dead; wish I wasn't alive; wish I would not wake up; would be better off dead\", \n",
                "              'anxiety': \"Anxiety is a feeling of worry, nervousness, or unease, often about an imminent event or something with an uncertain outcome. We include anxiety disorders. Examples: Xanax; phobia; apprehension; worry; nervous; xanax; can't relax; diazepam; phobic; anxiety; anxious; worried; agoraphobia; social anxiety\",\n",
                "              'loneliness': \"aversive state experienced when a discrepancy exists between the interpersonal relationships one wishes to have and those that one perceives they currently have. The perception that one's social relationships are not living up to some expectation. Examples: no one to turn to; no one will miss me; nobody thinks about me; nobody wants me here; no friends; no one misses me; I am alone; no one cares; have no one; don't have anyone; feel ignored; have nobody; lonely; no one to talk; no one I can talk to\",\n",
                "              }\n",
                "\n",
                "# indent dict one line per entry\n",
                "categories_with_definitions = '\\n'.join([f\"{key}: {value}\" for key, value in categories_with_definitions.items()])\n",
                "\n",
                "# Insert into prompt\n",
                "prompt_with_definitions = prompt_template_with_definitions.format(context = '', # I change to prompt_template_with_definitions\n",
                "              categories = categories_with_definitions,\n",
                "              text= text\n",
                "              )\n",
                "\n",
                "\n",
                "print('Prompt:')\n",
                "print(prompt_with_definitions)\n"
            ]
        },
        {
            "cell_type": "markdown",
            "metadata": {},
            "source": [
                "# Submit prompt to openrouter\n"
            ]
        },
        {
            "cell_type": "code",
            "execution_count": 10,
            "metadata": {
                "id": "6Q02nv6I_qxl"
            },
            "outputs": [],
            "source": [
                "# Choose which prompt to use\n",
                "\n",
                "final_result, metadata = openrouter_request(prompt_with_definitions, OPENROUTER_API_KEY, model = model, temperature=0)"
            ]
        },
        {
            "cell_type": "code",
            "execution_count": 11,
            "metadata": {
                "colab": {
                    "base_uri": "https://localhost:8080/",
                    "height": 35
                },
                "executionInfo": {
                    "elapsed": 222,
                    "status": "ok",
                    "timestamp": 1732643850650,
                    "user": {
                        "displayName": "Daniel Low",
                        "userId": "13357881499464447434"
                    },
                    "user_tz": 180
                },
                "id": "8AnFAsLMnsyW",
                "outputId": "0127841f-23f4-4d6f-b331-4818b563b4c4"
            },
            "outputs": [
                {
                    "data": {
                        "text/plain": [
                            "'No one cares about me. I go to therapy, but it doesnt work. It wont get better. I want out. Im feeling hyperactive.'"
                        ]
                    },
                    "execution_count": 11,
                    "metadata": {},
                    "output_type": "execute_result"
                }
            ],
            "source": [
                "# Recap what the text was\n",
                "text"
            ]
        },
        {
            "cell_type": "code",
            "execution_count": 12,
            "metadata": {},
            "outputs": [
                {
                    "data": {
                        "text/plain": [
                            "{'desire to escape': [1, ['I want out']],\n",
                            " 'suicidal ideation': [0, []],\n",
                            " 'anxiety': [0, []],\n",
                            " 'loneliness': [1, ['No one cares about me']]}"
                        ]
                    },
                    "execution_count": 12,
                    "metadata": {},
                    "output_type": "execute_result"
                }
            ],
            "source": [
                "final_result"
            ]
        },
        {
            "cell_type": "code",
            "execution_count": 13,
            "metadata": {},
            "outputs": [
                {
                    "data": {
                        "text/plain": [
                            "{'id': 'gen-1758661807-HuXYihh2HJqZPXjjpPpQ',\n",
                            " 'provider': 'Google',\n",
                            " 'model': 'google/gemini-2.5-flash',\n",
                            " 'object': 'chat.completion',\n",
                            " 'created': 1758661807,\n",
                            " 'choices': [{'logprobs': None,\n",
                            "   'finish_reason': 'stop',\n",
                            "   'native_finish_reason': 'STOP',\n",
                            "   'index': 0,\n",
                            "   'message': {'role': 'assistant',\n",
                            "    'content': '{\\n  \"desire to escape\": [\\n    1,\\n    [\\n      \"I want out\"\\n    ]\\n  ],\\n  \"suicidal ideation\": [\\n    0,\\n    []\\n  ],\\n  \"anxiety\": [\\n    0,\\n    []\\n  ],\\n  \"loneliness\": [\\n    1,\\n    [\\n      \"No one cares about me\"\\n    ]\\n  ]\\n}',\n",
                            "    'refusal': None,\n",
                            "    'reasoning': None}}],\n",
                            " 'usage': {'prompt_tokens': 444,\n",
                            "  'completion_tokens': 95,\n",
                            "  'total_tokens': 539,\n",
                            "  'prompt_tokens_details': {'cached_tokens': 0},\n",
                            "  'completion_tokens_details': {'reasoning_tokens': 0, 'image_tokens': 0}}}"
                        ]
                    },
                    "execution_count": 13,
                    "metadata": {},
                    "output_type": "execute_result"
                }
            ],
            "source": [
                "metadata"
            ]
        },
        {
            "cell_type": "markdown",
            "metadata": {},
            "source": [
                "# loop through text documents\n"
            ]
        },
        {
            "cell_type": "code",
            "execution_count": 14,
            "metadata": {
                "id": "ar22N339_hQ9"
            },
            "outputs": [
                {
                    "data": {
                        "text/plain": [
                            "{'1_suicidewatch': \"31 and ready to stop existing I've made so many mistakes, medicated or not that desire is still there. Husband decides he's ready to divorce mostly all of my fault. I don't see a way to ever feel happy again. The years of depression (18 years) have won.\\n\",\n",
                            " '2_anxiety': \"Freezing up I'm new to the sub, so I don't really know if this is the right place to ask for help, but I've been told that this is probably linked to some form of anxiety. I've recently gotten over depression through the help of a medication, and since I've started feeling better, I've been feeling a lot more on edge, and social situations and various other interactions have gotten a lot harder. There are times where I'll be talking with somebody (this can be any person, talking about anything. I've had it happen with teachers, relatives, and even some of my closest friends, so I don't think its related to who I'm talking to), and some kind of response is prompted, I come up with an answer/response, but there is something that is physically not letting me say the words. I just stand there with my mouth open trying to say something but I physically can't, and its gotten bad enough that I avoid certain interactions out of fear that it's going to happen again. I've also been taking a different medication that is supposed to help with anxiety as well as depression, but this continues to happen.\",\n",
                            " '3_anxiety': \"My GAD is starting to ruin my life. I recently left a job that I was really great at, I worked there for 8 years. I left because I was tired of retail hours and I am recently married, so I wanted a better work-life balance. I had no idea that leaving that job and starting a new one would cause debilitating anxiety. For about 3.5 weeks now, I have woken up every morning with extreme nausea and vomiting. This has caused me to quit literally three new jobs since April. I don't know what to do, I don't know how to cope. I just started taking lexapro about 1.5 weeks ago, and I have noticed that I am feeling better. I have a job interview on friday for the same line of work i used to be in, just the competitor. I'm hoping the fact that I'll already know how to do this job will put me in a better place. But what do i do? I'm worried my husband is going to start hating me. He ended up taking me to the hospital last week cause i started vomiting blood and got diagnosed with gastritis, doctor said that it was caused 1000% by my anxiety. what do I do? how can i find a job and live like this?\",\n",
                            " '4_anxiety': 'Anxiety Breakthrough Had a big breakthrough today about my anxiety. Currently withdrawing off of benzos so my anxiety is quite high. I experience a lot of dissociation when I’m anxious, my bodies way to cope. Usually when driving I start to freak out when I dissociate so it makes it worse but today I said fuck it this feels kind of cool. Trying to enjoy the feeling actually made it less and less prominent. Also I have anxiety that when I dissociate I’ll hit another car or something dumb, I literally tried to make myself hit a car and it wasn’t possible my brain stopped myself every time. It’s really crazy how the brain works. Accept the feeling and enjoy it no matter how shitty it is.',\n",
                            " '5_suicidewatch': 'Would drinking isopropyl alcohol kill me? Would it be any better than bleach?'}"
                        ]
                    },
                    "execution_count": 14,
                    "metadata": {},
                    "output_type": "execute_result"
                }
            ],
            "source": [
                "server = False # Options: \"google\", \"local\", False  # True: Running on colab and looking for files on on google drive; False: run on your local computer and find files locally\n",
                "\n",
                "# Obtain documents\n",
                "\n",
                "if server == 'google':\n",
                "    # ON GOOGLE DRIVE\n",
                "    from google.colab import drive\n",
                "    drive.mount('/content/drive')\n",
                "    input_dir = '/content/drive/MyDrive/your_folder/' # Or find using os.listdir('/content/')\n",
                "    output_dir = '/content/drive/MyDrive/your_folder/'\n",
                "elif server == 'local':\n",
                "    # ON YOUR COMPUTER\n",
                "    input_dir = './' # add path to input_dir\n",
                "    output_dir = './'\n",
                "else:\n",
                "    # Load default data\n",
                "    reddit_df = pd.read_csv('https://mair.sites.fas.harvard.edu/datasets/rmhd_27subreddits_1300posts_train.csv', index_col = 0)\n",
                "    reddit_df_subset = reddit_df[reddit_df['subreddit'].isin(['suicidewatch', 'anxiety'])]\n",
                "    reddit_df_subset_random = reddit_df_subset.sample(frac=1, random_state=42)\n",
                "    reddit_df_subset_random_5 =  reddit_df_subset_random[['subreddit', 'post']][:5]\n",
                "    # Add an incrementing number to the beginning of the key and create a dictionary\n",
                "    texts = {\n",
                "        f\"{i+1}_{row.subreddit}\": row.post \n",
                "        for i, row in enumerate(reddit_df_subset_random_5.itertuples(index=False))\n",
                "    }\n",
                "    \n",
                "    output_dir = './data/output/'\n",
                "\n",
                "os.makedirs(output_dir, exist_ok=True)\n",
                "if server in ['google', 'local']:\n",
                "    # load txt files. Loop through text \n",
                "    print('current working directory: ', os.getcwd()) \n",
                "    texts = {}\n",
                "\n",
                "    for file in os.listdir(input_dir):\n",
                "        if file.endswith('.txt'):\n",
                "            with open(os.path.join(input_dir, file), 'r') as f:\n",
                "                text = f.read()\n",
                "                texts[file] = text\n",
                "\n",
                "texts\n",
                "\n"
            ]
        },
        {
            "cell_type": "markdown",
            "metadata": {},
            "source": [
                "# Text de-identification"
            ]
        },
        {
            "cell_type": "code",
            "execution_count": null,
            "metadata": {},
            "outputs": [],
            "source": [
                "!pip install presidio-analyzer\n",
                "!pip install presidio-anonymizer\n",
                "!python -m spacy download en_core_web_lg\n",
                "\n",
                "from presidio_analyzer import AnalyzerEngine\n",
                "from presidio_anonymizer import AnonymizerEngine\n",
                "from tqdm import tqdm\n",
                "\n",
                "\n",
                "\n",
                "for file, text  in texts.items():\n",
                "    \n",
                "\n",
                "    # Set up the engine, loads the NLP module (spaCy model by default) \n",
                "    # and other PII recognizers\n",
                "    analyzer = AnalyzerEngine()\n",
                "\n",
                "    # Call analyzer to get results\n",
                "    results = analyzer.analyze(text=text,\n",
                "                            entities=[\"PERSON\",\"NAME\", \"PHONE_NUMBER\",\"NUMBER\"], #You could add LOCATION\n",
                "                            language='en')\n",
                "    # print(results)\n",
                "\n",
                "    # Analyzer results are passed to the AnonymizerEngine for anonymization\n",
                "\n",
                "    anonymizer = AnonymizerEngine()\n",
                "\n",
                "    anonymized_text = anonymizer.anonymize(text=text,analyzer_results=results)\n",
                "    texts[file] = anonymized_text.text\n",
                "\n"
            ]
        },
        {
            "cell_type": "markdown",
            "metadata": {},
            "source": [
                "# Loop through texts and apply openrouter\n",
                "\n"
            ]
        },
        {
            "cell_type": "code",
            "execution_count": null,
            "metadata": {
                "id": "cW7BfHzJv2X2"
            },
            "outputs": [
                {
                    "name": "stdout",
                    "output_type": "stream",
                    "text": [
                        "Classify the text into one or more of the following mental health categories with their corresponding definitions:\n",
                        "\n",
                        "desire to escape: wish to escape from awareness of current life problems their implications about the self. Examples: escape; paralyzing; no escape; want to get out; there is no exit; want to escape; craving release; escape pain; have to escape; running out of options\n",
                        "suicidal ideation: Suicidal thoughts desiring one's own death or related states. Examples: I want to die; better off dead; want to be dead; want to die; wish I was dead; wish I wasn't alive; wish I would not wake up; would be better off dead\n",
                        "anxiety: Anxiety is a feeling of worry, nervousness, or unease, often about an imminent event or something with an uncertain outcome. We include anxiety disorders. Examples: Xanax; phobia; apprehension; worry; nervous; xanax; can't relax; diazepam; phobic; anxiety; anxious; worried; agoraphobia; social anxiety\n",
                        "loneliness: aversive state experienced when a discrepancy exists between the interpersonal relationships one wishes to have and those that one perceives they currently have. The perception that one's social relationships are not living up to some expectation. Examples: no one to turn to; no one will miss me; nobody thinks about me; nobody wants me here; no friends; no one misses me; I am alone; no one cares; have no one; don't have anyone; feel ignored; have nobody; lonely; no one to talk; no one I can talk to\n",
                        "\n",
                        "Provide a score (0 or 1) as to whether the text clearly mentions the category and an explanation (words or phrases from the text that are very prototypical expressions of the category).\n",
                        "\n",
                        "Text: \n",
                        "31 and ready to stop existing I've made so many mistakes, medicated or not that desire is still there. Husband decides he's ready to divorce mostly all of my fault. I don't see a way to ever feel happy again. The years of depression (18 years) have won.\n",
                        "\n",
                        "\n",
                        "Structure your response in the following JSON format (no extra text):\n",
                        "{'category_A': [[score], [words, phrases]], 'category_B': [[score], [words, phrases]], ...}\n",
                        "\n",
                        "JSON:\n",
                        "\n",
                        "---------------------\n",
                        "{'desire to escape': [0, []], 'suicidal ideation': [1, ['ready to stop existing']], 'anxiety': [0, []], 'loneliness': [0, []]}\n",
                        "\n",
                        "========================\n",
                        "\n",
                        "Classify the text into one or more of the following mental health categories with their corresponding definitions:\n",
                        "\n",
                        "desire to escape: wish to escape from awareness of current life problems their implications about the self. Examples: escape; paralyzing; no escape; want to get out; there is no exit; want to escape; craving release; escape pain; have to escape; running out of options\n",
                        "suicidal ideation: Suicidal thoughts desiring one's own death or related states. Examples: I want to die; better off dead; want to be dead; want to die; wish I was dead; wish I wasn't alive; wish I would not wake up; would be better off dead\n",
                        "anxiety: Anxiety is a feeling of worry, nervousness, or unease, often about an imminent event or something with an uncertain outcome. We include anxiety disorders. Examples: Xanax; phobia; apprehension; worry; nervous; xanax; can't relax; diazepam; phobic; anxiety; anxious; worried; agoraphobia; social anxiety\n",
                        "loneliness: aversive state experienced when a discrepancy exists between the interpersonal relationships one wishes to have and those that one perceives they currently have. The perception that one's social relationships are not living up to some expectation. Examples: no one to turn to; no one will miss me; nobody thinks about me; nobody wants me here; no friends; no one misses me; I am alone; no one cares; have no one; don't have anyone; feel ignored; have nobody; lonely; no one to talk; no one I can talk to\n",
                        "\n",
                        "Provide a score (0 or 1) as to whether the text clearly mentions the category and an explanation (words or phrases from the text that are very prototypical expressions of the category).\n",
                        "\n",
                        "Text: \n",
                        "Freezing up I'm new to the sub, so I don't really know if this is the right place to ask for help, but I've been told that this is probably linked to some form of anxiety. I've recently gotten over depression through the help of a medication, and since I've started feeling better, I've been feeling a lot more on edge, and social situations and various other interactions have gotten a lot harder. There are times where I'll be talking with somebody (this can be any person, talking about anything. I've had it happen with teachers, relatives, and even some of my closest friends, so I don't think its related to who I'm talking to), and some kind of response is prompted, I come up with an answer/response, but there is something that is physically not letting me say the words. I just stand there with my mouth open trying to say something but I physically can't, and its gotten bad enough that I avoid certain interactions out of fear that it's going to happen again. I've also been taking a different medication that is supposed to help with anxiety as well as depression, but this continues to happen.\n",
                        "\n",
                        "Structure your response in the following JSON format (no extra text):\n",
                        "{'category_A': [[score], [words, phrases]], 'category_B': [[score], [words, phrases]], ...}\n",
                        "\n",
                        "JSON:\n",
                        "\n",
                        "---------------------\n",
                        "{'desire to escape': [0, []], 'suicidal ideation': [0, []], 'anxiety': [1, ['anxiety', 'on edge', 'fear']], 'loneliness': [0, []]}\n",
                        "\n",
                        "========================\n",
                        "\n",
                        "Classify the text into one or more of the following mental health categories with their corresponding definitions:\n",
                        "\n",
                        "desire to escape: wish to escape from awareness of current life problems their implications about the self. Examples: escape; paralyzing; no escape; want to get out; there is no exit; want to escape; craving release; escape pain; have to escape; running out of options\n",
                        "suicidal ideation: Suicidal thoughts desiring one's own death or related states. Examples: I want to die; better off dead; want to be dead; want to die; wish I was dead; wish I wasn't alive; wish I would not wake up; would be better off dead\n",
                        "anxiety: Anxiety is a feeling of worry, nervousness, or unease, often about an imminent event or something with an uncertain outcome. We include anxiety disorders. Examples: Xanax; phobia; apprehension; worry; nervous; xanax; can't relax; diazepam; phobic; anxiety; anxious; worried; agoraphobia; social anxiety\n",
                        "loneliness: aversive state experienced when a discrepancy exists between the interpersonal relationships one wishes to have and those that one perceives they currently have. The perception that one's social relationships are not living up to some expectation. Examples: no one to turn to; no one will miss me; nobody thinks about me; nobody wants me here; no friends; no one misses me; I am alone; no one cares; have no one; don't have anyone; feel ignored; have nobody; lonely; no one to talk; no one I can talk to\n",
                        "\n",
                        "Provide a score (0 or 1) as to whether the text clearly mentions the category and an explanation (words or phrases from the text that are very prototypical expressions of the category).\n",
                        "\n",
                        "Text: \n",
                        "My GAD is starting to ruin my life. I recently left a job that I was really great at, I worked there for 8 years. I left because I was tired of retail hours and I am recently married, so I wanted a better work-life balance. I had no idea that leaving that job and starting a new one would cause debilitating anxiety. For about 3.5 weeks now, I have woken up every morning with extreme nausea and vomiting. This has caused me to quit literally three new jobs since April. I don't know what to do, I don't know how to cope. I just started taking lexapro about 1.5 weeks ago, and I have noticed that I am feeling better. I have a job interview on friday for the same line of work i used to be in, just the competitor. I'm hoping the fact that I'll already know how to do this job will put me in a better place. But what do i do? I'm worried my husband is going to start hating me. He ended up taking me to the hospital last week cause i started vomiting blood and got diagnosed with gastritis, doctor said that it was caused 1000% by my anxiety. what do I do? how can i find a job and live like this?\n",
                        "\n",
                        "Structure your response in the following JSON format (no extra text):\n",
                        "{'category_A': [[score], [words, phrases]], 'category_B': [[score], [words, phrases]], ...}\n",
                        "\n",
                        "JSON:\n",
                        "\n",
                        "---------------------\n",
                        "{'desire to escape': [0, []], 'suicidal ideation': [0, []], 'anxiety': [1, ['GAD', 'debilitating anxiety', 'anxiety', 'worried']], 'loneliness': [0, []]}\n",
                        "\n",
                        "========================\n",
                        "\n",
                        "Classify the text into one or more of the following mental health categories with their corresponding definitions:\n",
                        "\n",
                        "desire to escape: wish to escape from awareness of current life problems their implications about the self. Examples: escape; paralyzing; no escape; want to get out; there is no exit; want to escape; craving release; escape pain; have to escape; running out of options\n",
                        "suicidal ideation: Suicidal thoughts desiring one's own death or related states. Examples: I want to die; better off dead; want to be dead; want to die; wish I was dead; wish I wasn't alive; wish I would not wake up; would be better off dead\n",
                        "anxiety: Anxiety is a feeling of worry, nervousness, or unease, often about an imminent event or something with an uncertain outcome. We include anxiety disorders. Examples: Xanax; phobia; apprehension; worry; nervous; xanax; can't relax; diazepam; phobic; anxiety; anxious; worried; agoraphobia; social anxiety\n",
                        "loneliness: aversive state experienced when a discrepancy exists between the interpersonal relationships one wishes to have and those that one perceives they currently have. The perception that one's social relationships are not living up to some expectation. Examples: no one to turn to; no one will miss me; nobody thinks about me; nobody wants me here; no friends; no one misses me; I am alone; no one cares; have no one; don't have anyone; feel ignored; have nobody; lonely; no one to talk; no one I can talk to\n",
                        "\n",
                        "Provide a score (0 or 1) as to whether the text clearly mentions the category and an explanation (words or phrases from the text that are very prototypical expressions of the category).\n",
                        "\n",
                        "Text: \n",
                        "Anxiety Breakthrough Had a big breakthrough today about my anxiety. Currently withdrawing off of benzos so my anxiety is quite high. I experience a lot of dissociation when I’m anxious, my bodies way to cope. Usually when driving I start to freak out when I dissociate so it makes it worse but today I said fuck it this feels kind of cool. Trying to enjoy the feeling actually made it less and less prominent. Also I have anxiety that when I dissociate I’ll hit another car or something dumb, I literally tried to make myself hit a car and it wasn’t possible my brain stopped myself every time. It’s really crazy how the brain works. Accept the feeling and enjoy it no matter how shitty it is.\n",
                        "\n",
                        "Structure your response in the following JSON format (no extra text):\n",
                        "{'category_A': [[score], [words, phrases]], 'category_B': [[score], [words, phrases]], ...}\n",
                        "\n",
                        "JSON:\n",
                        "\n",
                        "---------------------\n",
                        "{'desire to escape': [0, []], 'suicidal ideation': [0, []], 'anxiety': [1, ['Anxiety', 'anxiety', 'anxious', 'anxiety']], 'loneliness': [0, []]}\n",
                        "\n",
                        "========================\n",
                        "\n",
                        "Classify the text into one or more of the following mental health categories with their corresponding definitions:\n",
                        "\n",
                        "desire to escape: wish to escape from awareness of current life problems their implications about the self. Examples: escape; paralyzing; no escape; want to get out; there is no exit; want to escape; craving release; escape pain; have to escape; running out of options\n",
                        "suicidal ideation: Suicidal thoughts desiring one's own death or related states. Examples: I want to die; better off dead; want to be dead; want to die; wish I was dead; wish I wasn't alive; wish I would not wake up; would be better off dead\n",
                        "anxiety: Anxiety is a feeling of worry, nervousness, or unease, often about an imminent event or something with an uncertain outcome. We include anxiety disorders. Examples: Xanax; phobia; apprehension; worry; nervous; xanax; can't relax; diazepam; phobic; anxiety; anxious; worried; agoraphobia; social anxiety\n",
                        "loneliness: aversive state experienced when a discrepancy exists between the interpersonal relationships one wishes to have and those that one perceives they currently have. The perception that one's social relationships are not living up to some expectation. Examples: no one to turn to; no one will miss me; nobody thinks about me; nobody wants me here; no friends; no one misses me; I am alone; no one cares; have no one; don't have anyone; feel ignored; have nobody; lonely; no one to talk; no one I can talk to\n",
                        "\n",
                        "Provide a score (0 or 1) as to whether the text clearly mentions the category and an explanation (words or phrases from the text that are very prototypical expressions of the category).\n",
                        "\n",
                        "Text: \n",
                        "Would drinking isopropyl alcohol kill me? Would it be any better than bleach?\n",
                        "\n",
                        "Structure your response in the following JSON format (no extra text):\n",
                        "{'category_A': [[score], [words, phrases]], 'category_B': [[score], [words, phrases]], ...}\n",
                        "\n",
                        "JSON:\n",
                        "\n",
                        "---------------------\n",
                        "{'desire to escape': [0, []], 'suicidal ideation': [1, ['kill me']], 'anxiety': [0, []], 'loneliness': [0, []]}\n",
                        "\n",
                        "========================\n",
                        "\n"
                    ]
                }
            ],
            "source": [
                "results = {}\n",
                "\n",
                "for file, text  in texts.items():\n",
                "    prompt = prompt_template_with_definitions.format(context = 'mental health',\n",
                "              categories = categories_with_definitions,\n",
                "              text= text\n",
                "              )\n",
                "\n",
                "    \n",
                "    print(prompt)\n",
                "    \n",
                "    # Make request. WARNING: this costs some money depending on model\n",
                "    response, metadata = openrouter_request(prompt, OPENROUTER_API_KEY, model = model, temperature=0)\n",
                "    print('---------------------')\n",
                "    print(response)\n",
                "    results[file] = response\n",
                "    print('\\n========================\\n')\n"
            ]
        },
        {
            "cell_type": "code",
            "execution_count": 16,
            "metadata": {},
            "outputs": [
                {
                    "data": {
                        "text/plain": [
                            "{'1_suicidewatch': {'desire to escape': [0, []],\n",
                            "  'suicidal ideation': [1, ['ready to stop existing']],\n",
                            "  'anxiety': [0, []],\n",
                            "  'loneliness': [0, []]},\n",
                            " '2_anxiety': {'desire to escape': [0, []],\n",
                            "  'suicidal ideation': [0, []],\n",
                            "  'anxiety': [1, ['anxiety', 'on edge', 'fear']],\n",
                            "  'loneliness': [0, []]},\n",
                            " '3_anxiety': {'desire to escape': [0, []],\n",
                            "  'suicidal ideation': [0, []],\n",
                            "  'anxiety': [1, ['GAD', 'debilitating anxiety', 'anxiety', 'worried']],\n",
                            "  'loneliness': [0, []]},\n",
                            " '4_anxiety': {'desire to escape': [0, []],\n",
                            "  'suicidal ideation': [0, []],\n",
                            "  'anxiety': [1, ['Anxiety', 'anxiety', 'anxious', 'anxiety']],\n",
                            "  'loneliness': [0, []]},\n",
                            " '5_suicidewatch': {'desire to escape': [0, []],\n",
                            "  'suicidal ideation': [1, ['kill me']],\n",
                            "  'anxiety': [0, []],\n",
                            "  'loneliness': [0, []]}}"
                        ]
                    },
                    "execution_count": 16,
                    "metadata": {},
                    "output_type": "execute_result"
                }
            ],
            "source": [
                "results"
            ]
        },
        {
            "cell_type": "code",
            "execution_count": 17,
            "metadata": {
                "id": "pUSHMK3-u9Pq"
            },
            "outputs": [
                {
                    "data": {
                        "text/plain": [
                            "{'id': 'gen-1758661821-OktCcjjQ4qAmPqZ0EjPM',\n",
                            " 'provider': 'Google',\n",
                            " 'model': 'google/gemini-2.5-flash',\n",
                            " 'object': 'chat.completion',\n",
                            " 'created': 1758661821,\n",
                            " 'choices': [{'logprobs': None,\n",
                            "   'finish_reason': 'stop',\n",
                            "   'native_finish_reason': 'STOP',\n",
                            "   'index': 0,\n",
                            "   'message': {'role': 'assistant',\n",
                            "    'content': '{\\n  \"desire to escape\": [\\n    0,\\n    []\\n  ],\\n  \"suicidal ideation\": [\\n    1,\\n    [\\n      \"kill me\"\\n    ]\\n  ],\\n  \"anxiety\": [\\n    0,\\n    []\\n  ],\\n  \"loneliness\": [\\n    0,\\n    []\\n  ]\\n}',\n",
                            "    'refusal': None,\n",
                            "    'reasoning': None}}],\n",
                            " 'usage': {'prompt_tokens': 431,\n",
                            "  'completion_tokens': 82,\n",
                            "  'total_tokens': 513,\n",
                            "  'prompt_tokens_details': {'cached_tokens': 0},\n",
                            "  'completion_tokens_details': {'reasoning_tokens': 0, 'image_tokens': 0}}}"
                        ]
                    },
                    "execution_count": 17,
                    "metadata": {},
                    "output_type": "execute_result"
                }
            ],
            "source": [
                "# Format JSON into CSV\n",
                "metadata\n"
            ]
        },
        {
            "cell_type": "markdown",
            "metadata": {},
            "source": [
                "# Turn JSON results into a csv\n",
                "With each document as a row and each category as a column"
            ]
        },
        {
            "cell_type": "code",
            "execution_count": 18,
            "metadata": {},
            "outputs": [
                {
                    "data": {
                        "text/html": [
                            "<div>\n",
                            "<style scoped>\n",
                            "    .dataframe tbody tr th:only-of-type {\n",
                            "        vertical-align: middle;\n",
                            "    }\n",
                            "\n",
                            "    .dataframe tbody tr th {\n",
                            "        vertical-align: top;\n",
                            "    }\n",
                            "\n",
                            "    .dataframe thead th {\n",
                            "        text-align: right;\n",
                            "    }\n",
                            "</style>\n",
                            "<table border=\"1\" class=\"dataframe\">\n",
                            "  <thead>\n",
                            "    <tr style=\"text-align: right;\">\n",
                            "      <th></th>\n",
                            "      <th>sentence</th>\n",
                            "      <th>desire to escape_score</th>\n",
                            "      <th>desire to escape_explanation</th>\n",
                            "      <th>suicidal ideation_score</th>\n",
                            "      <th>suicidal ideation_explanation</th>\n",
                            "      <th>anxiety_score</th>\n",
                            "      <th>anxiety_explanation</th>\n",
                            "      <th>loneliness_score</th>\n",
                            "      <th>loneliness_explanation</th>\n",
                            "    </tr>\n",
                            "  </thead>\n",
                            "  <tbody>\n",
                            "    <tr>\n",
                            "      <th>0</th>\n",
                            "      <td>1_suicidewatch</td>\n",
                            "      <td>0</td>\n",
                            "      <td>[]</td>\n",
                            "      <td>1</td>\n",
                            "      <td>[ready to stop existing]</td>\n",
                            "      <td>0</td>\n",
                            "      <td>[]</td>\n",
                            "      <td>0</td>\n",
                            "      <td>[]</td>\n",
                            "    </tr>\n",
                            "    <tr>\n",
                            "      <th>1</th>\n",
                            "      <td>2_anxiety</td>\n",
                            "      <td>0</td>\n",
                            "      <td>[]</td>\n",
                            "      <td>0</td>\n",
                            "      <td>[]</td>\n",
                            "      <td>1</td>\n",
                            "      <td>[anxiety, on edge, fear]</td>\n",
                            "      <td>0</td>\n",
                            "      <td>[]</td>\n",
                            "    </tr>\n",
                            "    <tr>\n",
                            "      <th>2</th>\n",
                            "      <td>3_anxiety</td>\n",
                            "      <td>0</td>\n",
                            "      <td>[]</td>\n",
                            "      <td>0</td>\n",
                            "      <td>[]</td>\n",
                            "      <td>1</td>\n",
                            "      <td>[GAD, debilitating anxiety, anxiety, worried]</td>\n",
                            "      <td>0</td>\n",
                            "      <td>[]</td>\n",
                            "    </tr>\n",
                            "    <tr>\n",
                            "      <th>3</th>\n",
                            "      <td>4_anxiety</td>\n",
                            "      <td>0</td>\n",
                            "      <td>[]</td>\n",
                            "      <td>0</td>\n",
                            "      <td>[]</td>\n",
                            "      <td>1</td>\n",
                            "      <td>[Anxiety, anxiety, anxious, anxiety]</td>\n",
                            "      <td>0</td>\n",
                            "      <td>[]</td>\n",
                            "    </tr>\n",
                            "    <tr>\n",
                            "      <th>4</th>\n",
                            "      <td>5_suicidewatch</td>\n",
                            "      <td>0</td>\n",
                            "      <td>[]</td>\n",
                            "      <td>1</td>\n",
                            "      <td>[kill me]</td>\n",
                            "      <td>0</td>\n",
                            "      <td>[]</td>\n",
                            "      <td>0</td>\n",
                            "      <td>[]</td>\n",
                            "    </tr>\n",
                            "  </tbody>\n",
                            "</table>\n",
                            "</div>"
                        ],
                        "text/plain": [
                            "         sentence  desire to escape_score desire to escape_explanation  \\\n",
                            "0  1_suicidewatch                       0                           []   \n",
                            "1       2_anxiety                       0                           []   \n",
                            "2       3_anxiety                       0                           []   \n",
                            "3       4_anxiety                       0                           []   \n",
                            "4  5_suicidewatch                       0                           []   \n",
                            "\n",
                            "   suicidal ideation_score suicidal ideation_explanation  anxiety_score  \\\n",
                            "0                        1      [ready to stop existing]              0   \n",
                            "1                        0                            []              1   \n",
                            "2                        0                            []              1   \n",
                            "3                        0                            []              1   \n",
                            "4                        1                     [kill me]              0   \n",
                            "\n",
                            "                             anxiety_explanation  loneliness_score  \\\n",
                            "0                                             []                 0   \n",
                            "1                       [anxiety, on edge, fear]                 0   \n",
                            "2  [GAD, debilitating anxiety, anxiety, worried]                 0   \n",
                            "3           [Anxiety, anxiety, anxious, anxiety]                 0   \n",
                            "4                                             []                 0   \n",
                            "\n",
                            "  loneliness_explanation  \n",
                            "0                     []  \n",
                            "1                     []  \n",
                            "2                     []  \n",
                            "3                     []  \n",
                            "4                     []  "
                        ]
                    },
                    "metadata": {},
                    "output_type": "display_data"
                }
            ],
            "source": [
                "rows = []\n",
                "for post_id, categories in results.items():\n",
                "    row = {'sentence': post_id}\n",
                "    for category, (score, explanation) in categories.items():\n",
                "        row[f'{category}_score'] = score\n",
                "        row[f'{category}_explanation'] = explanation\n",
                "    rows.append(row)\n",
                "\n",
                "# Create DataFrame\n",
                "df = pd.DataFrame(rows)\n",
                "display(df)\n",
                "df.to_csv(output_dir+'openrouter_results.csv', index=False)\n"
            ]
        },
        {
            "cell_type": "code",
            "execution_count": 19,
            "metadata": {},
            "outputs": [
                {
                    "data": {
                        "text/plain": [
                            "{'1_suicidewatch': {'desire to escape': [0, []],\n",
                            "  'suicidal ideation': [1, ['ready to stop existing']],\n",
                            "  'anxiety': [0, []],\n",
                            "  'loneliness': [0, []]},\n",
                            " '2_anxiety': {'desire to escape': [0, []],\n",
                            "  'suicidal ideation': [0, []],\n",
                            "  'anxiety': [1, ['anxiety', 'on edge', 'fear']],\n",
                            "  'loneliness': [0, []]},\n",
                            " '3_anxiety': {'desire to escape': [0, []],\n",
                            "  'suicidal ideation': [0, []],\n",
                            "  'anxiety': [1, ['GAD', 'debilitating anxiety', 'anxiety', 'worried']],\n",
                            "  'loneliness': [0, []]},\n",
                            " '4_anxiety': {'desire to escape': [0, []],\n",
                            "  'suicidal ideation': [0, []],\n",
                            "  'anxiety': [1, ['Anxiety', 'anxiety', 'anxious', 'anxiety']],\n",
                            "  'loneliness': [0, []]},\n",
                            " '5_suicidewatch': {'desire to escape': [0, []],\n",
                            "  'suicidal ideation': [1, ['kill me']],\n",
                            "  'anxiety': [0, []],\n",
                            "  'loneliness': [0, []]}}"
                        ]
                    },
                    "execution_count": 19,
                    "metadata": {},
                    "output_type": "execute_result"
                }
            ],
            "source": [
                "results"
            ]
        },
        {
            "cell_type": "code",
            "execution_count": 20,
            "metadata": {},
            "outputs": [
                {
                    "name": "stdout",
                    "output_type": "stream",
                    "text": [
                        "post_id:  5_suicidewatch\n",
                        "categories:  {'desire to escape': [0, []], 'suicidal ideation': [1, ['kill me']], 'anxiety': [0, []], 'loneliness': [0, []]}\n",
                        "category:  loneliness\n",
                        "score:  0\n",
                        "explanation:  []\n"
                    ]
                }
            ],
            "source": [
                "print('post_id: ', post_id)\n",
                "print('categories: ', categories)\n",
                "print('category: ', category)\n",
                "print('score: ', score)\n",
                "print('explanation: ', explanation)\n"
            ]
        },
        {
            "cell_type": "markdown",
            "metadata": {},
            "source": [
                "# Ejemplo usando LLMs para obtener propiedades linguisticas en espanol"
            ]
        },
        {
            "cell_type": "code",
            "execution_count": 21,
            "metadata": {},
            "outputs": [],
            "source": [
                "# Choose which prompt to use\n",
                "prompt_template = \"\"\"Para la siguiente texto, devolvé el tiempo, aspecto y modo verbal para cada frase verbal:\n",
                "\n",
                "{text}\n",
                "\n",
                "Estructurá tu respuesta en el siguiente formato JSON (sin texto extra):\n",
                "{{frase_verbal_A: ['tiempo': <tiempo>, 'aspecto': <aspecto>, 'modo': <modo>], frase_verbal_B: [...] }}\n",
                "\n",
                "JSON:\n",
                "\"\"\"\n",
                "\n",
                "\n",
                "textos = {'001': 'Sospecho, sin embargo, que no era muy capaz de pensar. Pensar es olvidar diferencias, es generalizar, abstraer. En el abarrotado mundo de Funes no había sino detalles, casi inmediatos.'}\n",
                "\n",
                "prompt = prompt_template.format(text = textos.get('001'))\n",
                "\n",
                "final_result, metadata = openrouter_request(prompt, OPENROUTER_API_KEY, model = model, temperature=0)"
            ]
        },
        {
            "cell_type": "code",
            "execution_count": 22,
            "metadata": {},
            "outputs": [
                {
                    "data": {
                        "text/plain": [
                            "{'Sospecho': {'tiempo': 'presente',\n",
                            "  'aspecto': 'imperfectivo',\n",
                            "  'modo': 'indicativo'},\n",
                            " 'era': {'tiempo': 'pretérito imperfecto',\n",
                            "  'aspecto': 'imperfectivo',\n",
                            "  'modo': 'indicativo'},\n",
                            " 'capaz de pensar': {'tiempo': 'infinitivo',\n",
                            "  'aspecto': 'no aplica',\n",
                            "  'modo': 'no aplica'},\n",
                            " 'Pensar': {'tiempo': 'infinitivo',\n",
                            "  'aspecto': 'no aplica',\n",
                            "  'modo': 'no aplica'},\n",
                            " 'es olvidar': {'tiempo': 'presente',\n",
                            "  'aspecto': 'imperfectivo',\n",
                            "  'modo': 'indicativo'},\n",
                            " 'es generalizar': {'tiempo': 'presente',\n",
                            "  'aspecto': 'imperfectivo',\n",
                            "  'modo': 'indicativo'},\n",
                            " 'abstraer': {'tiempo': 'infinitivo',\n",
                            "  'aspecto': 'no aplica',\n",
                            "  'modo': 'no aplica'},\n",
                            " 'había': {'tiempo': 'pretérito imperfecto',\n",
                            "  'aspecto': 'imperfectivo',\n",
                            "  'modo': 'indicativo'}}"
                        ]
                    },
                    "execution_count": 22,
                    "metadata": {},
                    "output_type": "execute_result"
                }
            ],
            "source": [
                "final_result"
            ]
        },
        {
            "cell_type": "code",
            "execution_count": 23,
            "metadata": {},
            "outputs": [
                {
                    "data": {
                        "text/html": [
                            "<div>\n",
                            "<style scoped>\n",
                            "    .dataframe tbody tr th:only-of-type {\n",
                            "        vertical-align: middle;\n",
                            "    }\n",
                            "\n",
                            "    .dataframe tbody tr th {\n",
                            "        vertical-align: top;\n",
                            "    }\n",
                            "\n",
                            "    .dataframe thead th {\n",
                            "        text-align: right;\n",
                            "    }\n",
                            "</style>\n",
                            "<table border=\"1\" class=\"dataframe\">\n",
                            "  <thead>\n",
                            "    <tr style=\"text-align: right;\">\n",
                            "      <th></th>\n",
                            "      <th>frase verbal</th>\n",
                            "      <th>tiempo</th>\n",
                            "      <th>aspecto</th>\n",
                            "      <th>modo</th>\n",
                            "      <th>texto</th>\n",
                            "    </tr>\n",
                            "  </thead>\n",
                            "  <tbody>\n",
                            "    <tr>\n",
                            "      <th>0</th>\n",
                            "      <td>Sospecho</td>\n",
                            "      <td>presente</td>\n",
                            "      <td>imperfectivo</td>\n",
                            "      <td>indicativo</td>\n",
                            "      <td>001</td>\n",
                            "    </tr>\n",
                            "    <tr>\n",
                            "      <th>1</th>\n",
                            "      <td>era</td>\n",
                            "      <td>pretérito imperfecto</td>\n",
                            "      <td>imperfectivo</td>\n",
                            "      <td>indicativo</td>\n",
                            "      <td>001</td>\n",
                            "    </tr>\n",
                            "    <tr>\n",
                            "      <th>2</th>\n",
                            "      <td>capaz de pensar</td>\n",
                            "      <td>infinitivo</td>\n",
                            "      <td>no aplica</td>\n",
                            "      <td>no aplica</td>\n",
                            "      <td>001</td>\n",
                            "    </tr>\n",
                            "    <tr>\n",
                            "      <th>3</th>\n",
                            "      <td>Pensar</td>\n",
                            "      <td>infinitivo</td>\n",
                            "      <td>no aplica</td>\n",
                            "      <td>no aplica</td>\n",
                            "      <td>001</td>\n",
                            "    </tr>\n",
                            "    <tr>\n",
                            "      <th>4</th>\n",
                            "      <td>es olvidar</td>\n",
                            "      <td>presente</td>\n",
                            "      <td>imperfectivo</td>\n",
                            "      <td>indicativo</td>\n",
                            "      <td>001</td>\n",
                            "    </tr>\n",
                            "    <tr>\n",
                            "      <th>5</th>\n",
                            "      <td>es generalizar</td>\n",
                            "      <td>presente</td>\n",
                            "      <td>imperfectivo</td>\n",
                            "      <td>indicativo</td>\n",
                            "      <td>001</td>\n",
                            "    </tr>\n",
                            "    <tr>\n",
                            "      <th>6</th>\n",
                            "      <td>abstraer</td>\n",
                            "      <td>infinitivo</td>\n",
                            "      <td>no aplica</td>\n",
                            "      <td>no aplica</td>\n",
                            "      <td>001</td>\n",
                            "    </tr>\n",
                            "    <tr>\n",
                            "      <th>7</th>\n",
                            "      <td>había</td>\n",
                            "      <td>pretérito imperfecto</td>\n",
                            "      <td>imperfectivo</td>\n",
                            "      <td>indicativo</td>\n",
                            "      <td>001</td>\n",
                            "    </tr>\n",
                            "  </tbody>\n",
                            "</table>\n",
                            "</div>"
                        ],
                        "text/plain": [
                            "      frase verbal                tiempo       aspecto        modo texto\n",
                            "0         Sospecho              presente  imperfectivo  indicativo   001\n",
                            "1              era  pretérito imperfecto  imperfectivo  indicativo   001\n",
                            "2  capaz de pensar            infinitivo     no aplica   no aplica   001\n",
                            "3           Pensar            infinitivo     no aplica   no aplica   001\n",
                            "4       es olvidar              presente  imperfectivo  indicativo   001\n",
                            "5   es generalizar              presente  imperfectivo  indicativo   001\n",
                            "6         abstraer            infinitivo     no aplica   no aplica   001\n",
                            "7            había  pretérito imperfecto  imperfectivo  indicativo   001"
                        ]
                    },
                    "execution_count": 23,
                    "metadata": {},
                    "output_type": "execute_result"
                }
            ],
            "source": [
                "\n",
                "resultados = pd.DataFrame(final_result).T.reset_index()\n",
                "# rename column\n",
                "resultados = resultados.rename(columns={'index':'frase verbal'})\n",
                "resultados['texto'] = '001'\n",
                "resultados"
            ]
        },
        {
            "cell_type": "code",
            "execution_count": 24,
            "metadata": {},
            "outputs": [
                {
                    "data": {
                        "text/plain": [
                            "'Sospecho, sin embargo, que no era muy capaz de pensar. Pensar es olvidar diferencias, es generalizar, abstraer. En el abarrotado mundo de Funes no había sino detalles, casi inmediatos.'"
                        ]
                    },
                    "execution_count": 24,
                    "metadata": {},
                    "output_type": "execute_result"
                }
            ],
            "source": [
                "textos.get('001')"
            ]
        },
        {
            "cell_type": "code",
            "execution_count": null,
            "metadata": {},
            "outputs": [],
            "source": []
        }
    ],
    "metadata": {
        "colab": {
            "provenance": []
        },
        "kernelspec": {
            "display_name": "llm_course",
            "language": "python",
            "name": "python3"
        },
        "language_info": {
            "codemirror_mode": {
                "name": "ipython",
                "version": 3
            },
            "file_extension": ".py",
            "mimetype": "text/x-python",
            "name": "python",
            "nbconvert_exporter": "python",
            "pygments_lexer": "ipython3",
            "version": "3.11.13"
        }
    },
    "nbformat": 4,
    "nbformat_minor": 0
}
