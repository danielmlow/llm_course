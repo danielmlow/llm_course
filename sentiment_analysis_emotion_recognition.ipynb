{
 "cells": [
  {
   "cell_type": "markdown",
   "metadata": {},
   "source": [
    "[![Open In Colab](https://colab.research.google.com/assets/colab-badge.svg)](https://colab.research.google.com/github/danielmlow/llm_course/blob/main/text/sentiment_analysis_emotion_recognition.ipynb)"
   ]
  },
  {
   "cell_type": "markdown",
   "metadata": {
    "id": "f-pMiH-uCnUH"
   },
   "source": [
    "# Sentiment analysis and emotion classification (pre-trained)\n",
    "\n",
    "If it's super slow you can activate the GPU in Colab under Runtime -> Change runtime type > T4 GPU"
   ]
  },
  {
   "cell_type": "code",
   "execution_count": null,
   "metadata": {
    "colab": {
     "base_uri": "https://localhost:8080/"
    },
    "executionInfo": {
     "elapsed": 16362,
     "status": "ok",
     "timestamp": 1732645307515,
     "user": {
      "displayName": "Daniel Low",
      "userId": "13357881499464447434"
     },
     "user_tz": 180
    },
    "id": "LnxqY0_-_-V_",
    "outputId": "4c1a6e6a-06c7-423c-f21c-75ae164abbae"
   },
   "outputs": [
    {
     "name": "stdout",
     "output_type": "stream",
     "text": [
      "Collecting torch\n",
      "  Using cached torch-2.8.0-cp311-none-macosx_11_0_arm64.whl.metadata (30 kB)\n",
      "Requirement already satisfied: filelock in /Users/danielmlow/miniconda3/envs/llm_course/lib/python3.11/site-packages (from torch) (3.19.1)\n",
      "Requirement already satisfied: typing-extensions>=4.10.0 in /Users/danielmlow/miniconda3/envs/llm_course/lib/python3.11/site-packages (from torch) (4.15.0)\n",
      "Collecting sympy>=1.13.3 (from torch)\n",
      "  Using cached sympy-1.14.0-py3-none-any.whl.metadata (12 kB)\n",
      "Collecting networkx (from torch)\n",
      "  Using cached networkx-3.5-py3-none-any.whl.metadata (6.3 kB)\n",
      "Collecting jinja2 (from torch)\n",
      "  Using cached jinja2-3.1.6-py3-none-any.whl.metadata (2.9 kB)\n",
      "Requirement already satisfied: fsspec in /Users/danielmlow/miniconda3/envs/llm_course/lib/python3.11/site-packages (from torch) (2025.9.0)\n",
      "Collecting mpmath<1.4,>=1.1.0 (from sympy>=1.13.3->torch)\n",
      "  Using cached mpmath-1.3.0-py3-none-any.whl.metadata (8.6 kB)\n",
      "Collecting MarkupSafe>=2.0 (from jinja2->torch)\n",
      "  Using cached MarkupSafe-3.0.2-cp311-cp311-macosx_11_0_arm64.whl.metadata (4.0 kB)\n",
      "Using cached torch-2.8.0-cp311-none-macosx_11_0_arm64.whl (73.6 MB)\n",
      "Using cached sympy-1.14.0-py3-none-any.whl (6.3 MB)\n",
      "Using cached mpmath-1.3.0-py3-none-any.whl (536 kB)\n",
      "Using cached jinja2-3.1.6-py3-none-any.whl (134 kB)\n",
      "Using cached MarkupSafe-3.0.2-cp311-cp311-macosx_11_0_arm64.whl (12 kB)\n",
      "Using cached networkx-3.5-py3-none-any.whl (2.0 MB)\n",
      "Installing collected packages: mpmath, sympy, networkx, MarkupSafe, jinja2, torch\n",
      "\u001b[2K   \u001b[90m━━━━━━━━━━━━━━━━━━━━━━━━━━━━━━━━━━━━━━━━\u001b[0m \u001b[32m6/6\u001b[0m [torch]32m5/6\u001b[0m [torch]kx]\n",
      "\u001b[1A\u001b[2KSuccessfully installed MarkupSafe-3.0.2 jinja2-3.1.6 mpmath-1.3.0 networkx-3.5 sympy-1.14.0 torch-2.8.0\n"
     ]
    }
   ],
   "source": [
    "!pip install torch==2.8.0\n",
    "# maybe: !pip install -q transformers==4.33.2"
   ]
  },
  {
   "cell_type": "code",
   "execution_count": 5,
   "metadata": {
    "colab": {
     "base_uri": "https://localhost:8080/"
    },
    "executionInfo": {
     "elapsed": 19306,
     "status": "ok",
     "timestamp": 1732645346065,
     "user": {
      "displayName": "Daniel Low",
      "userId": "13357881499464447434"
     },
     "user_tz": 180
    },
    "id": "n9OOzU1gAa0I",
    "outputId": "89444676-9e8e-4c7b-935c-26081981f094"
   },
   "outputs": [],
   "source": [
    "import pandas as pd\n",
    "import os\n",
    "from transformers import RobertaTokenizerFast, TFRobertaForSequenceClassification, pipeline\n",
    "\n",
    "on_colab = False\n",
    "\n",
    "if on_colab:\n",
    "  from google.colab import drive\n",
    "  project_name = 'project_name'\n",
    "  drive.mount('/content/drive')\n",
    "  input_dir = f'/content/drive/MyDrive/consulting/matt/er/data/input/'\n",
    "  output_dir = f'/content/drive/MyDrive/consulting/matt/er/data/output/'\n",
    "else:\n",
    "  input_dir = './data/input/'\n",
    "  output_dir = './data/output/'\n",
    "\n",
    "os.makedirs(output_dir, exist_ok=True)\n",
    "\n",
    "\n"
   ]
  },
  {
   "cell_type": "code",
   "execution_count": 6,
   "metadata": {
    "executionInfo": {
     "elapsed": 872,
     "status": "ok",
     "timestamp": 1732645387881,
     "user": {
      "displayName": "Daniel Low",
      "userId": "13357881499464447434"
     },
     "user_tz": 180
    },
    "id": "OEMmrWnXsGD3"
   },
   "outputs": [],
   "source": [
    "\n",
    "# Change to your dataset:\n",
    "\n",
    "# docs = pd.read_csv(input_dir + 'dataset.csv')['text_col'].values\n",
    "# docs = [str(n) for n in docs] # make sure they'll all strings\n",
    "\n",
    "\n",
    "docs = ['I am happy',\n",
    "        \"I'm happy, but worried about tomorrow\",\n",
    "        \"I'm miserable\",\n",
    "        \"I'm sad, but hopeful\",\n",
    "        'I am not happy',\n",
    "        'I wish I were happy',\n",
    "        \"I'm sad, but hopeful\",\n",
    "        \"Don't talk to me like that!\",\n",
    "        \"Really? I'm shocked!\"]"
   ]
  },
  {
   "cell_type": "code",
   "execution_count": 7,
   "metadata": {
    "executionInfo": {
     "elapsed": 521,
     "status": "ok",
     "timestamp": 1732645410497,
     "user": {
      "displayName": "Daniel Low",
      "userId": "13357881499464447434"
     },
     "user_tz": 180
    },
    "id": "C8SOcNJAAZys"
   },
   "outputs": [],
   "source": [
    "def huggingface_output_2_df(output_dict, add_to_col_names = None):\n",
    "\tfeature_names = [n.get('label') for n in output_dict[0]]\n",
    "\tif add_to_col_names:\n",
    "\t\tfeature_names = [add_to_col_names+n for n in feature_names]\n",
    "\tfeature_vectors = []\n",
    "\tfor doc in output_dict:\n",
    "\t\tfeature_vectors_doc = []\n",
    "\t\tfor feature in doc:\n",
    "\t\t\tfeature_vectors_doc.append(feature.get('score'))\n",
    "\t\tfeature_vectors.append(feature_vectors_doc)\n",
    "\tfeature_vectors = pd.DataFrame(feature_vectors, columns = feature_names)\n",
    "\treturn feature_vectors"
   ]
  },
  {
   "cell_type": "markdown",
   "metadata": {
    "id": "WrKIdjcmrlZY"
   },
   "source": [
    "# Extract sentiment analysis\n"
   ]
  },
  {
   "cell_type": "code",
   "execution_count": 4,
   "metadata": {
    "colab": {
     "base_uri": "https://localhost:8080/",
     "height": 373,
     "referenced_widgets": [
      "a4016e0e5a1a488db5f89be22d57b3e6",
      "da00b7e675d04f8c9459ae90360b86fa",
      "9b957128726b46728564e5f6fdc67c55",
      "c20e84f6ff3b410f97a64dd140ad5bca",
      "4f893782b9044774985fae282e08dff2",
      "dc6d5a3f5f7a48b2b8a334ad2a6831b7",
      "0df0918f6ae24e849e61f1d4a92bb2f6",
      "d728bf438cfb42e196d1c1300be5e614",
      "b6bb599e87184a058f0f6335f9ce3c8d",
      "ad967e5ed6984f31a875c0ca6d5f95f1",
      "877bfab141064ba688c277b1e059e484",
      "205bd599aeb442f79fec7a2fafa8622e",
      "051979cdde1b497e9b91fe859d1fcb40",
      "5a0baf9f9755432983602925cb9e8b2c",
      "478b0d54667c4942992ec543eea8010c",
      "fbbf9f47f6024100b3eda41282f859bb",
      "61bde66722e343abadfb24ff9c35c3a4",
      "8d5bf6112d6a411989a11d93f115e04e",
      "8536fb42280c4f08901894e286372fd8",
      "1b9efe0e645a4f049537a6f08744c1f3",
      "9446988752614095af4345a1a0a882d7",
      "9ebb1473179144728ef571cce5830c74",
      "4c0dda3818db414996b2c09262e2805e",
      "95c56ecac3c843439afbfe34cfc9f347",
      "c36eefe36b6340809b55664cbb5ede0b",
      "7e8844d0e0084bb4b9aeb04123b831dc",
      "3436a1d51e0748a0a729db9e0a269287",
      "898fff6c5c7947f5bb546cdaa090c50f",
      "fb06c961606a42c4a7d3bf55c2faee91",
      "3b6f00bdfc6d483b9eabc804467d1706",
      "f973568acf2446629b0cca9fb42bf3d1",
      "7fee38b78a904f429749196e0dced3cf",
      "48094035c031430e82fe01d59cdf9e15",
      "3ab5fe97ad6d4e36bc09567f16ae39c2",
      "3feecc5348af44c2b2b0e055e3a2b374",
      "1b0d9d04c8b94a1c99de0ae7b63f7b66",
      "b50f5d5a87c34cae94360be347cc7ca3",
      "42da53fbda6c4201932c791c21edae68",
      "eacd49e1bb4f439eadd674dc10a29cb9",
      "9d476840a4f441369eb0079e72a9478d",
      "d09a2d9e88de4ad09501d0e380d87dd6",
      "16277cf27aec4ea0bf58319e793d568d",
      "3f476892c1b34f009c52dd7e8f79ef15",
      "17c3d06e2ac843dcba862f111c5f944b"
     ]
    },
    "executionInfo": {
     "elapsed": 5702,
     "status": "ok",
     "timestamp": 1732645431388,
     "user": {
      "displayName": "Daniel Low",
      "userId": "13357881499464447434"
     },
     "user_tz": 180
    },
    "id": "wd-H8wYnrlrl",
    "outputId": "0f06c7fe-d2f4-424f-fa45-9e8a5b874b43"
   },
   "outputs": [
    {
     "name": "stderr",
     "output_type": "stream",
     "text": [
      "No model was supplied, defaulted to distilbert-base-uncased-finetuned-sst-2-english and revision af0f99b (https://huggingface.co/distilbert-base-uncased-finetuned-sst-2-english).\n",
      "Using a pipeline without specifying a model name and revision in production is not recommended.\n",
      "/Users/danielmlow/miniconda3/envs/llm_course/lib/python3.11/site-packages/huggingface_hub/file_download.py:945: FutureWarning: `resume_download` is deprecated and will be removed in version 1.0.0. Downloads always resume when possible. If you want to force a new download, use `force_download=True`.\n",
      "  warnings.warn(\n"
     ]
    },
    {
     "data": {
      "application/vnd.jupyter.widget-view+json": {
       "model_id": "1f62b5e2dcf742e984e0058abe067aee",
       "version_major": 2,
       "version_minor": 0
      },
      "text/plain": [
       "model.safetensors:   0%|          | 0.00/268M [00:00<?, ?B/s]"
      ]
     },
     "metadata": {},
     "output_type": "display_data"
    },
    {
     "data": {
      "application/vnd.jupyter.widget-view+json": {
       "model_id": "c13986f9296945188f8afa6908276d51",
       "version_major": 2,
       "version_minor": 0
      },
      "text/plain": [
       "tokenizer_config.json:   0%|          | 0.00/48.0 [00:00<?, ?B/s]"
      ]
     },
     "metadata": {},
     "output_type": "display_data"
    },
    {
     "data": {
      "application/vnd.jupyter.widget-view+json": {
       "model_id": "cd92caea7d7b47fb94ddad5df34ce66c",
       "version_major": 2,
       "version_minor": 0
      },
      "text/plain": [
       "vocab.txt:   0%|          | 0.00/232k [00:00<?, ?B/s]"
      ]
     },
     "metadata": {},
     "output_type": "display_data"
    },
    {
     "name": "stderr",
     "output_type": "stream",
     "text": [
      "/Users/danielmlow/miniconda3/envs/llm_course/lib/python3.11/site-packages/transformers/pipelines/text_classification.py:105: UserWarning: `return_all_scores` is now deprecated,  if want a similar functionality use `top_k=None` instead of `return_all_scores=True` or `top_k=1` instead of `return_all_scores=False`.\n",
      "  warnings.warn(\n"
     ]
    }
   ],
   "source": [
    "from transformers import pipeline\n",
    "sentiment_pipeline = pipeline(\"sentiment-analysis\")\n",
    "output_dict = sentiment_pipeline(docs, return_all_scores=True)"
   ]
  },
  {
   "cell_type": "code",
   "execution_count": 8,
   "metadata": {
    "colab": {
     "base_uri": "https://localhost:8080/",
     "height": 332
    },
    "executionInfo": {
     "elapsed": 431,
     "status": "ok",
     "timestamp": 1732645502535,
     "user": {
      "displayName": "Daniel Low",
      "userId": "13357881499464447434"
     },
     "user_tz": 180
    },
    "id": "B5OWsayGrj54",
    "outputId": "77ebcd51-bbd5-4831-941b-967c4f490cfa"
   },
   "outputs": [
    {
     "data": {
      "text/html": [
       "<div>\n",
       "<style scoped>\n",
       "    .dataframe tbody tr th:only-of-type {\n",
       "        vertical-align: middle;\n",
       "    }\n",
       "\n",
       "    .dataframe tbody tr th {\n",
       "        vertical-align: top;\n",
       "    }\n",
       "\n",
       "    .dataframe thead th {\n",
       "        text-align: right;\n",
       "    }\n",
       "</style>\n",
       "<table border=\"1\" class=\"dataframe\">\n",
       "  <thead>\n",
       "    <tr style=\"text-align: right;\">\n",
       "      <th></th>\n",
       "      <th>sentiment_NEGATIVE</th>\n",
       "      <th>sentiment_POSITIVE</th>\n",
       "      <th>docs</th>\n",
       "    </tr>\n",
       "  </thead>\n",
       "  <tbody>\n",
       "    <tr>\n",
       "      <th>0</th>\n",
       "      <td>0.000120</td>\n",
       "      <td>0.999880</td>\n",
       "      <td>I am happy</td>\n",
       "    </tr>\n",
       "    <tr>\n",
       "      <th>1</th>\n",
       "      <td>0.022988</td>\n",
       "      <td>0.977012</td>\n",
       "      <td>I'm happy, but worried about tomorrow</td>\n",
       "    </tr>\n",
       "    <tr>\n",
       "      <th>2</th>\n",
       "      <td>0.999780</td>\n",
       "      <td>0.000220</td>\n",
       "      <td>I'm miserable</td>\n",
       "    </tr>\n",
       "    <tr>\n",
       "      <th>3</th>\n",
       "      <td>0.000404</td>\n",
       "      <td>0.999596</td>\n",
       "      <td>I'm sad, but hopeful</td>\n",
       "    </tr>\n",
       "    <tr>\n",
       "      <th>4</th>\n",
       "      <td>0.999790</td>\n",
       "      <td>0.000210</td>\n",
       "      <td>I am not happy</td>\n",
       "    </tr>\n",
       "    <tr>\n",
       "      <th>5</th>\n",
       "      <td>0.050676</td>\n",
       "      <td>0.949324</td>\n",
       "      <td>I wish I were happy</td>\n",
       "    </tr>\n",
       "    <tr>\n",
       "      <th>6</th>\n",
       "      <td>0.000404</td>\n",
       "      <td>0.999596</td>\n",
       "      <td>I'm sad, but hopeful</td>\n",
       "    </tr>\n",
       "    <tr>\n",
       "      <th>7</th>\n",
       "      <td>0.648448</td>\n",
       "      <td>0.351552</td>\n",
       "      <td>Don't talk to me like that!</td>\n",
       "    </tr>\n",
       "    <tr>\n",
       "      <th>8</th>\n",
       "      <td>0.018542</td>\n",
       "      <td>0.981458</td>\n",
       "      <td>Really? I'm shocked!</td>\n",
       "    </tr>\n",
       "  </tbody>\n",
       "</table>\n",
       "</div>"
      ],
      "text/plain": [
       "   sentiment_NEGATIVE  sentiment_POSITIVE  \\\n",
       "0            0.000120            0.999880   \n",
       "1            0.022988            0.977012   \n",
       "2            0.999780            0.000220   \n",
       "3            0.000404            0.999596   \n",
       "4            0.999790            0.000210   \n",
       "5            0.050676            0.949324   \n",
       "6            0.000404            0.999596   \n",
       "7            0.648448            0.351552   \n",
       "8            0.018542            0.981458   \n",
       "\n",
       "                                    docs  \n",
       "0                             I am happy  \n",
       "1  I'm happy, but worried about tomorrow  \n",
       "2                          I'm miserable  \n",
       "3                   I'm sad, but hopeful  \n",
       "4                         I am not happy  \n",
       "5                    I wish I were happy  \n",
       "6                   I'm sad, but hopeful  \n",
       "7            Don't talk to me like that!  \n",
       "8                   Really? I'm shocked!  "
      ]
     },
     "execution_count": 8,
     "metadata": {},
     "output_type": "execute_result"
    }
   ],
   "source": [
    "feature_vectors = huggingface_output_2_df(output_dict, add_to_col_names = 'sentiment_')\n",
    "feature_vectors['docs'] = docs\n",
    "feature_vectors"
   ]
  },
  {
   "cell_type": "code",
   "execution_count": null,
   "metadata": {},
   "outputs": [
    {
     "name": "stderr",
     "output_type": "stream",
     "text": [
      "/Users/danielmlow/miniconda3/envs/llm_course/lib/python3.11/site-packages/huggingface_hub/file_download.py:945: FutureWarning: `resume_download` is deprecated and will be removed in version 1.0.0. Downloads always resume when possible. If you want to force a new download, use `force_download=True`.\n",
      "  warnings.warn(\n"
     ]
    },
    {
     "data": {
      "application/vnd.jupyter.widget-view+json": {
       "model_id": "96609aea9fa5433788baf72b7576e181",
       "version_major": 2,
       "version_minor": 0
      },
      "text/plain": [
       "config.json:   0%|          | 0.00/925 [00:00<?, ?B/s]"
      ]
     },
     "metadata": {},
     "output_type": "display_data"
    },
    {
     "data": {
      "application/vnd.jupyter.widget-view+json": {
       "model_id": "741db79143ed4f6380f4399b8cbb46fd",
       "version_major": 2,
       "version_minor": 0
      },
      "text/plain": [
       "model.safetensors:   0%|          | 0.00/435M [00:00<?, ?B/s]"
      ]
     },
     "metadata": {},
     "output_type": "display_data"
    },
    {
     "data": {
      "application/vnd.jupyter.widget-view+json": {
       "model_id": "b026cfc9b3ec4046824ae6ab64d41f9f",
       "version_major": 2,
       "version_minor": 0
      },
      "text/plain": [
       "tokenizer_config.json:   0%|          | 0.00/384 [00:00<?, ?B/s]"
      ]
     },
     "metadata": {},
     "output_type": "display_data"
    },
    {
     "data": {
      "application/vnd.jupyter.widget-view+json": {
       "model_id": "e07bfdebcced4e528fde381fd483fcd9",
       "version_major": 2,
       "version_minor": 0
      },
      "text/plain": [
       "tokenizer.json: 0.00B [00:00, ?B/s]"
      ]
     },
     "metadata": {},
     "output_type": "display_data"
    },
    {
     "data": {
      "application/vnd.jupyter.widget-view+json": {
       "model_id": "423358229fe04b4bb1bcaad86396575e",
       "version_major": 2,
       "version_minor": 0
      },
      "text/plain": [
       "special_tokens_map.json:   0%|          | 0.00/167 [00:00<?, ?B/s]"
      ]
     },
     "metadata": {},
     "output_type": "display_data"
    },
    {
     "name": "stdout",
     "output_type": "stream",
     "text": [
      "[[{'label': 'NEG', 'score': 0.006506713572889566}, {'label': 'NEU', 'score': 0.037519678473472595}, {'label': 'POS', 'score': 0.9559735655784607}], [{'label': 'NEG', 'score': 0.8632596135139465}, {'label': 'NEU', 'score': 0.08551418781280518}, {'label': 'POS', 'score': 0.051226191222667694}], [{'label': 'NEG', 'score': 0.21275319159030914}, {'label': 'NEU', 'score': 0.5675188302993774}, {'label': 'POS', 'score': 0.21972791850566864}]]\n"
     ]
    },
    {
     "name": "stderr",
     "output_type": "stream",
     "text": [
      "/Users/danielmlow/miniconda3/envs/llm_course/lib/python3.11/site-packages/transformers/pipelines/text_classification.py:105: UserWarning: `return_all_scores` is now deprecated,  if want a similar functionality use `top_k=None` instead of `return_all_scores=True` or `top_k=1` instead of `return_all_scores=False`.\n",
      "  warnings.warn(\n"
     ]
    }
   ],
   "source": [
    "from transformers import pipeline\n",
    "\n",
    "sentiment_es = pipeline(\n",
    "    \"sentiment-analysis\",\n",
    "    model=\"pysentimiento/robertuito-sentiment-analysis\",\n",
    "    tokenizer=\"pysentimiento/robertuito-sentiment-analysis\",\n",
    ")\n",
    "\n",
    "texts = [\"Me encanta esta película\", \"No me gustó para nada\", \"Está bien, pero no es espectacular.\"]\n",
    "results = sentiment_es(texts, return_all_scores=True)\n",
    "\n",
    "\n"
   ]
  },
  {
   "cell_type": "code",
   "execution_count": 8,
   "metadata": {},
   "outputs": [
    {
     "data": {
      "text/html": [
       "<div>\n",
       "<style scoped>\n",
       "    .dataframe tbody tr th:only-of-type {\n",
       "        vertical-align: middle;\n",
       "    }\n",
       "\n",
       "    .dataframe tbody tr th {\n",
       "        vertical-align: top;\n",
       "    }\n",
       "\n",
       "    .dataframe thead th {\n",
       "        text-align: right;\n",
       "    }\n",
       "</style>\n",
       "<table border=\"1\" class=\"dataframe\">\n",
       "  <thead>\n",
       "    <tr style=\"text-align: right;\">\n",
       "      <th></th>\n",
       "      <th>sentiment_es_others</th>\n",
       "      <th>sentiment_es_joy</th>\n",
       "      <th>sentiment_es_sadness</th>\n",
       "      <th>sentiment_es_anger</th>\n",
       "      <th>sentiment_es_surprise</th>\n",
       "      <th>sentiment_es_disgust</th>\n",
       "      <th>sentiment_es_fear</th>\n",
       "    </tr>\n",
       "  </thead>\n",
       "  <tbody>\n",
       "    <tr>\n",
       "      <th>0</th>\n",
       "      <td>0.002643</td>\n",
       "      <td>0.989545</td>\n",
       "      <td>0.001423</td>\n",
       "      <td>0.000484</td>\n",
       "      <td>0.003663</td>\n",
       "      <td>0.000980</td>\n",
       "      <td>0.001263</td>\n",
       "    </tr>\n",
       "    <tr>\n",
       "      <th>1</th>\n",
       "      <td>0.049876</td>\n",
       "      <td>0.018882</td>\n",
       "      <td>0.429593</td>\n",
       "      <td>0.270996</td>\n",
       "      <td>0.034459</td>\n",
       "      <td>0.123935</td>\n",
       "      <td>0.072258</td>\n",
       "    </tr>\n",
       "  </tbody>\n",
       "</table>\n",
       "</div>"
      ],
      "text/plain": [
       "   sentiment_es_others  sentiment_es_joy  sentiment_es_sadness  \\\n",
       "0             0.002643          0.989545              0.001423   \n",
       "1             0.049876          0.018882              0.429593   \n",
       "\n",
       "   sentiment_es_anger  sentiment_es_surprise  sentiment_es_disgust  \\\n",
       "0            0.000484               0.003663              0.000980   \n",
       "1            0.270996               0.034459              0.123935   \n",
       "\n",
       "   sentiment_es_fear  \n",
       "0           0.001263  \n",
       "1           0.072258  "
      ]
     },
     "execution_count": 8,
     "metadata": {},
     "output_type": "execute_result"
    }
   ],
   "source": [
    "feature_vectors = huggingface_output_2_df(results, add_to_col_names = 'sentiment_es_')\n",
    "feature_vectors"
   ]
  },
  {
   "cell_type": "markdown",
   "metadata": {
    "id": "N05uy6azAdlr"
   },
   "source": [
    "# Emotion recognition\n",
    "\n",
    "All models trained on Go Emotions: https://huggingface.co/models?dataset=dataset:go_emotions\n",
    "\n",
    "Model: https://huggingface.co/SamLowe/roberta-base-go_emotions \n",
    "\n",
    "- Accuracy: 0.474\n",
    "- Precision: 0.575\n",
    "- Recall: 0.396\n",
    "- F1: 0.450\n",
    "\n",
    "\n"
   ]
  },
  {
   "cell_type": "code",
   "execution_count": null,
   "metadata": {},
   "outputs": [
    {
     "data": {
      "application/vnd.jupyter.widget-view+json": {
       "model_id": "175c7271f9974a8598a688ee83350eef",
       "version_major": 2,
       "version_minor": 0
      },
      "text/plain": [
       "config.json: 0.00B [00:00, ?B/s]"
      ]
     },
     "metadata": {},
     "output_type": "display_data"
    },
    {
     "data": {
      "application/vnd.jupyter.widget-view+json": {
       "model_id": "ec0b7d993af34c0fbeb19cb6bff16afc",
       "version_major": 2,
       "version_minor": 0
      },
      "text/plain": [
       "model.safetensors:   0%|          | 0.00/499M [00:00<?, ?B/s]"
      ]
     },
     "metadata": {},
     "output_type": "display_data"
    },
    {
     "data": {
      "application/vnd.jupyter.widget-view+json": {
       "model_id": "7a2c286b16754cf1917508fb4eddbaf7",
       "version_major": 2,
       "version_minor": 0
      },
      "text/plain": [
       "tokenizer_config.json:   0%|          | 0.00/380 [00:00<?, ?B/s]"
      ]
     },
     "metadata": {},
     "output_type": "display_data"
    },
    {
     "data": {
      "application/vnd.jupyter.widget-view+json": {
       "model_id": "e386506ebe0d49179192b8fb9c6bddea",
       "version_major": 2,
       "version_minor": 0
      },
      "text/plain": [
       "vocab.json: 0.00B [00:00, ?B/s]"
      ]
     },
     "metadata": {},
     "output_type": "display_data"
    },
    {
     "data": {
      "application/vnd.jupyter.widget-view+json": {
       "model_id": "a41461e3eb5e462fa0d9137e55eac111",
       "version_major": 2,
       "version_minor": 0
      },
      "text/plain": [
       "merges.txt: 0.00B [00:00, ?B/s]"
      ]
     },
     "metadata": {},
     "output_type": "display_data"
    },
    {
     "data": {
      "application/vnd.jupyter.widget-view+json": {
       "model_id": "9f2f02d26ecf4c11b4e501625062f129",
       "version_major": 2,
       "version_minor": 0
      },
      "text/plain": [
       "tokenizer.json: 0.00B [00:00, ?B/s]"
      ]
     },
     "metadata": {},
     "output_type": "display_data"
    },
    {
     "data": {
      "application/vnd.jupyter.widget-view+json": {
       "model_id": "e43772289cfc4e0f9619d82b06078dbe",
       "version_major": 2,
       "version_minor": 0
      },
      "text/plain": [
       "special_tokens_map.json:   0%|          | 0.00/280 [00:00<?, ?B/s]"
      ]
     },
     "metadata": {},
     "output_type": "display_data"
    },
    {
     "name": "stdout",
     "output_type": "stream",
     "text": [
      "[{'label': 'disappointment', 'score': 0.46669477224349976}, {'label': 'sadness', 'score': 0.39849501848220825}, {'label': 'annoyance', 'score': 0.06806589663028717}, {'label': 'neutral', 'score': 0.05703022703528404}, {'label': 'disapproval', 'score': 0.04423929750919342}, {'label': 'nervousness', 'score': 0.014850744046270847}, {'label': 'realization', 'score': 0.014059885405004025}, {'label': 'approval', 'score': 0.011267449706792831}, {'label': 'joy', 'score': 0.0063033876940608025}, {'label': 'remorse', 'score': 0.006221481133252382}, {'label': 'caring', 'score': 0.006029403302818537}, {'label': 'embarrassment', 'score': 0.00526547571644187}, {'label': 'anger', 'score': 0.00498143071308732}, {'label': 'disgust', 'score': 0.004259033594280481}, {'label': 'grief', 'score': 0.004002132918685675}, {'label': 'confusion', 'score': 0.003382918192073703}, {'label': 'relief', 'score': 0.0031404944602400064}, {'label': 'desire', 'score': 0.0028274673968553543}, {'label': 'admiration', 'score': 0.0028157923370599747}, {'label': 'fear', 'score': 0.002707520266994834}, {'label': 'optimism', 'score': 0.002616486046463251}, {'label': 'love', 'score': 0.0024883896112442017}, {'label': 'excitement', 'score': 0.0024494787212461233}, {'label': 'curiosity', 'score': 0.00237436406314373}, {'label': 'amusement', 'score': 0.00174669548869133}, {'label': 'surprise', 'score': 0.001452984637580812}, {'label': 'gratitude', 'score': 0.0006464755861088634}, {'label': 'pride', 'score': 0.0005542487488128245}]\n"
     ]
    }
   ],
   "source": [
    "from transformers import pipeline\n",
    "\n",
    "classifier = pipeline(task=\"text-classification\", model=\"SamLowe/roberta-base-go_emotions\", top_k=None)\n",
    "\n"
   ]
  },
  {
   "cell_type": "code",
   "execution_count": null,
   "metadata": {},
   "outputs": [
    {
     "data": {
      "text/html": [
       "<div>\n",
       "<style scoped>\n",
       "    .dataframe tbody tr th:only-of-type {\n",
       "        vertical-align: middle;\n",
       "    }\n",
       "\n",
       "    .dataframe tbody tr th {\n",
       "        vertical-align: top;\n",
       "    }\n",
       "\n",
       "    .dataframe thead th {\n",
       "        text-align: right;\n",
       "    }\n",
       "</style>\n",
       "<table border=\"1\" class=\"dataframe\">\n",
       "  <thead>\n",
       "    <tr style=\"text-align: right;\">\n",
       "      <th></th>\n",
       "      <th>roberta_base_joy</th>\n",
       "      <th>roberta_base_neutral</th>\n",
       "      <th>roberta_base_approval</th>\n",
       "      <th>roberta_base_relief</th>\n",
       "      <th>roberta_base_admiration</th>\n",
       "      <th>roberta_base_excitement</th>\n",
       "      <th>roberta_base_gratitude</th>\n",
       "      <th>roberta_base_caring</th>\n",
       "      <th>roberta_base_amusement</th>\n",
       "      <th>roberta_base_love</th>\n",
       "      <th>...</th>\n",
       "      <th>roberta_base_desire</th>\n",
       "      <th>roberta_base_disappointment</th>\n",
       "      <th>roberta_base_curiosity</th>\n",
       "      <th>roberta_base_nervousness</th>\n",
       "      <th>roberta_base_surprise</th>\n",
       "      <th>roberta_base_remorse</th>\n",
       "      <th>roberta_base_grief</th>\n",
       "      <th>roberta_base_embarrassment</th>\n",
       "      <th>roberta_base_fear</th>\n",
       "      <th>roberta_base_disgust</th>\n",
       "    </tr>\n",
       "  </thead>\n",
       "  <tbody>\n",
       "    <tr>\n",
       "      <th>0</th>\n",
       "      <td>0.895246</td>\n",
       "      <td>0.035179</td>\n",
       "      <td>0.028167</td>\n",
       "      <td>0.026642</td>\n",
       "      <td>0.020664</td>\n",
       "      <td>0.016066</td>\n",
       "      <td>0.015526</td>\n",
       "      <td>0.014913</td>\n",
       "      <td>0.013467</td>\n",
       "      <td>0.012827</td>\n",
       "      <td>...</td>\n",
       "      <td>0.002370</td>\n",
       "      <td>0.002130</td>\n",
       "      <td>0.001743</td>\n",
       "      <td>0.001603</td>\n",
       "      <td>0.001498</td>\n",
       "      <td>0.001199</td>\n",
       "      <td>0.001178</td>\n",
       "      <td>0.000986</td>\n",
       "      <td>0.000782</td>\n",
       "      <td>0.000671</td>\n",
       "    </tr>\n",
       "    <tr>\n",
       "      <th>1</th>\n",
       "      <td>0.698884</td>\n",
       "      <td>0.123571</td>\n",
       "      <td>0.083955</td>\n",
       "      <td>0.079816</td>\n",
       "      <td>0.037634</td>\n",
       "      <td>0.032949</td>\n",
       "      <td>0.030415</td>\n",
       "      <td>0.025278</td>\n",
       "      <td>0.021513</td>\n",
       "      <td>0.017859</td>\n",
       "      <td>...</td>\n",
       "      <td>0.006882</td>\n",
       "      <td>0.006632</td>\n",
       "      <td>0.006038</td>\n",
       "      <td>0.005396</td>\n",
       "      <td>0.004900</td>\n",
       "      <td>0.004414</td>\n",
       "      <td>0.003442</td>\n",
       "      <td>0.002974</td>\n",
       "      <td>0.002872</td>\n",
       "      <td>0.001043</td>\n",
       "    </tr>\n",
       "    <tr>\n",
       "      <th>2</th>\n",
       "      <td>0.810011</td>\n",
       "      <td>0.176840</td>\n",
       "      <td>0.035794</td>\n",
       "      <td>0.033110</td>\n",
       "      <td>0.013010</td>\n",
       "      <td>0.012448</td>\n",
       "      <td>0.011800</td>\n",
       "      <td>0.008670</td>\n",
       "      <td>0.007642</td>\n",
       "      <td>0.006905</td>\n",
       "      <td>...</td>\n",
       "      <td>0.002742</td>\n",
       "      <td>0.002584</td>\n",
       "      <td>0.002167</td>\n",
       "      <td>0.002148</td>\n",
       "      <td>0.001678</td>\n",
       "      <td>0.001404</td>\n",
       "      <td>0.001256</td>\n",
       "      <td>0.001117</td>\n",
       "      <td>0.001059</td>\n",
       "      <td>0.000328</td>\n",
       "    </tr>\n",
       "    <tr>\n",
       "      <th>3</th>\n",
       "      <td>0.875564</td>\n",
       "      <td>0.160377</td>\n",
       "      <td>0.069820</td>\n",
       "      <td>0.037162</td>\n",
       "      <td>0.033953</td>\n",
       "      <td>0.029319</td>\n",
       "      <td>0.024180</td>\n",
       "      <td>0.019917</td>\n",
       "      <td>0.017625</td>\n",
       "      <td>0.013948</td>\n",
       "      <td>...</td>\n",
       "      <td>0.004674</td>\n",
       "      <td>0.004665</td>\n",
       "      <td>0.004449</td>\n",
       "      <td>0.004171</td>\n",
       "      <td>0.004107</td>\n",
       "      <td>0.003174</td>\n",
       "      <td>0.002981</td>\n",
       "      <td>0.002891</td>\n",
       "      <td>0.001834</td>\n",
       "      <td>0.000926</td>\n",
       "    </tr>\n",
       "    <tr>\n",
       "      <th>4</th>\n",
       "      <td>0.572092</td>\n",
       "      <td>0.288714</td>\n",
       "      <td>0.048506</td>\n",
       "      <td>0.045166</td>\n",
       "      <td>0.043421</td>\n",
       "      <td>0.012110</td>\n",
       "      <td>0.011123</td>\n",
       "      <td>0.011011</td>\n",
       "      <td>0.009509</td>\n",
       "      <td>0.009503</td>\n",
       "      <td>...</td>\n",
       "      <td>0.002971</td>\n",
       "      <td>0.002456</td>\n",
       "      <td>0.002219</td>\n",
       "      <td>0.002065</td>\n",
       "      <td>0.002063</td>\n",
       "      <td>0.001938</td>\n",
       "      <td>0.001729</td>\n",
       "      <td>0.001073</td>\n",
       "      <td>0.000625</td>\n",
       "      <td>0.000403</td>\n",
       "    </tr>\n",
       "    <tr>\n",
       "      <th>5</th>\n",
       "      <td>0.837150</td>\n",
       "      <td>0.053849</td>\n",
       "      <td>0.042612</td>\n",
       "      <td>0.015282</td>\n",
       "      <td>0.015040</td>\n",
       "      <td>0.012993</td>\n",
       "      <td>0.011984</td>\n",
       "      <td>0.010435</td>\n",
       "      <td>0.009940</td>\n",
       "      <td>0.009412</td>\n",
       "      <td>...</td>\n",
       "      <td>0.004523</td>\n",
       "      <td>0.004350</td>\n",
       "      <td>0.002132</td>\n",
       "      <td>0.001641</td>\n",
       "      <td>0.001582</td>\n",
       "      <td>0.001439</td>\n",
       "      <td>0.001318</td>\n",
       "      <td>0.001199</td>\n",
       "      <td>0.000982</td>\n",
       "      <td>0.000874</td>\n",
       "    </tr>\n",
       "    <tr>\n",
       "      <th>6</th>\n",
       "      <td>0.875564</td>\n",
       "      <td>0.160377</td>\n",
       "      <td>0.069820</td>\n",
       "      <td>0.037162</td>\n",
       "      <td>0.033953</td>\n",
       "      <td>0.029319</td>\n",
       "      <td>0.024180</td>\n",
       "      <td>0.019917</td>\n",
       "      <td>0.017625</td>\n",
       "      <td>0.013948</td>\n",
       "      <td>...</td>\n",
       "      <td>0.004674</td>\n",
       "      <td>0.004665</td>\n",
       "      <td>0.004449</td>\n",
       "      <td>0.004171</td>\n",
       "      <td>0.004107</td>\n",
       "      <td>0.003174</td>\n",
       "      <td>0.002981</td>\n",
       "      <td>0.002891</td>\n",
       "      <td>0.001834</td>\n",
       "      <td>0.000926</td>\n",
       "    </tr>\n",
       "    <tr>\n",
       "      <th>7</th>\n",
       "      <td>0.540450</td>\n",
       "      <td>0.391780</td>\n",
       "      <td>0.198641</td>\n",
       "      <td>0.131819</td>\n",
       "      <td>0.015648</td>\n",
       "      <td>0.009250</td>\n",
       "      <td>0.008194</td>\n",
       "      <td>0.006436</td>\n",
       "      <td>0.005205</td>\n",
       "      <td>0.003862</td>\n",
       "      <td>...</td>\n",
       "      <td>0.001634</td>\n",
       "      <td>0.001517</td>\n",
       "      <td>0.001437</td>\n",
       "      <td>0.001395</td>\n",
       "      <td>0.001064</td>\n",
       "      <td>0.000788</td>\n",
       "      <td>0.000520</td>\n",
       "      <td>0.000502</td>\n",
       "      <td>0.000489</td>\n",
       "      <td>0.000413</td>\n",
       "    </tr>\n",
       "    <tr>\n",
       "      <th>8</th>\n",
       "      <td>0.884367</td>\n",
       "      <td>0.048370</td>\n",
       "      <td>0.041547</td>\n",
       "      <td>0.032006</td>\n",
       "      <td>0.017881</td>\n",
       "      <td>0.016813</td>\n",
       "      <td>0.010565</td>\n",
       "      <td>0.007919</td>\n",
       "      <td>0.007185</td>\n",
       "      <td>0.007104</td>\n",
       "      <td>...</td>\n",
       "      <td>0.003627</td>\n",
       "      <td>0.003565</td>\n",
       "      <td>0.003247</td>\n",
       "      <td>0.003173</td>\n",
       "      <td>0.002059</td>\n",
       "      <td>0.001555</td>\n",
       "      <td>0.001475</td>\n",
       "      <td>0.001339</td>\n",
       "      <td>0.001301</td>\n",
       "      <td>0.000890</td>\n",
       "    </tr>\n",
       "  </tbody>\n",
       "</table>\n",
       "<p>9 rows × 28 columns</p>\n",
       "</div>"
      ],
      "text/plain": [
       "   roberta_base_joy  roberta_base_neutral  roberta_base_approval  \\\n",
       "0          0.895246              0.035179               0.028167   \n",
       "1          0.698884              0.123571               0.083955   \n",
       "2          0.810011              0.176840               0.035794   \n",
       "3          0.875564              0.160377               0.069820   \n",
       "4          0.572092              0.288714               0.048506   \n",
       "5          0.837150              0.053849               0.042612   \n",
       "6          0.875564              0.160377               0.069820   \n",
       "7          0.540450              0.391780               0.198641   \n",
       "8          0.884367              0.048370               0.041547   \n",
       "\n",
       "   roberta_base_relief  roberta_base_admiration  roberta_base_excitement  \\\n",
       "0             0.026642                 0.020664                 0.016066   \n",
       "1             0.079816                 0.037634                 0.032949   \n",
       "2             0.033110                 0.013010                 0.012448   \n",
       "3             0.037162                 0.033953                 0.029319   \n",
       "4             0.045166                 0.043421                 0.012110   \n",
       "5             0.015282                 0.015040                 0.012993   \n",
       "6             0.037162                 0.033953                 0.029319   \n",
       "7             0.131819                 0.015648                 0.009250   \n",
       "8             0.032006                 0.017881                 0.016813   \n",
       "\n",
       "   roberta_base_gratitude  roberta_base_caring  roberta_base_amusement  \\\n",
       "0                0.015526             0.014913                0.013467   \n",
       "1                0.030415             0.025278                0.021513   \n",
       "2                0.011800             0.008670                0.007642   \n",
       "3                0.024180             0.019917                0.017625   \n",
       "4                0.011123             0.011011                0.009509   \n",
       "5                0.011984             0.010435                0.009940   \n",
       "6                0.024180             0.019917                0.017625   \n",
       "7                0.008194             0.006436                0.005205   \n",
       "8                0.010565             0.007919                0.007185   \n",
       "\n",
       "   roberta_base_love  ...  roberta_base_desire  roberta_base_disappointment  \\\n",
       "0           0.012827  ...             0.002370                     0.002130   \n",
       "1           0.017859  ...             0.006882                     0.006632   \n",
       "2           0.006905  ...             0.002742                     0.002584   \n",
       "3           0.013948  ...             0.004674                     0.004665   \n",
       "4           0.009503  ...             0.002971                     0.002456   \n",
       "5           0.009412  ...             0.004523                     0.004350   \n",
       "6           0.013948  ...             0.004674                     0.004665   \n",
       "7           0.003862  ...             0.001634                     0.001517   \n",
       "8           0.007104  ...             0.003627                     0.003565   \n",
       "\n",
       "   roberta_base_curiosity  roberta_base_nervousness  roberta_base_surprise  \\\n",
       "0                0.001743                  0.001603               0.001498   \n",
       "1                0.006038                  0.005396               0.004900   \n",
       "2                0.002167                  0.002148               0.001678   \n",
       "3                0.004449                  0.004171               0.004107   \n",
       "4                0.002219                  0.002065               0.002063   \n",
       "5                0.002132                  0.001641               0.001582   \n",
       "6                0.004449                  0.004171               0.004107   \n",
       "7                0.001437                  0.001395               0.001064   \n",
       "8                0.003247                  0.003173               0.002059   \n",
       "\n",
       "   roberta_base_remorse  roberta_base_grief  roberta_base_embarrassment  \\\n",
       "0              0.001199            0.001178                    0.000986   \n",
       "1              0.004414            0.003442                    0.002974   \n",
       "2              0.001404            0.001256                    0.001117   \n",
       "3              0.003174            0.002981                    0.002891   \n",
       "4              0.001938            0.001729                    0.001073   \n",
       "5              0.001439            0.001318                    0.001199   \n",
       "6              0.003174            0.002981                    0.002891   \n",
       "7              0.000788            0.000520                    0.000502   \n",
       "8              0.001555            0.001475                    0.001339   \n",
       "\n",
       "   roberta_base_fear  roberta_base_disgust  \n",
       "0           0.000782              0.000671  \n",
       "1           0.002872              0.001043  \n",
       "2           0.001059              0.000328  \n",
       "3           0.001834              0.000926  \n",
       "4           0.000625              0.000403  \n",
       "5           0.000982              0.000874  \n",
       "6           0.001834              0.000926  \n",
       "7           0.000489              0.000413  \n",
       "8           0.001301              0.000890  \n",
       "\n",
       "[9 rows x 28 columns]"
      ]
     },
     "execution_count": 12,
     "metadata": {},
     "output_type": "execute_result"
    }
   ],
   "source": [
    "model_outputs = classifier(docs)\n",
    "feature_vectors = huggingface_output_2_df(model_outputs, add_to_col_names = 'roberta_base_')\n",
    "feature_vectors"
   ]
  },
  {
   "cell_type": "code",
   "execution_count": null,
   "metadata": {},
   "outputs": [
    {
     "data": {
      "application/vnd.jupyter.widget-view+json": {
       "model_id": "de29b5c0f9e54de9bb62fa793ec78884",
       "version_major": 2,
       "version_minor": 0
      },
      "text/plain": [
       "config.json: 0.00B [00:00, ?B/s]"
      ]
     },
     "metadata": {},
     "output_type": "display_data"
    },
    {
     "data": {
      "application/vnd.jupyter.widget-view+json": {
       "model_id": "a5b79ccb98cb48f0b0608ddd5fe8d46b",
       "version_major": 2,
       "version_minor": 0
      },
      "text/plain": [
       "pytorch_model.bin:   0%|          | 0.00/435M [00:00<?, ?B/s]"
      ]
     },
     "metadata": {},
     "output_type": "display_data"
    },
    {
     "data": {
      "application/vnd.jupyter.widget-view+json": {
       "model_id": "f72aedd77f9d41c6a33fff86fe54ec52",
       "version_major": 2,
       "version_minor": 0
      },
      "text/plain": [
       "tokenizer_config.json:   0%|          | 0.00/384 [00:00<?, ?B/s]"
      ]
     },
     "metadata": {},
     "output_type": "display_data"
    },
    {
     "data": {
      "application/vnd.jupyter.widget-view+json": {
       "model_id": "f2b2ae20eb5a43f0b24554a36ce2378d",
       "version_major": 2,
       "version_minor": 0
      },
      "text/plain": [
       "tokenizer.json: 0.00B [00:00, ?B/s]"
      ]
     },
     "metadata": {},
     "output_type": "display_data"
    },
    {
     "data": {
      "application/vnd.jupyter.widget-view+json": {
       "model_id": "71c1b4fcb1d3435caf6865b75f5a1416",
       "version_major": 2,
       "version_minor": 0
      },
      "text/plain": [
       "special_tokens_map.json:   0%|          | 0.00/167 [00:00<?, ?B/s]"
      ]
     },
     "metadata": {},
     "output_type": "display_data"
    },
    {
     "name": "stdout",
     "output_type": "stream",
     "text": [
      "[[{'label': 'others', 'score': 0.0026429127901792526}, {'label': 'joy', 'score': 0.9895449280738831}, {'label': 'sadness', 'score': 0.0014225412160158157}, {'label': 'anger', 'score': 0.0004835830768570304}, {'label': 'surprise', 'score': 0.003662543836981058}, {'label': 'disgust', 'score': 0.0009804358705878258}, {'label': 'fear', 'score': 0.0012630944838747382}], [{'label': 'others', 'score': 0.04987611621618271}, {'label': 'joy', 'score': 0.01888248138129711}, {'label': 'sadness', 'score': 0.429593026638031}, {'label': 'anger', 'score': 0.27099573612213135}, {'label': 'surprise', 'score': 0.03445936739444733}, {'label': 'disgust', 'score': 0.12393507361412048}, {'label': 'fear', 'score': 0.07225818186998367}]]\n"
     ]
    }
   ],
   "source": [
    "from transformers import pipeline\n",
    "\n",
    "emotion_es = pipeline(\n",
    "    \"text-classification\",\n",
    "    model=\"pysentimiento/robertuito-emotion-analysis\",\n",
    "    tokenizer=\"pysentimiento/robertuito-emotion-analysis\",\n",
    "    # optionally top_k=None if you want all emotion scores\n",
    ")\n",
    "\n",
    "texts = [\"Estoy tan feliz hoy\", \"Estoy muy enfadado con lo que pasó\"]\n",
    "results = emotion_es(texts, return_all_scores=True)\n",
    "feature_vectors"
   ]
  },
  {
   "cell_type": "code",
   "execution_count": null,
   "metadata": {
    "id": "-3Q1f6qqdOk3"
   },
   "outputs": [],
   "source": [
    "%%time\n",
    "\n",
    "# if you have a lot of data, loop through every 1000 files and save in case the session dies. Then you can pick up where you left off.\n",
    "\n",
    "feature_vectors_all = []\n",
    "step = 1000\n",
    "print(len(docs))\n",
    "for i in range(0, len(docs), step):\n",
    "  print(str(i).zfill(5))\n",
    "  docs_i = docs[i:i+step]\n",
    "  output_dict = emotion(docs_i, return_all_scores=True)\n",
    "  feature_vectors = huggingface_output_2_df(output_dict, add_to_col_names = 'roberta_base_')\n",
    "  feature_vectors['event'] = docs_i\n",
    "  feature_vectors.to_csv(output_dir + f'roberta_base_{str(i).zfill(5)}.csv')\n",
    "  feature_vectors_all.append(feature_vectors)\n",
    "\n",
    "\n",
    "feature_vectors_all = pd.concat(feature_vectors_all).reset_index(drop=True)\n",
    "feature_vectors_all.to_csv(output_dir + f'messages_emoroberta.csv') # save"
   ]
  }
 ],
 "metadata": {
  "accelerator": "GPU",
  "colab": {
   "gpuType": "T4",
   "provenance": []
  },
  "kernelspec": {
   "display_name": "llm_course",
   "language": "python",
   "name": "python3"
  },
  "language_info": {
   "codemirror_mode": {
    "name": "ipython",
    "version": 3
   },
   "file_extension": ".py",
   "mimetype": "text/x-python",
   "name": "python",
   "nbconvert_exporter": "python",
   "pygments_lexer": "ipython3",
   "version": "3.11.13"
  },
  "widgets": {
   "application/vnd.jupyter.widget-state+json": {
    "051979cdde1b497e9b91fe859d1fcb40": {
     "model_module": "@jupyter-widgets/controls",
     "model_module_version": "1.5.0",
     "model_name": "HTMLModel",
     "state": {
      "_dom_classes": [],
      "_model_module": "@jupyter-widgets/controls",
      "_model_module_version": "1.5.0",
      "_model_name": "HTMLModel",
      "_view_count": null,
      "_view_module": "@jupyter-widgets/controls",
      "_view_module_version": "1.5.0",
      "_view_name": "HTMLView",
      "description": "",
      "description_tooltip": null,
      "layout": "IPY_MODEL_61bde66722e343abadfb24ff9c35c3a4",
      "placeholder": "​",
      "style": "IPY_MODEL_8d5bf6112d6a411989a11d93f115e04e",
      "value": "model.safetensors: 100%"
     }
    },
    "0df0918f6ae24e849e61f1d4a92bb2f6": {
     "model_module": "@jupyter-widgets/controls",
     "model_module_version": "1.5.0",
     "model_name": "DescriptionStyleModel",
     "state": {
      "_model_module": "@jupyter-widgets/controls",
      "_model_module_version": "1.5.0",
      "_model_name": "DescriptionStyleModel",
      "_view_count": null,
      "_view_module": "@jupyter-widgets/base",
      "_view_module_version": "1.2.0",
      "_view_name": "StyleView",
      "description_width": ""
     }
    },
    "16277cf27aec4ea0bf58319e793d568d": {
     "model_module": "@jupyter-widgets/controls",
     "model_module_version": "1.5.0",
     "model_name": "ProgressStyleModel",
     "state": {
      "_model_module": "@jupyter-widgets/controls",
      "_model_module_version": "1.5.0",
      "_model_name": "ProgressStyleModel",
      "_view_count": null,
      "_view_module": "@jupyter-widgets/base",
      "_view_module_version": "1.2.0",
      "_view_name": "StyleView",
      "bar_color": null,
      "description_width": ""
     }
    },
    "17c3d06e2ac843dcba862f111c5f944b": {
     "model_module": "@jupyter-widgets/controls",
     "model_module_version": "1.5.0",
     "model_name": "DescriptionStyleModel",
     "state": {
      "_model_module": "@jupyter-widgets/controls",
      "_model_module_version": "1.5.0",
      "_model_name": "DescriptionStyleModel",
      "_view_count": null,
      "_view_module": "@jupyter-widgets/base",
      "_view_module_version": "1.2.0",
      "_view_name": "StyleView",
      "description_width": ""
     }
    },
    "1b0d9d04c8b94a1c99de0ae7b63f7b66": {
     "model_module": "@jupyter-widgets/controls",
     "model_module_version": "1.5.0",
     "model_name": "FloatProgressModel",
     "state": {
      "_dom_classes": [],
      "_model_module": "@jupyter-widgets/controls",
      "_model_module_version": "1.5.0",
      "_model_name": "FloatProgressModel",
      "_view_count": null,
      "_view_module": "@jupyter-widgets/controls",
      "_view_module_version": "1.5.0",
      "_view_name": "ProgressView",
      "bar_style": "success",
      "description": "",
      "description_tooltip": null,
      "layout": "IPY_MODEL_d09a2d9e88de4ad09501d0e380d87dd6",
      "max": 231508,
      "min": 0,
      "orientation": "horizontal",
      "style": "IPY_MODEL_16277cf27aec4ea0bf58319e793d568d",
      "value": 231508
     }
    },
    "1b9efe0e645a4f049537a6f08744c1f3": {
     "model_module": "@jupyter-widgets/controls",
     "model_module_version": "1.5.0",
     "model_name": "ProgressStyleModel",
     "state": {
      "_model_module": "@jupyter-widgets/controls",
      "_model_module_version": "1.5.0",
      "_model_name": "ProgressStyleModel",
      "_view_count": null,
      "_view_module": "@jupyter-widgets/base",
      "_view_module_version": "1.2.0",
      "_view_name": "StyleView",
      "bar_color": null,
      "description_width": ""
     }
    },
    "205bd599aeb442f79fec7a2fafa8622e": {
     "model_module": "@jupyter-widgets/controls",
     "model_module_version": "1.5.0",
     "model_name": "HBoxModel",
     "state": {
      "_dom_classes": [],
      "_model_module": "@jupyter-widgets/controls",
      "_model_module_version": "1.5.0",
      "_model_name": "HBoxModel",
      "_view_count": null,
      "_view_module": "@jupyter-widgets/controls",
      "_view_module_version": "1.5.0",
      "_view_name": "HBoxView",
      "box_style": "",
      "children": [
       "IPY_MODEL_051979cdde1b497e9b91fe859d1fcb40",
       "IPY_MODEL_5a0baf9f9755432983602925cb9e8b2c",
       "IPY_MODEL_478b0d54667c4942992ec543eea8010c"
      ],
      "layout": "IPY_MODEL_fbbf9f47f6024100b3eda41282f859bb"
     }
    },
    "3436a1d51e0748a0a729db9e0a269287": {
     "model_module": "@jupyter-widgets/base",
     "model_module_version": "1.2.0",
     "model_name": "LayoutModel",
     "state": {
      "_model_module": "@jupyter-widgets/base",
      "_model_module_version": "1.2.0",
      "_model_name": "LayoutModel",
      "_view_count": null,
      "_view_module": "@jupyter-widgets/base",
      "_view_module_version": "1.2.0",
      "_view_name": "LayoutView",
      "align_content": null,
      "align_items": null,
      "align_self": null,
      "border": null,
      "bottom": null,
      "display": null,
      "flex": null,
      "flex_flow": null,
      "grid_area": null,
      "grid_auto_columns": null,
      "grid_auto_flow": null,
      "grid_auto_rows": null,
      "grid_column": null,
      "grid_gap": null,
      "grid_row": null,
      "grid_template_areas": null,
      "grid_template_columns": null,
      "grid_template_rows": null,
      "height": null,
      "justify_content": null,
      "justify_items": null,
      "left": null,
      "margin": null,
      "max_height": null,
      "max_width": null,
      "min_height": null,
      "min_width": null,
      "object_fit": null,
      "object_position": null,
      "order": null,
      "overflow": null,
      "overflow_x": null,
      "overflow_y": null,
      "padding": null,
      "right": null,
      "top": null,
      "visibility": null,
      "width": null
     }
    },
    "3ab5fe97ad6d4e36bc09567f16ae39c2": {
     "model_module": "@jupyter-widgets/controls",
     "model_module_version": "1.5.0",
     "model_name": "HBoxModel",
     "state": {
      "_dom_classes": [],
      "_model_module": "@jupyter-widgets/controls",
      "_model_module_version": "1.5.0",
      "_model_name": "HBoxModel",
      "_view_count": null,
      "_view_module": "@jupyter-widgets/controls",
      "_view_module_version": "1.5.0",
      "_view_name": "HBoxView",
      "box_style": "",
      "children": [
       "IPY_MODEL_3feecc5348af44c2b2b0e055e3a2b374",
       "IPY_MODEL_1b0d9d04c8b94a1c99de0ae7b63f7b66",
       "IPY_MODEL_b50f5d5a87c34cae94360be347cc7ca3"
      ],
      "layout": "IPY_MODEL_42da53fbda6c4201932c791c21edae68"
     }
    },
    "3b6f00bdfc6d483b9eabc804467d1706": {
     "model_module": "@jupyter-widgets/base",
     "model_module_version": "1.2.0",
     "model_name": "LayoutModel",
     "state": {
      "_model_module": "@jupyter-widgets/base",
      "_model_module_version": "1.2.0",
      "_model_name": "LayoutModel",
      "_view_count": null,
      "_view_module": "@jupyter-widgets/base",
      "_view_module_version": "1.2.0",
      "_view_name": "LayoutView",
      "align_content": null,
      "align_items": null,
      "align_self": null,
      "border": null,
      "bottom": null,
      "display": null,
      "flex": null,
      "flex_flow": null,
      "grid_area": null,
      "grid_auto_columns": null,
      "grid_auto_flow": null,
      "grid_auto_rows": null,
      "grid_column": null,
      "grid_gap": null,
      "grid_row": null,
      "grid_template_areas": null,
      "grid_template_columns": null,
      "grid_template_rows": null,
      "height": null,
      "justify_content": null,
      "justify_items": null,
      "left": null,
      "margin": null,
      "max_height": null,
      "max_width": null,
      "min_height": null,
      "min_width": null,
      "object_fit": null,
      "object_position": null,
      "order": null,
      "overflow": null,
      "overflow_x": null,
      "overflow_y": null,
      "padding": null,
      "right": null,
      "top": null,
      "visibility": null,
      "width": null
     }
    },
    "3f476892c1b34f009c52dd7e8f79ef15": {
     "model_module": "@jupyter-widgets/base",
     "model_module_version": "1.2.0",
     "model_name": "LayoutModel",
     "state": {
      "_model_module": "@jupyter-widgets/base",
      "_model_module_version": "1.2.0",
      "_model_name": "LayoutModel",
      "_view_count": null,
      "_view_module": "@jupyter-widgets/base",
      "_view_module_version": "1.2.0",
      "_view_name": "LayoutView",
      "align_content": null,
      "align_items": null,
      "align_self": null,
      "border": null,
      "bottom": null,
      "display": null,
      "flex": null,
      "flex_flow": null,
      "grid_area": null,
      "grid_auto_columns": null,
      "grid_auto_flow": null,
      "grid_auto_rows": null,
      "grid_column": null,
      "grid_gap": null,
      "grid_row": null,
      "grid_template_areas": null,
      "grid_template_columns": null,
      "grid_template_rows": null,
      "height": null,
      "justify_content": null,
      "justify_items": null,
      "left": null,
      "margin": null,
      "max_height": null,
      "max_width": null,
      "min_height": null,
      "min_width": null,
      "object_fit": null,
      "object_position": null,
      "order": null,
      "overflow": null,
      "overflow_x": null,
      "overflow_y": null,
      "padding": null,
      "right": null,
      "top": null,
      "visibility": null,
      "width": null
     }
    },
    "3feecc5348af44c2b2b0e055e3a2b374": {
     "model_module": "@jupyter-widgets/controls",
     "model_module_version": "1.5.0",
     "model_name": "HTMLModel",
     "state": {
      "_dom_classes": [],
      "_model_module": "@jupyter-widgets/controls",
      "_model_module_version": "1.5.0",
      "_model_name": "HTMLModel",
      "_view_count": null,
      "_view_module": "@jupyter-widgets/controls",
      "_view_module_version": "1.5.0",
      "_view_name": "HTMLView",
      "description": "",
      "description_tooltip": null,
      "layout": "IPY_MODEL_eacd49e1bb4f439eadd674dc10a29cb9",
      "placeholder": "​",
      "style": "IPY_MODEL_9d476840a4f441369eb0079e72a9478d",
      "value": "vocab.txt: 100%"
     }
    },
    "42da53fbda6c4201932c791c21edae68": {
     "model_module": "@jupyter-widgets/base",
     "model_module_version": "1.2.0",
     "model_name": "LayoutModel",
     "state": {
      "_model_module": "@jupyter-widgets/base",
      "_model_module_version": "1.2.0",
      "_model_name": "LayoutModel",
      "_view_count": null,
      "_view_module": "@jupyter-widgets/base",
      "_view_module_version": "1.2.0",
      "_view_name": "LayoutView",
      "align_content": null,
      "align_items": null,
      "align_self": null,
      "border": null,
      "bottom": null,
      "display": null,
      "flex": null,
      "flex_flow": null,
      "grid_area": null,
      "grid_auto_columns": null,
      "grid_auto_flow": null,
      "grid_auto_rows": null,
      "grid_column": null,
      "grid_gap": null,
      "grid_row": null,
      "grid_template_areas": null,
      "grid_template_columns": null,
      "grid_template_rows": null,
      "height": null,
      "justify_content": null,
      "justify_items": null,
      "left": null,
      "margin": null,
      "max_height": null,
      "max_width": null,
      "min_height": null,
      "min_width": null,
      "object_fit": null,
      "object_position": null,
      "order": null,
      "overflow": null,
      "overflow_x": null,
      "overflow_y": null,
      "padding": null,
      "right": null,
      "top": null,
      "visibility": null,
      "width": null
     }
    },
    "478b0d54667c4942992ec543eea8010c": {
     "model_module": "@jupyter-widgets/controls",
     "model_module_version": "1.5.0",
     "model_name": "HTMLModel",
     "state": {
      "_dom_classes": [],
      "_model_module": "@jupyter-widgets/controls",
      "_model_module_version": "1.5.0",
      "_model_name": "HTMLModel",
      "_view_count": null,
      "_view_module": "@jupyter-widgets/controls",
      "_view_module_version": "1.5.0",
      "_view_name": "HTMLView",
      "description": "",
      "description_tooltip": null,
      "layout": "IPY_MODEL_9446988752614095af4345a1a0a882d7",
      "placeholder": "​",
      "style": "IPY_MODEL_9ebb1473179144728ef571cce5830c74",
      "value": " 268M/268M [00:01&lt;00:00, 238MB/s]"
     }
    },
    "48094035c031430e82fe01d59cdf9e15": {
     "model_module": "@jupyter-widgets/controls",
     "model_module_version": "1.5.0",
     "model_name": "DescriptionStyleModel",
     "state": {
      "_model_module": "@jupyter-widgets/controls",
      "_model_module_version": "1.5.0",
      "_model_name": "DescriptionStyleModel",
      "_view_count": null,
      "_view_module": "@jupyter-widgets/base",
      "_view_module_version": "1.2.0",
      "_view_name": "StyleView",
      "description_width": ""
     }
    },
    "4c0dda3818db414996b2c09262e2805e": {
     "model_module": "@jupyter-widgets/controls",
     "model_module_version": "1.5.0",
     "model_name": "HBoxModel",
     "state": {
      "_dom_classes": [],
      "_model_module": "@jupyter-widgets/controls",
      "_model_module_version": "1.5.0",
      "_model_name": "HBoxModel",
      "_view_count": null,
      "_view_module": "@jupyter-widgets/controls",
      "_view_module_version": "1.5.0",
      "_view_name": "HBoxView",
      "box_style": "",
      "children": [
       "IPY_MODEL_95c56ecac3c843439afbfe34cfc9f347",
       "IPY_MODEL_c36eefe36b6340809b55664cbb5ede0b",
       "IPY_MODEL_7e8844d0e0084bb4b9aeb04123b831dc"
      ],
      "layout": "IPY_MODEL_3436a1d51e0748a0a729db9e0a269287"
     }
    },
    "4f893782b9044774985fae282e08dff2": {
     "model_module": "@jupyter-widgets/base",
     "model_module_version": "1.2.0",
     "model_name": "LayoutModel",
     "state": {
      "_model_module": "@jupyter-widgets/base",
      "_model_module_version": "1.2.0",
      "_model_name": "LayoutModel",
      "_view_count": null,
      "_view_module": "@jupyter-widgets/base",
      "_view_module_version": "1.2.0",
      "_view_name": "LayoutView",
      "align_content": null,
      "align_items": null,
      "align_self": null,
      "border": null,
      "bottom": null,
      "display": null,
      "flex": null,
      "flex_flow": null,
      "grid_area": null,
      "grid_auto_columns": null,
      "grid_auto_flow": null,
      "grid_auto_rows": null,
      "grid_column": null,
      "grid_gap": null,
      "grid_row": null,
      "grid_template_areas": null,
      "grid_template_columns": null,
      "grid_template_rows": null,
      "height": null,
      "justify_content": null,
      "justify_items": null,
      "left": null,
      "margin": null,
      "max_height": null,
      "max_width": null,
      "min_height": null,
      "min_width": null,
      "object_fit": null,
      "object_position": null,
      "order": null,
      "overflow": null,
      "overflow_x": null,
      "overflow_y": null,
      "padding": null,
      "right": null,
      "top": null,
      "visibility": null,
      "width": null
     }
    },
    "5a0baf9f9755432983602925cb9e8b2c": {
     "model_module": "@jupyter-widgets/controls",
     "model_module_version": "1.5.0",
     "model_name": "FloatProgressModel",
     "state": {
      "_dom_classes": [],
      "_model_module": "@jupyter-widgets/controls",
      "_model_module_version": "1.5.0",
      "_model_name": "FloatProgressModel",
      "_view_count": null,
      "_view_module": "@jupyter-widgets/controls",
      "_view_module_version": "1.5.0",
      "_view_name": "ProgressView",
      "bar_style": "success",
      "description": "",
      "description_tooltip": null,
      "layout": "IPY_MODEL_8536fb42280c4f08901894e286372fd8",
      "max": 267832558,
      "min": 0,
      "orientation": "horizontal",
      "style": "IPY_MODEL_1b9efe0e645a4f049537a6f08744c1f3",
      "value": 267832558
     }
    },
    "61bde66722e343abadfb24ff9c35c3a4": {
     "model_module": "@jupyter-widgets/base",
     "model_module_version": "1.2.0",
     "model_name": "LayoutModel",
     "state": {
      "_model_module": "@jupyter-widgets/base",
      "_model_module_version": "1.2.0",
      "_model_name": "LayoutModel",
      "_view_count": null,
      "_view_module": "@jupyter-widgets/base",
      "_view_module_version": "1.2.0",
      "_view_name": "LayoutView",
      "align_content": null,
      "align_items": null,
      "align_self": null,
      "border": null,
      "bottom": null,
      "display": null,
      "flex": null,
      "flex_flow": null,
      "grid_area": null,
      "grid_auto_columns": null,
      "grid_auto_flow": null,
      "grid_auto_rows": null,
      "grid_column": null,
      "grid_gap": null,
      "grid_row": null,
      "grid_template_areas": null,
      "grid_template_columns": null,
      "grid_template_rows": null,
      "height": null,
      "justify_content": null,
      "justify_items": null,
      "left": null,
      "margin": null,
      "max_height": null,
      "max_width": null,
      "min_height": null,
      "min_width": null,
      "object_fit": null,
      "object_position": null,
      "order": null,
      "overflow": null,
      "overflow_x": null,
      "overflow_y": null,
      "padding": null,
      "right": null,
      "top": null,
      "visibility": null,
      "width": null
     }
    },
    "7e8844d0e0084bb4b9aeb04123b831dc": {
     "model_module": "@jupyter-widgets/controls",
     "model_module_version": "1.5.0",
     "model_name": "HTMLModel",
     "state": {
      "_dom_classes": [],
      "_model_module": "@jupyter-widgets/controls",
      "_model_module_version": "1.5.0",
      "_model_name": "HTMLModel",
      "_view_count": null,
      "_view_module": "@jupyter-widgets/controls",
      "_view_module_version": "1.5.0",
      "_view_name": "HTMLView",
      "description": "",
      "description_tooltip": null,
      "layout": "IPY_MODEL_7fee38b78a904f429749196e0dced3cf",
      "placeholder": "​",
      "style": "IPY_MODEL_48094035c031430e82fe01d59cdf9e15",
      "value": " 48.0/48.0 [00:00&lt;00:00, 3.65kB/s]"
     }
    },
    "7fee38b78a904f429749196e0dced3cf": {
     "model_module": "@jupyter-widgets/base",
     "model_module_version": "1.2.0",
     "model_name": "LayoutModel",
     "state": {
      "_model_module": "@jupyter-widgets/base",
      "_model_module_version": "1.2.0",
      "_model_name": "LayoutModel",
      "_view_count": null,
      "_view_module": "@jupyter-widgets/base",
      "_view_module_version": "1.2.0",
      "_view_name": "LayoutView",
      "align_content": null,
      "align_items": null,
      "align_self": null,
      "border": null,
      "bottom": null,
      "display": null,
      "flex": null,
      "flex_flow": null,
      "grid_area": null,
      "grid_auto_columns": null,
      "grid_auto_flow": null,
      "grid_auto_rows": null,
      "grid_column": null,
      "grid_gap": null,
      "grid_row": null,
      "grid_template_areas": null,
      "grid_template_columns": null,
      "grid_template_rows": null,
      "height": null,
      "justify_content": null,
      "justify_items": null,
      "left": null,
      "margin": null,
      "max_height": null,
      "max_width": null,
      "min_height": null,
      "min_width": null,
      "object_fit": null,
      "object_position": null,
      "order": null,
      "overflow": null,
      "overflow_x": null,
      "overflow_y": null,
      "padding": null,
      "right": null,
      "top": null,
      "visibility": null,
      "width": null
     }
    },
    "8536fb42280c4f08901894e286372fd8": {
     "model_module": "@jupyter-widgets/base",
     "model_module_version": "1.2.0",
     "model_name": "LayoutModel",
     "state": {
      "_model_module": "@jupyter-widgets/base",
      "_model_module_version": "1.2.0",
      "_model_name": "LayoutModel",
      "_view_count": null,
      "_view_module": "@jupyter-widgets/base",
      "_view_module_version": "1.2.0",
      "_view_name": "LayoutView",
      "align_content": null,
      "align_items": null,
      "align_self": null,
      "border": null,
      "bottom": null,
      "display": null,
      "flex": null,
      "flex_flow": null,
      "grid_area": null,
      "grid_auto_columns": null,
      "grid_auto_flow": null,
      "grid_auto_rows": null,
      "grid_column": null,
      "grid_gap": null,
      "grid_row": null,
      "grid_template_areas": null,
      "grid_template_columns": null,
      "grid_template_rows": null,
      "height": null,
      "justify_content": null,
      "justify_items": null,
      "left": null,
      "margin": null,
      "max_height": null,
      "max_width": null,
      "min_height": null,
      "min_width": null,
      "object_fit": null,
      "object_position": null,
      "order": null,
      "overflow": null,
      "overflow_x": null,
      "overflow_y": null,
      "padding": null,
      "right": null,
      "top": null,
      "visibility": null,
      "width": null
     }
    },
    "877bfab141064ba688c277b1e059e484": {
     "model_module": "@jupyter-widgets/controls",
     "model_module_version": "1.5.0",
     "model_name": "DescriptionStyleModel",
     "state": {
      "_model_module": "@jupyter-widgets/controls",
      "_model_module_version": "1.5.0",
      "_model_name": "DescriptionStyleModel",
      "_view_count": null,
      "_view_module": "@jupyter-widgets/base",
      "_view_module_version": "1.2.0",
      "_view_name": "StyleView",
      "description_width": ""
     }
    },
    "898fff6c5c7947f5bb546cdaa090c50f": {
     "model_module": "@jupyter-widgets/base",
     "model_module_version": "1.2.0",
     "model_name": "LayoutModel",
     "state": {
      "_model_module": "@jupyter-widgets/base",
      "_model_module_version": "1.2.0",
      "_model_name": "LayoutModel",
      "_view_count": null,
      "_view_module": "@jupyter-widgets/base",
      "_view_module_version": "1.2.0",
      "_view_name": "LayoutView",
      "align_content": null,
      "align_items": null,
      "align_self": null,
      "border": null,
      "bottom": null,
      "display": null,
      "flex": null,
      "flex_flow": null,
      "grid_area": null,
      "grid_auto_columns": null,
      "grid_auto_flow": null,
      "grid_auto_rows": null,
      "grid_column": null,
      "grid_gap": null,
      "grid_row": null,
      "grid_template_areas": null,
      "grid_template_columns": null,
      "grid_template_rows": null,
      "height": null,
      "justify_content": null,
      "justify_items": null,
      "left": null,
      "margin": null,
      "max_height": null,
      "max_width": null,
      "min_height": null,
      "min_width": null,
      "object_fit": null,
      "object_position": null,
      "order": null,
      "overflow": null,
      "overflow_x": null,
      "overflow_y": null,
      "padding": null,
      "right": null,
      "top": null,
      "visibility": null,
      "width": null
     }
    },
    "8d5bf6112d6a411989a11d93f115e04e": {
     "model_module": "@jupyter-widgets/controls",
     "model_module_version": "1.5.0",
     "model_name": "DescriptionStyleModel",
     "state": {
      "_model_module": "@jupyter-widgets/controls",
      "_model_module_version": "1.5.0",
      "_model_name": "DescriptionStyleModel",
      "_view_count": null,
      "_view_module": "@jupyter-widgets/base",
      "_view_module_version": "1.2.0",
      "_view_name": "StyleView",
      "description_width": ""
     }
    },
    "9446988752614095af4345a1a0a882d7": {
     "model_module": "@jupyter-widgets/base",
     "model_module_version": "1.2.0",
     "model_name": "LayoutModel",
     "state": {
      "_model_module": "@jupyter-widgets/base",
      "_model_module_version": "1.2.0",
      "_model_name": "LayoutModel",
      "_view_count": null,
      "_view_module": "@jupyter-widgets/base",
      "_view_module_version": "1.2.0",
      "_view_name": "LayoutView",
      "align_content": null,
      "align_items": null,
      "align_self": null,
      "border": null,
      "bottom": null,
      "display": null,
      "flex": null,
      "flex_flow": null,
      "grid_area": null,
      "grid_auto_columns": null,
      "grid_auto_flow": null,
      "grid_auto_rows": null,
      "grid_column": null,
      "grid_gap": null,
      "grid_row": null,
      "grid_template_areas": null,
      "grid_template_columns": null,
      "grid_template_rows": null,
      "height": null,
      "justify_content": null,
      "justify_items": null,
      "left": null,
      "margin": null,
      "max_height": null,
      "max_width": null,
      "min_height": null,
      "min_width": null,
      "object_fit": null,
      "object_position": null,
      "order": null,
      "overflow": null,
      "overflow_x": null,
      "overflow_y": null,
      "padding": null,
      "right": null,
      "top": null,
      "visibility": null,
      "width": null
     }
    },
    "95c56ecac3c843439afbfe34cfc9f347": {
     "model_module": "@jupyter-widgets/controls",
     "model_module_version": "1.5.0",
     "model_name": "HTMLModel",
     "state": {
      "_dom_classes": [],
      "_model_module": "@jupyter-widgets/controls",
      "_model_module_version": "1.5.0",
      "_model_name": "HTMLModel",
      "_view_count": null,
      "_view_module": "@jupyter-widgets/controls",
      "_view_module_version": "1.5.0",
      "_view_name": "HTMLView",
      "description": "",
      "description_tooltip": null,
      "layout": "IPY_MODEL_898fff6c5c7947f5bb546cdaa090c50f",
      "placeholder": "​",
      "style": "IPY_MODEL_fb06c961606a42c4a7d3bf55c2faee91",
      "value": "tokenizer_config.json: 100%"
     }
    },
    "9b957128726b46728564e5f6fdc67c55": {
     "model_module": "@jupyter-widgets/controls",
     "model_module_version": "1.5.0",
     "model_name": "FloatProgressModel",
     "state": {
      "_dom_classes": [],
      "_model_module": "@jupyter-widgets/controls",
      "_model_module_version": "1.5.0",
      "_model_name": "FloatProgressModel",
      "_view_count": null,
      "_view_module": "@jupyter-widgets/controls",
      "_view_module_version": "1.5.0",
      "_view_name": "ProgressView",
      "bar_style": "success",
      "description": "",
      "description_tooltip": null,
      "layout": "IPY_MODEL_d728bf438cfb42e196d1c1300be5e614",
      "max": 629,
      "min": 0,
      "orientation": "horizontal",
      "style": "IPY_MODEL_b6bb599e87184a058f0f6335f9ce3c8d",
      "value": 629
     }
    },
    "9d476840a4f441369eb0079e72a9478d": {
     "model_module": "@jupyter-widgets/controls",
     "model_module_version": "1.5.0",
     "model_name": "DescriptionStyleModel",
     "state": {
      "_model_module": "@jupyter-widgets/controls",
      "_model_module_version": "1.5.0",
      "_model_name": "DescriptionStyleModel",
      "_view_count": null,
      "_view_module": "@jupyter-widgets/base",
      "_view_module_version": "1.2.0",
      "_view_name": "StyleView",
      "description_width": ""
     }
    },
    "9ebb1473179144728ef571cce5830c74": {
     "model_module": "@jupyter-widgets/controls",
     "model_module_version": "1.5.0",
     "model_name": "DescriptionStyleModel",
     "state": {
      "_model_module": "@jupyter-widgets/controls",
      "_model_module_version": "1.5.0",
      "_model_name": "DescriptionStyleModel",
      "_view_count": null,
      "_view_module": "@jupyter-widgets/base",
      "_view_module_version": "1.2.0",
      "_view_name": "StyleView",
      "description_width": ""
     }
    },
    "a4016e0e5a1a488db5f89be22d57b3e6": {
     "model_module": "@jupyter-widgets/controls",
     "model_module_version": "1.5.0",
     "model_name": "HBoxModel",
     "state": {
      "_dom_classes": [],
      "_model_module": "@jupyter-widgets/controls",
      "_model_module_version": "1.5.0",
      "_model_name": "HBoxModel",
      "_view_count": null,
      "_view_module": "@jupyter-widgets/controls",
      "_view_module_version": "1.5.0",
      "_view_name": "HBoxView",
      "box_style": "",
      "children": [
       "IPY_MODEL_da00b7e675d04f8c9459ae90360b86fa",
       "IPY_MODEL_9b957128726b46728564e5f6fdc67c55",
       "IPY_MODEL_c20e84f6ff3b410f97a64dd140ad5bca"
      ],
      "layout": "IPY_MODEL_4f893782b9044774985fae282e08dff2"
     }
    },
    "ad967e5ed6984f31a875c0ca6d5f95f1": {
     "model_module": "@jupyter-widgets/base",
     "model_module_version": "1.2.0",
     "model_name": "LayoutModel",
     "state": {
      "_model_module": "@jupyter-widgets/base",
      "_model_module_version": "1.2.0",
      "_model_name": "LayoutModel",
      "_view_count": null,
      "_view_module": "@jupyter-widgets/base",
      "_view_module_version": "1.2.0",
      "_view_name": "LayoutView",
      "align_content": null,
      "align_items": null,
      "align_self": null,
      "border": null,
      "bottom": null,
      "display": null,
      "flex": null,
      "flex_flow": null,
      "grid_area": null,
      "grid_auto_columns": null,
      "grid_auto_flow": null,
      "grid_auto_rows": null,
      "grid_column": null,
      "grid_gap": null,
      "grid_row": null,
      "grid_template_areas": null,
      "grid_template_columns": null,
      "grid_template_rows": null,
      "height": null,
      "justify_content": null,
      "justify_items": null,
      "left": null,
      "margin": null,
      "max_height": null,
      "max_width": null,
      "min_height": null,
      "min_width": null,
      "object_fit": null,
      "object_position": null,
      "order": null,
      "overflow": null,
      "overflow_x": null,
      "overflow_y": null,
      "padding": null,
      "right": null,
      "top": null,
      "visibility": null,
      "width": null
     }
    },
    "b50f5d5a87c34cae94360be347cc7ca3": {
     "model_module": "@jupyter-widgets/controls",
     "model_module_version": "1.5.0",
     "model_name": "HTMLModel",
     "state": {
      "_dom_classes": [],
      "_model_module": "@jupyter-widgets/controls",
      "_model_module_version": "1.5.0",
      "_model_name": "HTMLModel",
      "_view_count": null,
      "_view_module": "@jupyter-widgets/controls",
      "_view_module_version": "1.5.0",
      "_view_name": "HTMLView",
      "description": "",
      "description_tooltip": null,
      "layout": "IPY_MODEL_3f476892c1b34f009c52dd7e8f79ef15",
      "placeholder": "​",
      "style": "IPY_MODEL_17c3d06e2ac843dcba862f111c5f944b",
      "value": " 232k/232k [00:00&lt;00:00, 1.43MB/s]"
     }
    },
    "b6bb599e87184a058f0f6335f9ce3c8d": {
     "model_module": "@jupyter-widgets/controls",
     "model_module_version": "1.5.0",
     "model_name": "ProgressStyleModel",
     "state": {
      "_model_module": "@jupyter-widgets/controls",
      "_model_module_version": "1.5.0",
      "_model_name": "ProgressStyleModel",
      "_view_count": null,
      "_view_module": "@jupyter-widgets/base",
      "_view_module_version": "1.2.0",
      "_view_name": "StyleView",
      "bar_color": null,
      "description_width": ""
     }
    },
    "c20e84f6ff3b410f97a64dd140ad5bca": {
     "model_module": "@jupyter-widgets/controls",
     "model_module_version": "1.5.0",
     "model_name": "HTMLModel",
     "state": {
      "_dom_classes": [],
      "_model_module": "@jupyter-widgets/controls",
      "_model_module_version": "1.5.0",
      "_model_name": "HTMLModel",
      "_view_count": null,
      "_view_module": "@jupyter-widgets/controls",
      "_view_module_version": "1.5.0",
      "_view_name": "HTMLView",
      "description": "",
      "description_tooltip": null,
      "layout": "IPY_MODEL_ad967e5ed6984f31a875c0ca6d5f95f1",
      "placeholder": "​",
      "style": "IPY_MODEL_877bfab141064ba688c277b1e059e484",
      "value": " 629/629 [00:00&lt;00:00, 33.4kB/s]"
     }
    },
    "c36eefe36b6340809b55664cbb5ede0b": {
     "model_module": "@jupyter-widgets/controls",
     "model_module_version": "1.5.0",
     "model_name": "FloatProgressModel",
     "state": {
      "_dom_classes": [],
      "_model_module": "@jupyter-widgets/controls",
      "_model_module_version": "1.5.0",
      "_model_name": "FloatProgressModel",
      "_view_count": null,
      "_view_module": "@jupyter-widgets/controls",
      "_view_module_version": "1.5.0",
      "_view_name": "ProgressView",
      "bar_style": "success",
      "description": "",
      "description_tooltip": null,
      "layout": "IPY_MODEL_3b6f00bdfc6d483b9eabc804467d1706",
      "max": 48,
      "min": 0,
      "orientation": "horizontal",
      "style": "IPY_MODEL_f973568acf2446629b0cca9fb42bf3d1",
      "value": 48
     }
    },
    "d09a2d9e88de4ad09501d0e380d87dd6": {
     "model_module": "@jupyter-widgets/base",
     "model_module_version": "1.2.0",
     "model_name": "LayoutModel",
     "state": {
      "_model_module": "@jupyter-widgets/base",
      "_model_module_version": "1.2.0",
      "_model_name": "LayoutModel",
      "_view_count": null,
      "_view_module": "@jupyter-widgets/base",
      "_view_module_version": "1.2.0",
      "_view_name": "LayoutView",
      "align_content": null,
      "align_items": null,
      "align_self": null,
      "border": null,
      "bottom": null,
      "display": null,
      "flex": null,
      "flex_flow": null,
      "grid_area": null,
      "grid_auto_columns": null,
      "grid_auto_flow": null,
      "grid_auto_rows": null,
      "grid_column": null,
      "grid_gap": null,
      "grid_row": null,
      "grid_template_areas": null,
      "grid_template_columns": null,
      "grid_template_rows": null,
      "height": null,
      "justify_content": null,
      "justify_items": null,
      "left": null,
      "margin": null,
      "max_height": null,
      "max_width": null,
      "min_height": null,
      "min_width": null,
      "object_fit": null,
      "object_position": null,
      "order": null,
      "overflow": null,
      "overflow_x": null,
      "overflow_y": null,
      "padding": null,
      "right": null,
      "top": null,
      "visibility": null,
      "width": null
     }
    },
    "d728bf438cfb42e196d1c1300be5e614": {
     "model_module": "@jupyter-widgets/base",
     "model_module_version": "1.2.0",
     "model_name": "LayoutModel",
     "state": {
      "_model_module": "@jupyter-widgets/base",
      "_model_module_version": "1.2.0",
      "_model_name": "LayoutModel",
      "_view_count": null,
      "_view_module": "@jupyter-widgets/base",
      "_view_module_version": "1.2.0",
      "_view_name": "LayoutView",
      "align_content": null,
      "align_items": null,
      "align_self": null,
      "border": null,
      "bottom": null,
      "display": null,
      "flex": null,
      "flex_flow": null,
      "grid_area": null,
      "grid_auto_columns": null,
      "grid_auto_flow": null,
      "grid_auto_rows": null,
      "grid_column": null,
      "grid_gap": null,
      "grid_row": null,
      "grid_template_areas": null,
      "grid_template_columns": null,
      "grid_template_rows": null,
      "height": null,
      "justify_content": null,
      "justify_items": null,
      "left": null,
      "margin": null,
      "max_height": null,
      "max_width": null,
      "min_height": null,
      "min_width": null,
      "object_fit": null,
      "object_position": null,
      "order": null,
      "overflow": null,
      "overflow_x": null,
      "overflow_y": null,
      "padding": null,
      "right": null,
      "top": null,
      "visibility": null,
      "width": null
     }
    },
    "da00b7e675d04f8c9459ae90360b86fa": {
     "model_module": "@jupyter-widgets/controls",
     "model_module_version": "1.5.0",
     "model_name": "HTMLModel",
     "state": {
      "_dom_classes": [],
      "_model_module": "@jupyter-widgets/controls",
      "_model_module_version": "1.5.0",
      "_model_name": "HTMLModel",
      "_view_count": null,
      "_view_module": "@jupyter-widgets/controls",
      "_view_module_version": "1.5.0",
      "_view_name": "HTMLView",
      "description": "",
      "description_tooltip": null,
      "layout": "IPY_MODEL_dc6d5a3f5f7a48b2b8a334ad2a6831b7",
      "placeholder": "​",
      "style": "IPY_MODEL_0df0918f6ae24e849e61f1d4a92bb2f6",
      "value": "config.json: 100%"
     }
    },
    "dc6d5a3f5f7a48b2b8a334ad2a6831b7": {
     "model_module": "@jupyter-widgets/base",
     "model_module_version": "1.2.0",
     "model_name": "LayoutModel",
     "state": {
      "_model_module": "@jupyter-widgets/base",
      "_model_module_version": "1.2.0",
      "_model_name": "LayoutModel",
      "_view_count": null,
      "_view_module": "@jupyter-widgets/base",
      "_view_module_version": "1.2.0",
      "_view_name": "LayoutView",
      "align_content": null,
      "align_items": null,
      "align_self": null,
      "border": null,
      "bottom": null,
      "display": null,
      "flex": null,
      "flex_flow": null,
      "grid_area": null,
      "grid_auto_columns": null,
      "grid_auto_flow": null,
      "grid_auto_rows": null,
      "grid_column": null,
      "grid_gap": null,
      "grid_row": null,
      "grid_template_areas": null,
      "grid_template_columns": null,
      "grid_template_rows": null,
      "height": null,
      "justify_content": null,
      "justify_items": null,
      "left": null,
      "margin": null,
      "max_height": null,
      "max_width": null,
      "min_height": null,
      "min_width": null,
      "object_fit": null,
      "object_position": null,
      "order": null,
      "overflow": null,
      "overflow_x": null,
      "overflow_y": null,
      "padding": null,
      "right": null,
      "top": null,
      "visibility": null,
      "width": null
     }
    },
    "eacd49e1bb4f439eadd674dc10a29cb9": {
     "model_module": "@jupyter-widgets/base",
     "model_module_version": "1.2.0",
     "model_name": "LayoutModel",
     "state": {
      "_model_module": "@jupyter-widgets/base",
      "_model_module_version": "1.2.0",
      "_model_name": "LayoutModel",
      "_view_count": null,
      "_view_module": "@jupyter-widgets/base",
      "_view_module_version": "1.2.0",
      "_view_name": "LayoutView",
      "align_content": null,
      "align_items": null,
      "align_self": null,
      "border": null,
      "bottom": null,
      "display": null,
      "flex": null,
      "flex_flow": null,
      "grid_area": null,
      "grid_auto_columns": null,
      "grid_auto_flow": null,
      "grid_auto_rows": null,
      "grid_column": null,
      "grid_gap": null,
      "grid_row": null,
      "grid_template_areas": null,
      "grid_template_columns": null,
      "grid_template_rows": null,
      "height": null,
      "justify_content": null,
      "justify_items": null,
      "left": null,
      "margin": null,
      "max_height": null,
      "max_width": null,
      "min_height": null,
      "min_width": null,
      "object_fit": null,
      "object_position": null,
      "order": null,
      "overflow": null,
      "overflow_x": null,
      "overflow_y": null,
      "padding": null,
      "right": null,
      "top": null,
      "visibility": null,
      "width": null
     }
    },
    "f973568acf2446629b0cca9fb42bf3d1": {
     "model_module": "@jupyter-widgets/controls",
     "model_module_version": "1.5.0",
     "model_name": "ProgressStyleModel",
     "state": {
      "_model_module": "@jupyter-widgets/controls",
      "_model_module_version": "1.5.0",
      "_model_name": "ProgressStyleModel",
      "_view_count": null,
      "_view_module": "@jupyter-widgets/base",
      "_view_module_version": "1.2.0",
      "_view_name": "StyleView",
      "bar_color": null,
      "description_width": ""
     }
    },
    "fb06c961606a42c4a7d3bf55c2faee91": {
     "model_module": "@jupyter-widgets/controls",
     "model_module_version": "1.5.0",
     "model_name": "DescriptionStyleModel",
     "state": {
      "_model_module": "@jupyter-widgets/controls",
      "_model_module_version": "1.5.0",
      "_model_name": "DescriptionStyleModel",
      "_view_count": null,
      "_view_module": "@jupyter-widgets/base",
      "_view_module_version": "1.2.0",
      "_view_name": "StyleView",
      "description_width": ""
     }
    },
    "fbbf9f47f6024100b3eda41282f859bb": {
     "model_module": "@jupyter-widgets/base",
     "model_module_version": "1.2.0",
     "model_name": "LayoutModel",
     "state": {
      "_model_module": "@jupyter-widgets/base",
      "_model_module_version": "1.2.0",
      "_model_name": "LayoutModel",
      "_view_count": null,
      "_view_module": "@jupyter-widgets/base",
      "_view_module_version": "1.2.0",
      "_view_name": "LayoutView",
      "align_content": null,
      "align_items": null,
      "align_self": null,
      "border": null,
      "bottom": null,
      "display": null,
      "flex": null,
      "flex_flow": null,
      "grid_area": null,
      "grid_auto_columns": null,
      "grid_auto_flow": null,
      "grid_auto_rows": null,
      "grid_column": null,
      "grid_gap": null,
      "grid_row": null,
      "grid_template_areas": null,
      "grid_template_columns": null,
      "grid_template_rows": null,
      "height": null,
      "justify_content": null,
      "justify_items": null,
      "left": null,
      "margin": null,
      "max_height": null,
      "max_width": null,
      "min_height": null,
      "min_width": null,
      "object_fit": null,
      "object_position": null,
      "order": null,
      "overflow": null,
      "overflow_x": null,
      "overflow_y": null,
      "padding": null,
      "right": null,
      "top": null,
      "visibility": null,
      "width": null
     }
    }
   }
  }
 },
 "nbformat": 4,
 "nbformat_minor": 0
}
