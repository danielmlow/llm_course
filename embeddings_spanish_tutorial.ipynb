{
  "cells": [
    {
      "cell_type": "markdown",
      "metadata": {},
      "source": [
        "# Tutorial de Embeddings en Español: Codificación, Reducción de Dimensionalidad y Clustering\n",
        "\n",
        "Este tutorial te guiará a través del proceso completo de:\n",
        "1. **Codificación de embeddings** usando modelos de transformers en español\n",
        "2. **Reducción de dimensionalidad** con UMAP\n",
        "3. **Clustering** de las representaciones vectoriales\n",
        "4. **Visualización** de los resultados\n",
        "\n",
        "Utilizaremos oraciones sobre diferentes constructos sociales para demostrar cómo los embeddings capturan el significado semántico.\n"
      ]
    },
    {
      "cell_type": "code",
      "execution_count": null,
      "metadata": {},
      "outputs": [
        {
          "name": "stdout",
          "output_type": "stream",
          "text": [
            "Collecting sentence-transformers\n",
            "  Downloading sentence_transformers-5.1.1-py3-none-any.whl.metadata (16 kB)\n",
            "Collecting umap-learn\n",
            "  Downloading umap_learn-0.5.9.post2-py3-none-any.whl.metadata (25 kB)\n",
            "Collecting plotly\n",
            "  Downloading plotly-6.3.0-py3-none-any.whl.metadata (8.5 kB)\n",
            "Requirement already satisfied: transformers<5.0.0,>=4.41.0 in /Users/danielmlow/miniconda3/envs/llm_course/lib/python3.11/site-packages (from sentence-transformers) (4.56.2)\n",
            "Requirement already satisfied: tqdm in /Users/danielmlow/miniconda3/envs/llm_course/lib/python3.11/site-packages (from sentence-transformers) (4.67.1)\n",
            "Requirement already satisfied: torch>=1.11.0 in /Users/danielmlow/miniconda3/envs/llm_course/lib/python3.11/site-packages (from sentence-transformers) (2.8.0)\n",
            "Requirement already satisfied: scikit-learn in /Users/danielmlow/miniconda3/envs/llm_course/lib/python3.11/site-packages (from sentence-transformers) (1.7.2)\n",
            "Requirement already satisfied: scipy in /Users/danielmlow/miniconda3/envs/llm_course/lib/python3.11/site-packages (from sentence-transformers) (1.16.2)\n",
            "Requirement already satisfied: huggingface-hub>=0.20.0 in /Users/danielmlow/miniconda3/envs/llm_course/lib/python3.11/site-packages (from sentence-transformers) (0.34.6)\n",
            "Requirement already satisfied: Pillow in /Users/danielmlow/miniconda3/envs/llm_course/lib/python3.11/site-packages (from sentence-transformers) (11.3.0)\n",
            "Requirement already satisfied: typing_extensions>=4.5.0 in /Users/danielmlow/miniconda3/envs/llm_course/lib/python3.11/site-packages (from sentence-transformers) (4.15.0)\n",
            "Requirement already satisfied: filelock in /Users/danielmlow/miniconda3/envs/llm_course/lib/python3.11/site-packages (from transformers<5.0.0,>=4.41.0->sentence-transformers) (3.19.1)\n",
            "Requirement already satisfied: numpy>=1.17 in /Users/danielmlow/miniconda3/envs/llm_course/lib/python3.11/site-packages (from transformers<5.0.0,>=4.41.0->sentence-transformers) (2.3.3)\n",
            "Requirement already satisfied: packaging>=20.0 in /Users/danielmlow/miniconda3/envs/llm_course/lib/python3.11/site-packages (from transformers<5.0.0,>=4.41.0->sentence-transformers) (25.0)\n",
            "Requirement already satisfied: pyyaml>=5.1 in /Users/danielmlow/miniconda3/envs/llm_course/lib/python3.11/site-packages (from transformers<5.0.0,>=4.41.0->sentence-transformers) (6.0.2)\n",
            "Requirement already satisfied: regex!=2019.12.17 in /Users/danielmlow/miniconda3/envs/llm_course/lib/python3.11/site-packages (from transformers<5.0.0,>=4.41.0->sentence-transformers) (2025.9.18)\n",
            "Requirement already satisfied: requests in /Users/danielmlow/miniconda3/envs/llm_course/lib/python3.11/site-packages (from transformers<5.0.0,>=4.41.0->sentence-transformers) (2.32.5)\n",
            "Requirement already satisfied: tokenizers<=0.23.0,>=0.22.0 in /Users/danielmlow/miniconda3/envs/llm_course/lib/python3.11/site-packages (from transformers<5.0.0,>=4.41.0->sentence-transformers) (0.22.1)\n",
            "Requirement already satisfied: safetensors>=0.4.3 in /Users/danielmlow/miniconda3/envs/llm_course/lib/python3.11/site-packages (from transformers<5.0.0,>=4.41.0->sentence-transformers) (0.6.2)\n",
            "Requirement already satisfied: fsspec>=2023.5.0 in /Users/danielmlow/miniconda3/envs/llm_course/lib/python3.11/site-packages (from huggingface-hub>=0.20.0->sentence-transformers) (2025.3.0)\n",
            "Requirement already satisfied: hf-xet<2.0.0,>=1.1.3 in /Users/danielmlow/miniconda3/envs/llm_course/lib/python3.11/site-packages (from huggingface-hub>=0.20.0->sentence-transformers) (1.1.10)\n",
            "Collecting numba>=0.51.2 (from umap-learn)\n",
            "  Downloading numba-0.62.0-cp311-cp311-macosx_11_0_arm64.whl.metadata (2.8 kB)\n",
            "Collecting pynndescent>=0.5 (from umap-learn)\n",
            "  Using cached pynndescent-0.5.13-py3-none-any.whl.metadata (6.8 kB)\n",
            "Collecting narwhals>=1.15.1 (from plotly)\n",
            "  Downloading narwhals-2.5.0-py3-none-any.whl.metadata (11 kB)\n",
            "Collecting llvmlite<0.46,>=0.45.0dev0 (from numba>=0.51.2->umap-learn)\n",
            "  Downloading llvmlite-0.45.0-cp311-cp311-macosx_11_0_arm64.whl.metadata (4.8 kB)\n",
            "Requirement already satisfied: joblib>=0.11 in /Users/danielmlow/miniconda3/envs/llm_course/lib/python3.11/site-packages (from pynndescent>=0.5->umap-learn) (1.5.2)\n",
            "Requirement already satisfied: threadpoolctl>=3.1.0 in /Users/danielmlow/miniconda3/envs/llm_course/lib/python3.11/site-packages (from scikit-learn->sentence-transformers) (3.6.0)\n",
            "Requirement already satisfied: sympy>=1.13.3 in /Users/danielmlow/miniconda3/envs/llm_course/lib/python3.11/site-packages (from torch>=1.11.0->sentence-transformers) (1.14.0)\n",
            "Requirement already satisfied: networkx in /Users/danielmlow/miniconda3/envs/llm_course/lib/python3.11/site-packages (from torch>=1.11.0->sentence-transformers) (3.5)\n",
            "Requirement already satisfied: jinja2 in /Users/danielmlow/miniconda3/envs/llm_course/lib/python3.11/site-packages (from torch>=1.11.0->sentence-transformers) (3.1.6)\n",
            "Requirement already satisfied: mpmath<1.4,>=1.1.0 in /Users/danielmlow/miniconda3/envs/llm_course/lib/python3.11/site-packages (from sympy>=1.13.3->torch>=1.11.0->sentence-transformers) (1.3.0)\n",
            "Requirement already satisfied: MarkupSafe>=2.0 in /Users/danielmlow/miniconda3/envs/llm_course/lib/python3.11/site-packages (from jinja2->torch>=1.11.0->sentence-transformers) (3.0.2)\n",
            "Requirement already satisfied: charset_normalizer<4,>=2 in /Users/danielmlow/miniconda3/envs/llm_course/lib/python3.11/site-packages (from requests->transformers<5.0.0,>=4.41.0->sentence-transformers) (3.4.3)\n",
            "Requirement already satisfied: idna<4,>=2.5 in /Users/danielmlow/miniconda3/envs/llm_course/lib/python3.11/site-packages (from requests->transformers<5.0.0,>=4.41.0->sentence-transformers) (3.10)\n",
            "Requirement already satisfied: urllib3<3,>=1.21.1 in /Users/danielmlow/miniconda3/envs/llm_course/lib/python3.11/site-packages (from requests->transformers<5.0.0,>=4.41.0->sentence-transformers) (2.5.0)\n",
            "Requirement already satisfied: certifi>=2017.4.17 in /Users/danielmlow/miniconda3/envs/llm_course/lib/python3.11/site-packages (from requests->transformers<5.0.0,>=4.41.0->sentence-transformers) (2025.8.3)\n",
            "Downloading sentence_transformers-5.1.1-py3-none-any.whl (486 kB)\n",
            "Downloading umap_learn-0.5.9.post2-py3-none-any.whl (90 kB)\n",
            "Downloading plotly-6.3.0-py3-none-any.whl (9.8 MB)\n",
            "\u001b[2K   \u001b[90m━━━━━━━━━━━━━━━━━━━━━━━━━━━━━━━━━━━━━━━━\u001b[0m \u001b[32m9.8/9.8 MB\u001b[0m \u001b[31m48.8 MB/s\u001b[0m  \u001b[33m0:00:00\u001b[0m\n",
            "\u001b[?25hDownloading narwhals-2.5.0-py3-none-any.whl (407 kB)\n",
            "Downloading numba-0.62.0-cp311-cp311-macosx_11_0_arm64.whl (2.7 MB)\n",
            "\u001b[2K   \u001b[90m━━━━━━━━━━━━━━━━━━━━━━━━━━━━━━━━━━━━━━━━\u001b[0m \u001b[32m2.7/2.7 MB\u001b[0m \u001b[31m53.2 MB/s\u001b[0m  \u001b[33m0:00:00\u001b[0m\n",
            "\u001b[?25hDownloading llvmlite-0.45.0-cp311-cp311-macosx_11_0_arm64.whl (37.3 MB)\n",
            "\u001b[2K   \u001b[90m━━━━━━━━━━━━━━━━━━━━━━━━━━━━━━━━━━━━━━━━\u001b[0m \u001b[32m37.3/37.3 MB\u001b[0m \u001b[31m47.1 MB/s\u001b[0m  \u001b[33m0:00:00\u001b[0m eta \u001b[36m0:00:01\u001b[0m\n",
            "\u001b[?25hUsing cached pynndescent-0.5.13-py3-none-any.whl (56 kB)\n",
            "Installing collected packages: narwhals, llvmlite, plotly, numba, pynndescent, umap-learn, sentence-transformers\n",
            "\u001b[2K   \u001b[90m━━━━━━━━━━━━━━━━━━━━━━━━━━━━━━━━━━━━━━━━\u001b[0m \u001b[32m7/7\u001b[0m [sentence-transformers]ence-transformers]\n",
            "\u001b[1A\u001b[2KSuccessfully installed llvmlite-0.45.0 narwhals-2.5.0 numba-0.62.0 plotly-6.3.0 pynndescent-0.5.13 sentence-transformers-5.1.1 umap-learn-0.5.9.post2\n"
          ]
        }
      ],
      "source": [
        "# Instalación de dependencias\n",
        "# Ejecuta esta celda si no tienes las librerías instaladas\n",
        "!pip install sentence-transformers umap-learn plotly\n",
        "!pip install nbformat\n"
      ]
    },
    {
      "cell_type": "code",
      "execution_count": 1,
      "metadata": {},
      "outputs": [],
      "source": [
        "# Importar librerías necesarias\n",
        "import numpy as np\n",
        "import pandas as pd\n",
        "import matplotlib.pyplot as plt\n",
        "import seaborn as sns\n",
        "from sentence_transformers import SentenceTransformer\n",
        "from sklearn.cluster import KMeans, DBSCAN\n",
        "from sklearn.metrics import silhouette_score\n",
        "import umap\n",
        "import plotly.express as px\n",
        "import plotly.graph_objects as go\n",
        "from plotly.subplots import make_subplots\n",
        "import warnings\n",
        "warnings.filterwarnings('ignore')\n",
        "\n",
        "# Configurar estilo de visualización\n",
        "plt.style.use('seaborn-v0_8')\n",
        "sns.set_palette(\"husl\")\n"
      ]
    },
    {
      "cell_type": "markdown",
      "metadata": {},
      "source": [
        "## 1. Datos: Oraciones sobre Constructos Sociales\n",
        "\n",
        "Vamos a crear un conjunto de oraciones en español que aborden diferentes constructos sociales. Esto nos permitirá ver cómo los embeddings capturan las similitudes semánticas entre conceptos relacionados.\n"
      ]
    },
    {
      "cell_type": "code",
      "execution_count": 2,
      "metadata": {},
      "outputs": [
        {
          "name": "stdout",
          "output_type": "stream",
          "text": [
            "Total de oraciones: 30\n",
            "Categorías: ['Identidad Cultural' 'Desigualdad Social' 'Migración' 'Género'\n",
            " 'Medio Ambiente' 'Tecnología']\n",
            "\n",
            "Primeras 5 oraciones:\n",
            "            categoria                                            oracion  \\\n",
            "0  Identidad Cultural  La identidad cultural se forma a través de las...   \n",
            "1  Identidad Cultural  Las costumbres ancestrales moldean nuestra ide...   \n",
            "2  Identidad Cultural  La música folclórica es parte fundamental de l...   \n",
            "3  Identidad Cultural  Las celebraciones tradicionales fortalecen la ...   \n",
            "4  Identidad Cultural  El idioma materno es un pilar de la identidad ...   \n",
            "\n",
            "   longitud  \n",
            "0        11  \n",
            "1         7  \n",
            "2        10  \n",
            "3         7  \n",
            "4        10  \n"
          ]
        }
      ],
      "source": [
        "# Definir oraciones sobre diferentes constructos sociales\n",
        "oraciones = {\n",
        "    'Identidad Cultural': [\n",
        "        \"La identidad cultural se forma a través de las tradiciones familiares\",\n",
        "        \"Las costumbres ancestrales moldean nuestra identidad cultural\",\n",
        "        \"La música folclórica es parte fundamental de la identidad cultural\",\n",
        "        \"Las celebraciones tradicionales fortalecen la identidad cultural\",\n",
        "        \"El idioma materno es un pilar de la identidad cultural\"\n",
        "    ],\n",
        "    \n",
        "    'Desigualdad Social': [\n",
        "        \"La desigualdad social afecta el acceso a la educación\",\n",
        "        \"Las diferencias económicas generan desigualdad social\",\n",
        "        \"La movilidad social se ve limitada por la desigualdad\",\n",
        "        \"La desigualdad social impacta la salud de las comunidades\",\n",
        "        \"Los sistemas educativos pueden perpetuar la desigualdad social\"\n",
        "    ],\n",
        "    \n",
        "    'Migración': [\n",
        "        \"La migración es un fenómeno global que conecta culturas\",\n",
        "        \"Los migrantes contribuyen al desarrollo económico de los países\",\n",
        "        \"La migración genera diversidad cultural en las sociedades\",\n",
        "        \"Los procesos migratorios requieren políticas de integración\",\n",
        "        \"La migración puede ser motivada por conflictos o oportunidades\"\n",
        "    ],\n",
        "    \n",
        "    'Género': [\n",
        "        \"La igualdad de género es fundamental para el desarrollo social\",\n",
        "        \"Los estereotipos de género limitan las oportunidades de las personas\",\n",
        "        \"La perspectiva de género debe incluirse en las políticas públicas\",\n",
        "        \"La violencia de género es un problema estructural de la sociedad\",\n",
        "        \"La participación política de las mujeres fortalece la democracia\"\n",
        "    ],\n",
        "    \n",
        "    'Medio Ambiente': [\n",
        "        \"El cambio climático afecta a todas las comunidades del mundo\",\n",
        "        \"La sostenibilidad ambiental requiere cambios en nuestros hábitos\",\n",
        "        \"La contaminación ambiental impacta la salud de las poblaciones\",\n",
        "        \"Las energías renovables son clave para un futuro sostenible\",\n",
        "        \"La conservación de la biodiversidad es responsabilidad de todos\"\n",
        "    ],\n",
        "    \n",
        "    'Tecnología': [\n",
        "        \"La tecnología digital transforma la forma de comunicarnos\",\n",
        "        \"La inteligencia artificial está cambiando el mundo laboral\",\n",
        "        \"Las redes sociales influyen en las relaciones interpersonales\",\n",
        "        \"La brecha digital excluye a sectores de la población\",\n",
        "        \"La tecnología puede democratizar el acceso al conocimiento\"\n",
        "    ]\n",
        "}\n",
        "\n",
        "# Crear DataFrame con las oraciones\n",
        "datos = []\n",
        "for categoria, oraciones_cat in oraciones.items():\n",
        "    for oracion in oraciones_cat:\n",
        "        datos.append({\n",
        "            'categoria': categoria,\n",
        "            'oracion': oracion,\n",
        "            'longitud': len(oracion.split())\n",
        "        })\n",
        "\n",
        "df = pd.DataFrame(datos)\n",
        "print(f\"Total de oraciones: {len(df)}\")\n",
        "print(f\"Categorías: {df['categoria'].unique()}\")\n",
        "print(\"\\nPrimeras 5 oraciones:\")\n",
        "print(df.head())\n"
      ]
    },
    {
      "cell_type": "markdown",
      "metadata": {},
      "source": [
        "## 2. Generación de Embeddings\n",
        "\n",
        "Los embeddings son representaciones vectoriales densas que capturan el significado semántico del texto. Usaremos un modelo de Sentence Transformers entrenado específicamente para español.\n"
      ]
    },
    {
      "cell_type": "code",
      "execution_count": 3,
      "metadata": {},
      "outputs": [
        {
          "name": "stdout",
          "output_type": "stream",
          "text": [
            "Modelo cargado exitosamente\n",
            "Dimensiones de los embeddings: 384\n"
          ]
        }
      ],
      "source": [
        "# Cargar modelo de embeddings para español\n",
        "# Este modelo está optimizado para texto en español\n",
        "modelo = SentenceTransformer('paraphrase-multilingual-MiniLM-L12-v2')\n",
        "\n",
        "print(\"Modelo cargado exitosamente\")\n",
        "print(f\"Dimensiones de los embeddings: {modelo.get_sentence_embedding_dimension()}\")\n"
      ]
    },
    {
      "cell_type": "code",
      "execution_count": 4,
      "metadata": {},
      "outputs": [
        {
          "name": "stdout",
          "output_type": "stream",
          "text": [
            "Generando embeddings...\n"
          ]
        },
        {
          "data": {
            "application/vnd.jupyter.widget-view+json": {
              "model_id": "91cba676060942e3aaae071cb76bfab1",
              "version_major": 2,
              "version_minor": 0
            },
            "text/plain": [
              "Batches:   0%|          | 0/1 [00:00<?, ?it/s]"
            ]
          },
          "metadata": {},
          "output_type": "display_data"
        },
        {
          "name": "stdout",
          "output_type": "stream",
          "text": [
            "Forma de los embeddings: (30, 384)\n",
            "Tipo de datos: float32\n",
            "\n",
            "Estadísticas de los embeddings:\n",
            "Valor mínimo: -0.9336\n",
            "Valor máximo: 0.8903\n",
            "Valor promedio: 0.0000\n",
            "Desviación estándar: 0.2419\n"
          ]
        }
      ],
      "source": [
        "# Generar embeddings para todas las oraciones\n",
        "print(\"Generando embeddings...\")\n",
        "embeddings = modelo.encode(df['oracion'].tolist(), show_progress_bar=True)\n",
        "\n",
        "print(f\"Forma de los embeddings: {embeddings.shape}\")\n",
        "print(f\"Tipo de datos: {embeddings.dtype}\")\n",
        "\n",
        "# Guardar embeddings en el DataFrame\n",
        "df['embedding'] = list(embeddings)\n",
        "\n",
        "# Mostrar estadísticas básicas\n",
        "print(f\"\\nEstadísticas de los embeddings:\")\n",
        "print(f\"Valor mínimo: {embeddings.min():.4f}\")\n",
        "print(f\"Valor máximo: {embeddings.max():.4f}\")\n",
        "print(f\"Valor promedio: {embeddings.mean():.4f}\")\n",
        "print(f\"Desviación estándar: {embeddings.std():.4f}\")\n"
      ]
    },
    {
      "cell_type": "markdown",
      "metadata": {},
      "source": [
        "## 3. Reducción de Dimensionalidad con UMAP\n",
        "\n",
        "UMAP (Uniform Manifold Approximation and Projection) es una técnica de reducción de dimensionalidad que preserva tanto la estructura local como global de los datos. Es especialmente útil para visualizar embeddings de alta dimensionalidad.\n"
      ]
    },
    {
      "cell_type": "code",
      "execution_count": 8,
      "metadata": {},
      "outputs": [
        {
          "name": "stdout",
          "output_type": "stream",
          "text": [
            "Aplicando reducción de dimensionalidad con UMAP...\n",
            "Forma original: (30, 384)\n",
            "Forma reducida: (30, 2)\n",
            "\n",
            "Coordenadas 2D generadas exitosamente\n"
          ]
        }
      ],
      "source": [
        "# Configurar y aplicar UMAP\n",
        "print(\"Aplicando reducción de dimensionalidad con UMAP...\")\n",
        "\n",
        "# Parámetros de UMAP\n",
        "n_neighbors = 15  # Número de vecinos para la estructura local\n",
        "min_dist = 0.1    # Distancia mínima entre puntos\n",
        "n_components = 2  # Dimensiones de salida\n",
        "\n",
        "# Crear y ajustar el modelo UMAP\n",
        "reductor = umap.UMAP(\n",
        "    n_neighbors=n_neighbors,\n",
        "    min_dist=min_dist,\n",
        "    n_components=n_components,\n",
        "    random_state=42,\n",
        "    metric='cosine'  # Usar similitud coseno para embeddings de texto\n",
        ")\n",
        "\n",
        "# Aplicar la reducción de dimensionalidad\n",
        "embeddings_2d = reductor.fit_transform(embeddings)\n",
        "\n",
        "print(f\"Forma original: {embeddings.shape}\")\n",
        "print(f\"Forma reducida: {embeddings_2d.shape}\")\n",
        "\n",
        "# Agregar coordenadas 2D al DataFrame\n",
        "df['x'] = embeddings_2d[:, 0]\n",
        "df['y'] = embeddings_2d[:, 1]\n",
        "\n",
        "print(\"\\nCoordenadas 2D generadas exitosamente\")\n"
      ]
    },
    {
      "cell_type": "markdown",
      "metadata": {},
      "source": [
        "## 4. Visualizaciones y Análisis\n",
        "\n",
        "Crearemos visualizaciones interactivas para explorar los resultados del clustering y la reducción de dimensionalidad.\n"
      ]
    },
    {
      "cell_type": "code",
      "execution_count": 10,
      "metadata": {},
      "outputs": [
        {
          "data": {
            "image/png": "[encoded data removed]",
            "text/plain": [
              "<Figure size 1500x1000 with 1 Axes>"
            ]
          },
          "metadata": {},
          "output_type": "display_data"
        }
      ],
      "source": [
        "# Visualización con matplotlib\n",
        "plt.figure(figsize=(15, 10))\n",
        "\n",
        "# Subplot 1: Clusters por categoría original\n",
        "\n",
        "categorias = df['categoria'].unique()\n",
        "colores = plt.cm.Set3(np.linspace(0, 1, len(categorias)))\n",
        "\n",
        "for i, categoria in enumerate(categorias):\n",
        "    mask = df['categoria'] == categoria\n",
        "    plt.scatter(df.loc[mask, 'x'], df.loc[mask, 'y'], \n",
        "               c=[colores[i]], label=categoria, alpha=0.7, s=60)\n",
        "\n",
        "plt.title('Distribución por Categoría Original', fontsize=14, fontweight='bold')\n",
        "plt.xlabel('UMAP 1')\n",
        "plt.ylabel('UMAP 2')\n",
        "plt.legend(bbox_to_anchor=(1.05, 1), loc='upper left')\n",
        "plt.grid(True, alpha=0.3)\n",
        "\n",
        "\n"
      ]
    },
    {
      "cell_type": "code",
      "execution_count": 11,
      "metadata": {},
      "outputs": [
        {
          "data": {
            "application/vnd.plotly.v1+json": {
              "config": {
                "plotlyServerURL": "https://plot.ly"
              },
              "data": [
                {
                  "hovertemplate": "<b>%{text}</b><br>Categoría: Identidad Cultural<extra></extra>",
                  "marker": {
                    "opacity": 0.8,
                    "size": 10
                  },
                  "mode": "markers",
                  "name": "Identidad Cultural",
                  "text": [
                    "La identidad cultural se forma a través de las tradiciones familiares",
                    "Las costumbres ancestrales moldean nuestra identidad cultural",
                    "La música folclórica es parte fundamental de la identidad cultural",
                    "Las celebraciones tradicionales fortalecen la identidad cultural",
                    "El idioma materno es un pilar de la identidad cultural"
                  ],
                  "type": "scatter",
                  "x": {
                    "bdata": "jIodQZ7+FEFH0R1B/hAYQSggGEE=",
                    "dtype": "f4"
                  },
                  "y": {
                    "bdata": "8xAkwTD6KcGfZivBMAkmwR5jLsE=",
                    "dtype": "f4"
                  }
                },
                {
                  "hovertemplate": "<b>%{text}</b><br>Categoría: Desigualdad Social<extra></extra>",
                  "marker": {
                    "opacity": 0.8,
                    "size": 10
                  },
                  "mode": "markers",
                  "name": "Desigualdad Social",
                  "text": [
                    "La desigualdad social afecta el acceso a la educación",
                    "Las diferencias económicas generan desigualdad social",
                    "La movilidad social se ve limitada por la desigualdad",
                    "La desigualdad social impacta la salud de las comunidades",
                    "Los sistemas educativos pueden perpetuar la desigualdad social"
                  ],
                  "type": "scatter",
                  "x": {
                    "bdata": "kaEBQW8eB0HWeA1B2egAQQpz/EA=",
                    "dtype": "f4"
                  },
                  "y": {
                    "bdata": "ulb5wAQgAMExYQbB8oLmwHbaAcE=",
                    "dtype": "f4"
                  }
                },
                {
                  "hovertemplate": "<b>%{text}</b><br>Categoría: Migración<extra></extra>",
                  "marker": {
                    "opacity": 0.8,
                    "size": 10
                  },
                  "mode": "markers",
                  "name": "Migración",
                  "text": [
                    "La migración es un fenómeno global que conecta culturas",
                    "Los migrantes contribuyen al desarrollo económico de los países",
                    "La migración genera diversidad cultural en las sociedades",
                    "Los procesos migratorios requieren políticas de integración",
                    "La migración puede ser motivada por conflictos o oportunidades"
                  ],
                  "type": "scatter",
                  "x": {
                    "bdata": "KOwNQZNiBUEvOA9B/e8HQfoxCEE=",
                    "dtype": "f4"
                  },
                  "y": {
                    "bdata": "yT4TwUyEFcEelRrBmEoSwVbgGsE=",
                    "dtype": "f4"
                  }
                },
                {
                  "hovertemplate": "<b>%{text}</b><br>Categoría: Género<extra></extra>",
                  "marker": {
                    "opacity": 0.8,
                    "size": 10
                  },
                  "mode": "markers",
                  "name": "Género",
                  "text": [
                    "La igualdad de género es fundamental para el desarrollo social",
                    "Los estereotipos de género limitan las oportunidades de las personas",
                    "La perspectiva de género debe incluirse en las políticas públicas",
                    "La violencia de género es un problema estructural de la sociedad",
                    "La participación política de las mujeres fortalece la democracia"
                  ],
                  "type": "scatter",
                  "x": {
                    "bdata": "yvgfQaC1G0HT9CRBGG4lQSokLEE=",
                    "dtype": "f4"
                  },
                  "y": {
                    "bdata": "sG36wOELBcEDcAfBe9YDwfiqAsE=",
                    "dtype": "f4"
                  }
                },
                {
                  "hovertemplate": "<b>%{text}</b><br>Categoría: Medio Ambiente<extra></extra>",
                  "marker": {
                    "opacity": 0.8,
                    "size": 10
                  },
                  "mode": "markers",
                  "name": "Medio Ambiente",
                  "text": [
                    "El cambio climático afecta a todas las comunidades del mundo",
                    "La sostenibilidad ambiental requiere cambios en nuestros hábitos",
                    "La contaminación ambiental impacta la salud de las poblaciones",
                    "Las energías renovables son clave para un futuro sostenible",
                    "La conservación de la biodiversidad es responsabilidad de todos"
                  ],
                  "type": "scatter",
                  "x": {
                    "bdata": "CDABQRPYBUHcevtA1xwJQd+UAUE=",
                    "dtype": "f4"
                  },
                  "y": {
                    "bdata": "Q4C9wF3RtMDuPMrAjAC8wKa1qcA=",
                    "dtype": "f4"
                  }
                },
                {
                  "hovertemplate": "<b>%{text}</b><br>Categoría: Tecnología<extra></extra>",
                  "marker": {
                    "opacity": 0.8,
                    "size": 10
                  },
                  "mode": "markers",
                  "name": "Tecnología",
                  "text": [
                    "La tecnología digital transforma la forma de comunicarnos",
                    "La inteligencia artificial está cambiando el mundo laboral",
                    "Las redes sociales influyen en las relaciones interpersonales",
                    "La brecha digital excluye a sectores de la población",
                    "La tecnología puede democratizar el acceso al conocimiento"
                  ],
                  "type": "scatter",
                  "x": {
                    "bdata": "Zn4TQY5bGkH0lgtBX/gRQcTsF0E=",
                    "dtype": "f4"
                  },
                  "y": {
                    "bdata": "qITdwAnH2sAvW+jANH/ywLtNzMA=",
                    "dtype": "f4"
                  }
                }
              ],
              "layout": {
                "height": 600,
                "showlegend": true,
                "template": {
                  "data": {
                    "bar": [
                      {
                        "error_x": {
                          "color": "#2a3f5f"
                        },
                        "error_y": {
                          "color": "#2a3f5f"
                        },
                        "marker": {
                          "line": {
                            "color": "#E5ECF6",
                            "width": 0.5
                          },
                          "pattern": {
                            "fillmode": "overlay",
                            "size": 10,
                            "solidity": 0.2
                          }
                        },
                        "type": "bar"
                      }
                    ],
                    "barpolar": [
                      {
                        "marker": {
                          "line": {
                            "color": "#E5ECF6",
                            "width": 0.5
                          },
                          "pattern": {
                            "fillmode": "overlay",
                            "size": 10,
                            "solidity": 0.2
                          }
                        },
                        "type": "barpolar"
                      }
                    ],
                    "carpet": [
                      {
                        "aaxis": {
                          "endlinecolor": "#2a3f5f",
                          "gridcolor": "white",
                          "linecolor": "white",
                          "minorgridcolor": "white",
                          "startlinecolor": "#2a3f5f"
                        },
                        "baxis": {
                          "endlinecolor": "#2a3f5f",
                          "gridcolor": "white",
                          "linecolor": "white",
                          "minorgridcolor": "white",
                          "startlinecolor": "#2a3f5f"
                        },
                        "type": "carpet"
                      }
                    ],
                    "choropleth": [
                      {
                        "colorbar": {
                          "outlinewidth": 0,
                          "ticks": ""
                        },
                        "type": "choropleth"
                      }
                    ],
                    "contour": [
                      {
                        "colorbar": {
                          "outlinewidth": 0,
                          "ticks": ""
                        },
                        "colorscale": [
                          [
                            0,
                            "#0d0887"
                          ],
                          [
                            0.1111111111111111,
                            "#46039f"
                          ],
                          [
                            0.2222222222222222,
                            "#7201a8"
                          ],
                          [
                            0.3333333333333333,
                            "#9c179e"
                          ],
                          [
                            0.4444444444444444,
                            "#bd3786"
                          ],
                          [
                            0.5555555555555556,
                            "#d8576b"
                          ],
                          [
                            0.6666666666666666,
                            "#ed7953"
                          ],
                          [
                            0.7777777777777778,
                            "#fb9f3a"
                          ],
                          [
                            0.8888888888888888,
                            "#fdca26"
                          ],
                          [
                            1,
                            "#f0f921"
                          ]
                        ],
                        "type": "contour"
                      }
                    ],
                    "contourcarpet": [
                      {
                        "colorbar": {
                          "outlinewidth": 0,
                          "ticks": ""
                        },
                        "type": "contourcarpet"
                      }
                    ],
                    "heatmap": [
                      {
                        "colorbar": {
                          "outlinewidth": 0,
                          "ticks": ""
                        },
                        "colorscale": [
                          [
                            0,
                            "#0d0887"
                          ],
                          [
                            0.1111111111111111,
                            "#46039f"
                          ],
                          [
                            0.2222222222222222,
                            "#7201a8"
                          ],
                          [
                            0.3333333333333333,
                            "#9c179e"
                          ],
                          [
                            0.4444444444444444,
                            "#bd3786"
                          ],
                          [
                            0.5555555555555556,
                            "#d8576b"
                          ],
                          [
                            0.6666666666666666,
                            "#ed7953"
                          ],
                          [
                            0.7777777777777778,
                            "#fb9f3a"
                          ],
                          [
                            0.8888888888888888,
                            "#fdca26"
                          ],
                          [
                            1,
                            "#f0f921"
                          ]
                        ],
                        "type": "heatmap"
                      }
                    ],
                    "histogram": [
                      {
                        "marker": {
                          "pattern": {
                            "fillmode": "overlay",
                            "size": 10,
                            "solidity": 0.2
                          }
                        },
                        "type": "histogram"
                      }
                    ],
                    "histogram2d": [
                      {
                        "colorbar": {
                          "outlinewidth": 0,
                          "ticks": ""
                        },
                        "colorscale": [
                          [
                            0,
                            "#0d0887"
                          ],
                          [
                            0.1111111111111111,
                            "#46039f"
                          ],
                          [
                            0.2222222222222222,
                            "#7201a8"
                          ],
                          [
                            0.3333333333333333,
                            "#9c179e"
                          ],
                          [
                            0.4444444444444444,
                            "#bd3786"
                          ],
                          [
                            0.5555555555555556,
                            "#d8576b"
                          ],
                          [
                            0.6666666666666666,
                            "#ed7953"
                          ],
                          [
                            0.7777777777777778,
                            "#fb9f3a"
                          ],
                          [
                            0.8888888888888888,
                            "#fdca26"
                          ],
                          [
                            1,
                            "#f0f921"
                          ]
                        ],
                        "type": "histogram2d"
                      }
                    ],
                    "histogram2dcontour": [
                      {
                        "colorbar": {
                          "outlinewidth": 0,
                          "ticks": ""
                        },
                        "colorscale": [
                          [
                            0,
                            "#0d0887"
                          ],
                          [
                            0.1111111111111111,
                            "#46039f"
                          ],
                          [
                            0.2222222222222222,
                            "#7201a8"
                          ],
                          [
                            0.3333333333333333,
                            "#9c179e"
                          ],
                          [
                            0.4444444444444444,
                            "#bd3786"
                          ],
                          [
                            0.5555555555555556,
                            "#d8576b"
                          ],
                          [
                            0.6666666666666666,
                            "#ed7953"
                          ],
                          [
                            0.7777777777777778,
                            "#fb9f3a"
                          ],
                          [
                            0.8888888888888888,
                            "#fdca26"
                          ],
                          [
                            1,
                            "#f0f921"
                          ]
                        ],
                        "type": "histogram2dcontour"
                      }
                    ],
                    "mesh3d": [
                      {
                        "colorbar": {
                          "outlinewidth": 0,
                          "ticks": ""
                        },
                        "type": "mesh3d"
                      }
                    ],
                    "parcoords": [
                      {
                        "line": {
                          "colorbar": {
                            "outlinewidth": 0,
                            "ticks": ""
                          }
                        },
                        "type": "parcoords"
                      }
                    ],
                    "pie": [
                      {
                        "automargin": true,
                        "type": "pie"
                      }
                    ],
                    "scatter": [
                      {
                        "fillpattern": {
                          "fillmode": "overlay",
                          "size": 10,
                          "solidity": 0.2
                        },
                        "type": "scatter"
                      }
                    ],
                    "scatter3d": [
                      {
                        "line": {
                          "colorbar": {
                            "outlinewidth": 0,
                            "ticks": ""
                          }
                        },
                        "marker": {
                          "colorbar": {
                            "outlinewidth": 0,
                            "ticks": ""
                          }
                        },
                        "type": "scatter3d"
                      }
                    ],
                    "scattercarpet": [
                      {
                        "marker": {
                          "colorbar": {
                            "outlinewidth": 0,
                            "ticks": ""
                          }
                        },
                        "type": "scattercarpet"
                      }
                    ],
                    "scattergeo": [
                      {
                        "marker": {
                          "colorbar": {
                            "outlinewidth": 0,
                            "ticks": ""
                          }
                        },
                        "type": "scattergeo"
                      }
                    ],
                    "scattergl": [
                      {
                        "marker": {
                          "colorbar": {
                            "outlinewidth": 0,
                            "ticks": ""
                          }
                        },
                        "type": "scattergl"
                      }
                    ],
                    "scattermap": [
                      {
                        "marker": {
                          "colorbar": {
                            "outlinewidth": 0,
                            "ticks": ""
                          }
                        },
                        "type": "scattermap"
                      }
                    ],
                    "scattermapbox": [
                      {
                        "marker": {
                          "colorbar": {
                            "outlinewidth": 0,
                            "ticks": ""
                          }
                        },
                        "type": "scattermapbox"
                      }
                    ],
                    "scatterpolar": [
                      {
                        "marker": {
                          "colorbar": {
                            "outlinewidth": 0,
                            "ticks": ""
                          }
                        },
                        "type": "scatterpolar"
                      }
                    ],
                    "scatterpolargl": [
                      {
                        "marker": {
                          "colorbar": {
                            "outlinewidth": 0,
                            "ticks": ""
                          }
                        },
                        "type": "scatterpolargl"
                      }
                    ],
                    "scatterternary": [
                      {
                        "marker": {
                          "colorbar": {
                            "outlinewidth": 0,
                            "ticks": ""
                          }
                        },
                        "type": "scatterternary"
                      }
                    ],
                    "surface": [
                      {
                        "colorbar": {
                          "outlinewidth": 0,
                          "ticks": ""
                        },
                        "colorscale": [
                          [
                            0,
                            "#0d0887"
                          ],
                          [
                            0.1111111111111111,
                            "#46039f"
                          ],
                          [
                            0.2222222222222222,
                            "#7201a8"
                          ],
                          [
                            0.3333333333333333,
                            "#9c179e"
                          ],
                          [
                            0.4444444444444444,
                            "#bd3786"
                          ],
                          [
                            0.5555555555555556,
                            "#d8576b"
                          ],
                          [
                            0.6666666666666666,
                            "#ed7953"
                          ],
                          [
                            0.7777777777777778,
                            "#fb9f3a"
                          ],
                          [
                            0.8888888888888888,
                            "#fdca26"
                          ],
                          [
                            1,
                            "#f0f921"
                          ]
                        ],
                        "type": "surface"
                      }
                    ],
                    "table": [
                      {
                        "cells": {
                          "fill": {
                            "color": "#EBF0F8"
                          },
                          "line": {
                            "color": "white"
                          }
                        },
                        "header": {
                          "fill": {
                            "color": "#C8D4E3"
                          },
                          "line": {
                            "color": "white"
                          }
                        },
                        "type": "table"
                      }
                    ]
                  },
                  "layout": {
                    "annotationdefaults": {
                      "arrowcolor": "#2a3f5f",
                      "arrowhead": 0,
                      "arrowwidth": 1
                    },
                    "autotypenumbers": "strict",
                    "coloraxis": {
                      "colorbar": {
                        "outlinewidth": 0,
                        "ticks": ""
                      }
                    },
                    "colorscale": {
                      "diverging": [
                        [
                          0,
                          "#8e0152"
                        ],
                        [
                          0.1,
                          "#c51b7d"
                        ],
                        [
                          0.2,
                          "#de77ae"
                        ],
                        [
                          0.3,
                          "#f1b6da"
                        ],
                        [
                          0.4,
                          "#fde0ef"
                        ],
                        [
                          0.5,
                          "#f7f7f7"
                        ],
                        [
                          0.6,
                          "#e6f5d0"
                        ],
                        [
                          0.7,
                          "#b8e186"
                        ],
                        [
                          0.8,
                          "#7fbc41"
                        ],
                        [
                          0.9,
                          "#4d9221"
                        ],
                        [
                          1,
                          "#276419"
                        ]
                      ],
                      "sequential": [
                        [
                          0,
                          "#0d0887"
                        ],
                        [
                          0.1111111111111111,
                          "#46039f"
                        ],
                        [
                          0.2222222222222222,
                          "#7201a8"
                        ],
                        [
                          0.3333333333333333,
                          "#9c179e"
                        ],
                        [
                          0.4444444444444444,
                          "#bd3786"
                        ],
                        [
                          0.5555555555555556,
                          "#d8576b"
                        ],
                        [
                          0.6666666666666666,
                          "#ed7953"
                        ],
                        [
                          0.7777777777777778,
                          "#fb9f3a"
                        ],
                        [
                          0.8888888888888888,
                          "#fdca26"
                        ],
                        [
                          1,
                          "#f0f921"
                        ]
                      ],
                      "sequentialminus": [
                        [
                          0,
                          "#0d0887"
                        ],
                        [
                          0.1111111111111111,
                          "#46039f"
                        ],
                        [
                          0.2222222222222222,
                          "#7201a8"
                        ],
                        [
                          0.3333333333333333,
                          "#9c179e"
                        ],
                        [
                          0.4444444444444444,
                          "#bd3786"
                        ],
                        [
                          0.5555555555555556,
                          "#d8576b"
                        ],
                        [
                          0.6666666666666666,
                          "#ed7953"
                        ],
                        [
                          0.7777777777777778,
                          "#fb9f3a"
                        ],
                        [
                          0.8888888888888888,
                          "#fdca26"
                        ],
                        [
                          1,
                          "#f0f921"
                        ]
                      ]
                    },
                    "colorway": [
                      "#636efa",
                      "#EF553B",
                      "#00cc96",
                      "#ab63fa",
                      "#FFA15A",
                      "#19d3f3",
                      "#FF6692",
                      "#B6E880",
                      "#FF97FF",
                      "#FECB52"
                    ],
                    "font": {
                      "color": "#2a3f5f"
                    },
                    "geo": {
                      "bgcolor": "white",
                      "lakecolor": "white",
                      "landcolor": "#E5ECF6",
                      "showlakes": true,
                      "showland": true,
                      "subunitcolor": "white"
                    },
                    "hoverlabel": {
                      "align": "left"
                    },
                    "hovermode": "closest",
                    "mapbox": {
                      "style": "light"
                    },
                    "paper_bgcolor": "white",
                    "plot_bgcolor": "#E5ECF6",
                    "polar": {
                      "angularaxis": {
                        "gridcolor": "white",
                        "linecolor": "white",
                        "ticks": ""
                      },
                      "bgcolor": "#E5ECF6",
                      "radialaxis": {
                        "gridcolor": "white",
                        "linecolor": "white",
                        "ticks": ""
                      }
                    },
                    "scene": {
                      "xaxis": {
                        "backgroundcolor": "#E5ECF6",
                        "gridcolor": "white",
                        "gridwidth": 2,
                        "linecolor": "white",
                        "showbackground": true,
                        "ticks": "",
                        "zerolinecolor": "white"
                      },
                      "yaxis": {
                        "backgroundcolor": "#E5ECF6",
                        "gridcolor": "white",
                        "gridwidth": 2,
                        "linecolor": "white",
                        "showbackground": true,
                        "ticks": "",
                        "zerolinecolor": "white"
                      },
                      "zaxis": {
                        "backgroundcolor": "#E5ECF6",
                        "gridcolor": "white",
                        "gridwidth": 2,
                        "linecolor": "white",
                        "showbackground": true,
                        "ticks": "",
                        "zerolinecolor": "white"
                      }
                    },
                    "shapedefaults": {
                      "line": {
                        "color": "#2a3f5f"
                      }
                    },
                    "ternary": {
                      "aaxis": {
                        "gridcolor": "white",
                        "linecolor": "white",
                        "ticks": ""
                      },
                      "baxis": {
                        "gridcolor": "white",
                        "linecolor": "white",
                        "ticks": ""
                      },
                      "bgcolor": "#E5ECF6",
                      "caxis": {
                        "gridcolor": "white",
                        "linecolor": "white",
                        "ticks": ""
                      }
                    },
                    "title": {
                      "x": 0.05
                    },
                    "xaxis": {
                      "automargin": true,
                      "gridcolor": "white",
                      "linecolor": "white",
                      "ticks": "",
                      "title": {
                        "standoff": 15
                      },
                      "zerolinecolor": "white",
                      "zerolinewidth": 2
                    },
                    "yaxis": {
                      "automargin": true,
                      "gridcolor": "white",
                      "linecolor": "white",
                      "ticks": "",
                      "title": {
                        "standoff": 15
                      },
                      "zerolinecolor": "white",
                      "zerolinewidth": 2
                    }
                  }
                },
                "title": {
                  "text": "Visualización de Embeddings por Categoría Original",
                  "x": 0.5
                },
                "width": 800,
                "xaxis": {
                  "title": {
                    "text": "UMAP 1"
                  }
                },
                "yaxis": {
                  "title": {
                    "text": "UMAP 2"
                  }
                }
              }
            }
          },
          "metadata": {},
          "output_type": "display_data"
        }
      ],
      "source": [
        "# Visualización interactiva con Plotly - Solo categorías originales\n",
        "fig = go.Figure()\n",
        "\n",
        "# Gráfico por categoría original\n",
        "for categoria in df['categoria'].unique():\n",
        "    mask = df['categoria'] == categoria\n",
        "    fig.add_trace(\n",
        "        go.Scatter(\n",
        "            x=df.loc[mask, 'x'],\n",
        "            y=df.loc[mask, 'y'],\n",
        "            mode='markers',\n",
        "            name=categoria,\n",
        "            text=df.loc[mask, 'oracion'],\n",
        "            hovertemplate='<b>%{text}</b><br>Categoría: ' + categoria + '<extra></extra>',\n",
        "            marker=dict(size=10, opacity=0.8)\n",
        "        )\n",
        "    )\n",
        "\n",
        "# Actualizar layout\n",
        "fig.update_layout(\n",
        "    title=\"Visualización de Embeddings por Categoría Original\",\n",
        "    title_x=0.5,\n",
        "    height=600,\n",
        "    width=800,\n",
        "    showlegend=True,\n",
        "    xaxis_title=\"UMAP 1\",\n",
        "    yaxis_title=\"UMAP 2\"\n",
        ")\n",
        "\n",
        "# Mostrar la figura\n",
        "fig.show()\n"
      ]
    },
    {
      "cell_type": "markdown",
      "metadata": {},
      "source": [
        "## 5. Análisis de Similitud Semántica\n",
        "\n",
        "Vamos a explorar las similitudes semánticas entre las oraciones usando los embeddings generados.\n"
      ]
    },
    {
      "cell_type": "code",
      "execution_count": 15,
      "metadata": {},
      "outputs": [
        {
          "name": "stdout",
          "output_type": "stream",
          "text": [
            "Calculando matriz de similitud coseno...\n",
            "Forma de la matriz de similitud: (30, 30)\n",
            "\n",
            "=== ORACIONES MÁS SIMILARES ===\n",
            "\n",
            "Oración: La identidad cultural se forma a través de las tradiciones familiares\n",
            "Más similares:\n",
            "  1. Las costumbres ancestrales moldean nuestra identidad cultural (similitud: 0.833)\n",
            "  2. El idioma materno es un pilar de la identidad cultural (similitud: 0.772)\n",
            "  3. Las celebraciones tradicionales fortalecen la identidad cultural (similitud: 0.714)\n",
            "\n",
            "Oración: Las costumbres ancestrales moldean nuestra identidad cultural\n",
            "Más similares:\n",
            "  1. La identidad cultural se forma a través de las tradiciones familiares (similitud: 0.833)\n",
            "  2. Las celebraciones tradicionales fortalecen la identidad cultural (similitud: 0.753)\n",
            "  3. El idioma materno es un pilar de la identidad cultural (similitud: 0.736)\n",
            "\n",
            "Oración: La música folclórica es parte fundamental de la identidad cultural\n",
            "Más similares:\n",
            "  1. Las costumbres ancestrales moldean nuestra identidad cultural (similitud: 0.705)\n",
            "  2. Las celebraciones tradicionales fortalecen la identidad cultural (similitud: 0.684)\n",
            "  3. El idioma materno es un pilar de la identidad cultural (similitud: 0.653)\n",
            "\n",
            "... (mostrando solo las primeras 3 oraciones)\n"
          ]
        }
      ],
      "source": [
        "# Calcular matriz de similitud coseno\n",
        "from sklearn.metrics.pairwise import cosine_similarity\n",
        "\n",
        "print(\"Calculando matriz de similitud coseno...\")\n",
        "matriz_similitud = cosine_similarity(embeddings)\n",
        "\n",
        "# Crear DataFrame con la matriz de similitud\n",
        "df_similitud = pd.DataFrame(\n",
        "    matriz_similitud,\n",
        "    index=df['oracion'],\n",
        "    columns=df['oracion']\n",
        ")\n",
        "\n",
        "print(f\"Forma de la matriz de similitud: {matriz_similitud.shape}\")\n",
        "\n",
        "# Encontrar las oraciones más similares para cada oración\n",
        "print(\"\\n=== ORACIONES MÁS SIMILARES ===\")\n",
        "for i, oracion in enumerate(df['oracion']):\n",
        "    # Obtener similitudes (excluyendo la oración consigo misma)\n",
        "    similitudes = matriz_similitud[i]\n",
        "    indices_similares = np.argsort(similitudes)[::-1][1:4]  # Top 3 más similares\n",
        "    \n",
        "    print(f\"\\nOración: {oracion}\")\n",
        "    print(\"Más similares:\")\n",
        "    for j, idx in enumerate(indices_similares):\n",
        "        similitud = similitudes[idx]\n",
        "        print(f\"  {j+1}. {df.iloc[idx]['oracion']} (similitud: {similitud:.3f})\")\n",
        "    \n",
        "    if i >= 2:  # Mostrar solo las primeras 3 para no saturar\n",
        "        print(\"\\n... (mostrando solo las primeras 3 oraciones)\")\n",
        "        break\n"
      ]
    },
    {
      "cell_type": "markdown",
      "metadata": {},
      "source": [
        "## 7. Conclusiones y Aplicaciones\n",
        "\n",
        "### ¿Qué hemos aprendido?\n",
        "\n",
        "1. **Embeddings Semánticos**: Los modelos de transformers pueden capturar el significado semántico de texto en español, representándolo como vectores densos de alta dimensionalidad.\n",
        "\n",
        "2. **Reducción de Dimensionalidad**: UMAP es efectivo para visualizar embeddings preservando tanto la estructura local como global de los datos.\n",
        "\n",
        "\n",
        "3. **Similitud Semántica**: La similitud coseno entre embeddings refleja relaciones semánticas entre oraciones.\n",
        "\n",
        "### Aplicaciones Prácticas\n",
        "\n",
        "- **Análisis de Sentimientos**: Clasificar automáticamente opiniones o comentarios\n",
        "- **Búsqueda Semántica**: Encontrar documentos similares basándose en significado, no solo palabras clave\n",
        "- **Detección de Temas**: Identificar automáticamente temas en grandes corpus de texto\n",
        "- **Recomendación de Contenido**: Sugerir artículos o posts similares\n",
        "- **Análisis de Redes Sociales**: Agrupar conversaciones por temas\n"
      ]
    },
    {
      "cell_type": "markdown",
      "metadata": {},
      "source": [
        "## 8. Ejercicios Adicionales\n",
        "\n",
        "### Para Practicar Más:\n",
        "\n",
        "1. **Experimenta con diferentes modelos**:\n",
        "   ```python\n",
        "   # Prueba otros modelos de embeddings en español\n",
        "   modelo_alternativo = SentenceTransformer('dccuchile/bert-base-spanish-wwm-uncased')\n",
        "   ```\n",
        "\n",
        "2. **Ajusta parámetros de UMAP**:\n",
        "   - Cambia `n_neighbors` (5, 10, 20, 50)\n",
        "   - Modifica `min_dist` (0.01, 0.1, 0.5, 1.0)\n",
        "   - Observa cómo cambian las visualizaciones\n",
        "\n",
        "\n",
        "3. **Agrega más oraciones**:\n",
        "   - Incluye nuevas categorías temáticas\n",
        "   - Experimenta con oraciones más largas o más cortas\n",
        "   - Prueba con texto más técnico o coloquial\n",
        "\n",
        "4. **Análisis de calidad**:\n",
        "   - Calcula métricas como el coeficiente de silueta\n",
        "   - Compara con clustering jerárquico\n",
        "   - Evalúa la coherencia semántica de los clusters\n"
      ]
    },
    {
      "cell_type": "markdown",
      "metadata": {},
      "source": [
        "## 9. Recursos Adicionales\n",
        "\n",
        "### Documentación y Tutoriales:\n",
        "- [Sentence Transformers Documentation](https://www.sbert.net/)\n",
        "- [UMAP Documentation](https://umap-learn.readthedocs.io/)\n",
        "- [Scikit-learn Clustering](https://scikit-learn.org/stable/modules/clustering.html)\n",
        "\n",
        "### Modelos de Embeddings en Español:\n",
        "- `paraphrase-multilingual-MiniLM-L12-v2` (usado en este tutorial)\n",
        "- `dccuchile/bert-base-spanish-wwm-uncased`\n",
        "- `PlanTL-GOB-ES/roberta-base-bne`\n",
        "- `microsoft/DialoGPT-medium` (para diálogos)\n",
        "\n",
        "### Herramientas Relacionadas:\n",
        "- **spaCy**: Procesamiento de lenguaje natural\n",
        "- **Transformers**: Biblioteca de Hugging Face\n",
        "- **Gensim**: Modelado de temas y word2vec\n",
        "- **BERTopic**: Clustering de temas con BERT\n",
        "\n",
        "---\n",
        "\n",
        "\n"
      ]
    }
  ],
  "metadata": {
    "kernelspec": {
      "display_name": "llm_course",
      "language": "python",
      "name": "python3"
    },
    "language_info": {
      "codemirror_mode": {
        "name": "ipython",
        "version": 3
      },
      "file_extension": ".py",
      "mimetype": "text/x-python",
      "name": "python",
      "nbconvert_exporter": "python",
      "pygments_lexer": "ipython3",
      "version": "3.11.13"
    }
  },
  "nbformat": 4,
  "nbformat_minor": 2
}
