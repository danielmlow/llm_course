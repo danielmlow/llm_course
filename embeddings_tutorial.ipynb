{
 "cells": [
  {
   "cell_type": "markdown",
   "id": "bff106c9",
   "metadata": {},
   "source": [
    "[![Open In Colab](https://colab.research.google.com/assets/colab-badge.svg)](https://colab.research.google.com/github/danielmlow/llm_course/blob/main/embeddings_tutorial.ipynb)"
   ]
  },
  {
   "cell_type": "markdown",
   "id": "f1aa441a",
   "metadata": {},
   "source": [
    "# Embeddings Tutorial: Encoding, Dimensionality Reduction, and Clustering\n",
    "\n",
    "This tutorial will guide you through the complete process of:\n",
    "1. **Ecoding Embeddings** using transformer models\n",
    "2. **Dimensionality reduction** with UMAP\n",
    "3. **Clustering** vector representations\n",
    "4. **Visualizing** the results\n",
    "\n",
    "We will use sentences about different social constructs to demonstrate how embeddings capture semantic meaning.\n"
   ]
  },
  {
   "cell_type": "code",
   "execution_count": 1,
   "id": "a4ab1c26",
   "metadata": {},
   "outputs": [],
   "source": [
    "# Install dependencies\n",
    "# Run this cell if you don't have the libraries installed\n",
    "!pip install -q sentence-transformers umap-learn plotly\n",
    "!pip install -q nbformat\n"
   ]
  },
  {
   "cell_type": "code",
   "execution_count": 2,
   "id": "eb8e6a56",
   "metadata": {},
   "outputs": [],
   "source": [
    "# Import necessary libraries\n",
    "import numpy as np\n",
    "import pandas as pd\n",
    "import matplotlib.pyplot as plt\n",
    "import seaborn as sns\n",
    "from sentence_transformers import SentenceTransformer\n",
    "from sklearn.cluster import KMeans, DBSCAN\n",
    "from sklearn.metrics import silhouette_score\n",
    "import umap\n",
    "import plotly.express as px\n",
    "import plotly.graph_objects as go\n",
    "from plotly.subplots import make_subplots\n",
    "import warnings\n",
    "warnings.filterwarnings('ignore')\n",
    "\n",
    "# Configure visualization style\n",
    "plt.style.use('seaborn-v0_8')\n",
    "sns.set_palette(\"husl\")\n"
   ]
  },
  {
   "cell_type": "markdown",
   "id": "93f8cd7d",
   "metadata": {},
   "source": [
    "## 1. Data: Sentences About Social Constructs\n",
    "\n",
    "We will create a set of sentences that address different social constructs. This will allow us to see how embeddings capture semantic similarities between related concepts.\n"
   ]
  },
  {
   "cell_type": "code",
   "execution_count": 3,
   "id": "724bf256",
   "metadata": {},
   "outputs": [
    {
     "name": "stdout",
     "output_type": "stream",
     "text": [
      "Total sentences: 30\n",
      "Categories: ['Cultural Identity' 'Social Inequality' 'Migration' 'Gender'\n",
      " 'Environment' 'Technology']\n",
      "\n",
      "First 5 sentences:\n",
      "            category                                           sentence  \\\n",
      "0  Cultural Identity  Cultural identity is formed through family tra...   \n",
      "1  Cultural Identity      Ancestral customs shape our cultural identity   \n",
      "2  Cultural Identity  Folk music is a fundamental part of cultural i...   \n",
      "3  Cultural Identity  Traditional celebrations strengthen cultural i...   \n",
      "4  Cultural Identity     Mother tongue is a pillar of cultural identity   \n",
      "\n",
      "   length  \n",
      "0       7  \n",
      "1       6  \n",
      "2       9  \n",
      "3       5  \n",
      "4       8  \n"
     ]
    }
   ],
   "source": [
    "# Define sentences about different social constructs\n",
    "sentences = {\n",
    "    'Cultural Identity': [\n",
    "        \"Cultural identity is formed through family traditions\",\n",
    "        \"Ancestral customs shape our cultural identity\",\n",
    "        \"Folk music is a fundamental part of cultural identity\",\n",
    "        \"Traditional celebrations strengthen cultural identity\",\n",
    "        \"Mother tongue is a pillar of cultural identity\"\n",
    "    ],\n",
    "    \n",
    "    'Social Inequality': [\n",
    "        \"Social inequality affects access to education\",\n",
    "        \"Economic differences generate social inequality\",\n",
    "        \"Social mobility is limited by inequality\",\n",
    "        \"Social inequality impacts community health\",\n",
    "        \"Education systems can perpetuate social inequality\"\n",
    "    ],\n",
    "    \n",
    "    'Migration': [\n",
    "        \"Migration is a global phenomenon that connects cultures\",\n",
    "        \"Migrants contribute to the economic development of countries\",\n",
    "        \"Migration generates cultural diversity in societies\",\n",
    "        \"Migration processes require integration policies\",\n",
    "        \"Migration can be motivated by conflicts or opportunities\"\n",
    "    ],\n",
    "    \n",
    "    'Gender': [\n",
    "        \"Gender equality is fundamental for social development\",\n",
    "        \"Gender stereotypes limit people's opportunities\",\n",
    "        \"Gender perspective must be included in public policies\",\n",
    "        \"Gender violence is a structural problem in society\",\n",
    "        \"Women's political participation strengthens democracy\"\n",
    "    ],\n",
    "    \n",
    "    'Environment': [\n",
    "        \"Climate change affects all communities in the world\",\n",
    "        \"Environmental sustainability requires changes in our habits\",\n",
    "        \"Environmental pollution impacts population health\",\n",
    "        \"Renewable energies are key to a sustainable future\",\n",
    "        \"Biodiversity conservation is everyone's responsibility\"\n",
    "    ],\n",
    "    \n",
    "    'Technology': [\n",
    "        \"Digital technology transforms the way we communicate\",\n",
    "        \"Artificial intelligence is changing the world of work\",\n",
    "        \"Social media influences interpersonal relationships\",\n",
    "        \"The digital divide excludes sectors of the population\",\n",
    "        \"Technology can democratize access to knowledge\"\n",
    "    ]\n",
    "}\n",
    "\n",
    "# Create DataFrame with sentences\n",
    "data = []\n",
    "for category, category_sentences in sentences.items():\n",
    "    for sentence in category_sentences:\n",
    "        data.append({\n",
    "            'category': category,\n",
    "            'sentence': sentence,\n",
    "            'length': len(sentence.split())\n",
    "        })\n",
    "\n",
    "df = pd.DataFrame(data)\n",
    "print(f\"Total sentences: {len(df)}\")\n",
    "print(f\"Categories: {df['category'].unique()}\")\n",
    "print(\"\\nFirst 5 sentences:\")\n",
    "print(df.head())\n"
   ]
  },
  {
   "cell_type": "markdown",
   "id": "2901990c",
   "metadata": {},
   "source": [
    "## 2. Generating Embeddings\n",
    "\n",
    "Embeddings are dense vector representations that capture the semantic meaning of text. We will use a Sentence Transformers model optimized for multilingual text.\n"
   ]
  },
  {
   "cell_type": "code",
   "execution_count": 4,
   "id": "9b93f435",
   "metadata": {},
   "outputs": [
    {
     "name": "stdout",
     "output_type": "stream",
     "text": [
      "Model loaded successfully\n",
      "Embedding dimensions: 384\n"
     ]
    }
   ],
   "source": [
    "# Load embeddings model\n",
    "# This model is optimized for multiple languages including English\n",
    "model = SentenceTransformer('paraphrase-multilingual-MiniLM-L12-v2')\n",
    "\n",
    "print(\"Model loaded successfully\")\n",
    "print(f\"Embedding dimensions: {model.get_sentence_embedding_dimension()}\")\n"
   ]
  },
  {
   "cell_type": "code",
   "execution_count": 5,
   "id": "8660056d",
   "metadata": {},
   "outputs": [
    {
     "name": "stdout",
     "output_type": "stream",
     "text": [
      "Generating embeddings...\n"
     ]
    },
    {
     "data": {
      "application/vnd.jupyter.widget-view+json": {
       "model_id": "aea34f43f5864666a55a4837aac4b3c2",
       "version_major": 2,
       "version_minor": 0
      },
      "text/plain": [
       "Batches:   0%|          | 0/1 [00:00<?, ?it/s]"
      ]
     },
     "metadata": {},
     "output_type": "display_data"
    },
    {
     "name": "stdout",
     "output_type": "stream",
     "text": [
      "Embeddings shape: (30, 384)\n",
      "Data type: float32\n",
      "\n",
      "Embedding statistics:\n",
      "Minimum value: -1.0225\n",
      "Maximum value: 1.0811\n",
      "Average value: 0.0000\n",
      "Standard deviation: 0.2635\n"
     ]
    }
   ],
   "source": [
    "# Generate embeddings for all sentences\n",
    "print(\"Generating embeddings...\")\n",
    "embeddings = model.encode(df['sentence'].tolist(), show_progress_bar=True)\n",
    "\n",
    "print(f\"Embeddings shape: {embeddings.shape}\")\n",
    "print(f\"Data type: {embeddings.dtype}\")\n",
    "\n",
    "# Save embeddings in the DataFrame\n",
    "df['embedding'] = list(embeddings)\n",
    "\n",
    "# Show basic statistics\n",
    "print(f\"\\nEmbedding statistics:\")\n",
    "print(f\"Minimum value: {embeddings.min():.4f}\")\n",
    "print(f\"Maximum value: {embeddings.max():.4f}\")\n",
    "print(f\"Average value: {embeddings.mean():.4f}\")\n",
    "print(f\"Standard deviation: {embeddings.std():.4f}\")\n"
   ]
  },
  {
   "cell_type": "markdown",
   "id": "771cd349",
   "metadata": {},
   "source": [
    "## 3. Dimensionality Reduction with UMAP\n",
    "\n",
    "UMAP (Uniform Manifold Approximation and Projection) is a dimensionality reduction technique that preserves both the local and global structure of data. It is especially useful for visualizing high-dimensional embeddings.\n"
   ]
  },
  {
   "cell_type": "code",
   "execution_count": 6,
   "id": "0bfd88cb",
   "metadata": {},
   "outputs": [
    {
     "name": "stdout",
     "output_type": "stream",
     "text": [
      "Applying dimensionality reduction with UMAP...\n"
     ]
    },
    {
     "name": "stderr",
     "output_type": "stream",
     "text": [
      "OMP: Info #276: omp_set_nested routine deprecated, please use omp_set_max_active_levels instead.\n"
     ]
    },
    {
     "name": "stdout",
     "output_type": "stream",
     "text": [
      "Original shape: (30, 384)\n",
      "Reduced shape: (30, 2)\n",
      "\n",
      "2D coordinates generated successfully\n"
     ]
    }
   ],
   "source": [
    "# Configure and apply UMAP\n",
    "print(\"Applying dimensionality reduction with UMAP...\")\n",
    "\n",
    "# UMAP parameters\n",
    "n_neighbors = 15  # Number of neighbors for local structure\n",
    "min_dist = 0.1    # Minimum distance between points\n",
    "n_components = 2  # Output dimensions\n",
    "\n",
    "# Create and fit the UMAP model\n",
    "reducer = umap.UMAP(\n",
    "    n_neighbors=n_neighbors,\n",
    "    min_dist=min_dist,\n",
    "    n_components=n_components,\n",
    "    random_state=42,\n",
    "    metric='cosine'  # Use cosine similarity for text embeddings\n",
    ")\n",
    "\n",
    "# Apply dimensionality reduction\n",
    "embeddings_2d = reducer.fit_transform(embeddings)\n",
    "\n",
    "print(f\"Original shape: {embeddings.shape}\")\n",
    "print(f\"Reduced shape: {embeddings_2d.shape}\")\n",
    "\n",
    "# Add 2D coordinates to DataFrame\n",
    "df['x'] = embeddings_2d[:, 0]\n",
    "df['y'] = embeddings_2d[:, 1]\n",
    "\n",
    "print(\"\\n2D coordinates generated successfully\")\n"
   ]
  },
  {
   "cell_type": "markdown",
   "id": "a73b0414",
   "metadata": {},
   "source": [
    "## 4. Visualizations and Analysis\n",
    "\n",
    "We will create interactive visualizations to explore the clustering and dimensionality reduction results.\n"
   ]
  },
  {
   "cell_type": "code",
   "execution_count": 7,
   "id": "00a8c0db",
   "metadata": {},
   "outputs": [
    {
     "data": {
      "image/png": "[encoded data removed]",
      "text/plain": [
       "<Figure size 1500x1000 with 1 Axes>"
      ]
     },
     "metadata": {},
     "output_type": "display_data"
    }
   ],
   "source": [
    "# Visualization with matplotlib\n",
    "plt.figure(figsize=(15, 10))\n",
    "\n",
    "# Plot: Clusters by original category\n",
    "\n",
    "categories = df['category'].unique()\n",
    "colors = plt.cm.Set3(np.linspace(0, 1, len(categories)))\n",
    "\n",
    "for i, category in enumerate(categories):\n",
    "    mask = df['category'] == category\n",
    "    plt.scatter(df.loc[mask, 'x'], df.loc[mask, 'y'], \n",
    "               c=[colors[i]], label=category, alpha=0.7, s=60)\n",
    "\n",
    "plt.title('Distribution by Original Category', fontsize=14, fontweight='bold')\n",
    "plt.xlabel('UMAP 1')\n",
    "plt.ylabel('UMAP 2')\n",
    "plt.legend(bbox_to_anchor=(1.05, 1), loc='upper left')\n",
    "plt.grid(True, alpha=0.3)\n",
    "\n",
    "\n"
   ]
  },
  {
   "cell_type": "code",
   "execution_count": 8,
   "id": "6d951b64",
   "metadata": {},
   "outputs": [
    {
     "data": {
      "application/vnd.plotly.v1+json": {
       "config": {
        "plotlyServerURL": "https://plot.ly"
       },
       "data": [
        {
         "hovertemplate": "<b>%{text}</b><br>Category: Cultural Identity<extra></extra>",
         "marker": {
          "opacity": 0.8,
          "size": 10
         },
         "mode": "markers",
         "name": "Cultural Identity",
         "text": [
          "Cultural identity is formed through family traditions",
          "Ancestral customs shape our cultural identity",
          "Folk music is a fundamental part of cultural identity",
          "Traditional celebrations strengthen cultural identity",
          "Mother tongue is a pillar of cultural identity"
         ],
         "type": "scatter",
         "x": {
          "bdata": "bW3eQMFV4UDzZN1AfgPrQBQp7EA=",
          "dtype": "f4"
         },
         "y": {
          "bdata": "jM0rQWS1KUFm1yJBt1UhQd8xKEE=",
          "dtype": "f4"
         }
        },
        {
         "hovertemplate": "<b>%{text}</b><br>Category: Social Inequality<extra></extra>",
         "marker": {
          "opacity": 0.8,
          "size": 10
         },
         "mode": "markers",
         "name": "Social Inequality",
         "text": [
          "Social inequality affects access to education",
          "Economic differences generate social inequality",
          "Social mobility is limited by inequality",
          "Social inequality impacts community health",
          "Education systems can perpetuate social inequality"
         ],
         "type": "scatter",
         "x": {
          "bdata": "0IUcQUfxHEFtURZBieAXQfBLI0E=",
          "dtype": "f4"
         },
         "y": {
          "bdata": "xVY2QR87LUFCoS9BbYklQSMcM0E=",
          "dtype": "f4"
         }
        },
        {
         "hovertemplate": "<b>%{text}</b><br>Category: Migration<extra></extra>",
         "marker": {
          "opacity": 0.8,
          "size": 10
         },
         "mode": "markers",
         "name": "Migration",
         "text": [
          "Migration is a global phenomenon that connects cultures",
          "Migrants contribute to the economic development of countries",
          "Migration generates cultural diversity in societies",
          "Migration processes require integration policies",
          "Migration can be motivated by conflicts or opportunities"
         ],
         "type": "scatter",
         "x": {
          "bdata": "HeICQXJ/CEGpwP1AlJEJQUc7BkE=",
          "dtype": "f4"
         },
         "y": {
          "bdata": "+kYvQaOUN0Hl0jVBgAszQem4PEE=",
          "dtype": "f4"
         }
        },
        {
         "hovertemplate": "<b>%{text}</b><br>Category: Gender<extra></extra>",
         "marker": {
          "opacity": 0.8,
          "size": 10
         },
         "mode": "markers",
         "name": "Gender",
         "text": [
          "Gender equality is fundamental for social development",
          "Gender stereotypes limit people's opportunities",
          "Gender perspective must be included in public policies",
          "Gender violence is a structural problem in society",
          "Women's political participation strengthens democracy"
         ],
         "type": "scatter",
         "x": {
          "bdata": "ERowQf0pMUE6YzdBT18vQZtcN0E=",
          "dtype": "f4"
         },
         "y": {
          "bdata": "QhE0QcndK0FsTDBBzHM6QWOANUE=",
          "dtype": "f4"
         }
        },
        {
         "hovertemplate": "<b>%{text}</b><br>Category: Environment<extra></extra>",
         "marker": {
          "opacity": 0.8,
          "size": 10
         },
         "mode": "markers",
         "name": "Environment",
         "text": [
          "Climate change affects all communities in the world",
          "Environmental sustainability requires changes in our habits",
          "Environmental pollution impacts population health",
          "Renewable energies are key to a sustainable future",
          "Biodiversity conservation is everyone's responsibility"
         ],
         "type": "scatter",
         "x": {
          "bdata": "4y0NQZCzDkEOmRFB2tgUQbk1BkE=",
          "dtype": "f4"
         },
         "y": {
          "bdata": "OYcUQSGCC0Hv1RJBxcgLQV+3DUE=",
          "dtype": "f4"
         }
        },
        {
         "hovertemplate": "<b>%{text}</b><br>Category: Technology<extra></extra>",
         "marker": {
          "opacity": 0.8,
          "size": 10
         },
         "mode": "markers",
         "name": "Technology",
         "text": [
          "Digital technology transforms the way we communicate",
          "Artificial intelligence is changing the world of work",
          "Social media influences interpersonal relationships",
          "The digital divide excludes sectors of the population",
          "Technology can democratize access to knowledge"
         ],
         "type": "scatter",
         "x": {
          "bdata": "3XQiQRkAJEHOYyBBHk8oQTgKKkE=",
          "dtype": "f4"
         },
         "y": {
          "bdata": "xgcaQT3MEUHaJyJBlKcmQTzXFkE=",
          "dtype": "f4"
         }
        }
       ],
       "layout": {
        "height": 600,
        "showlegend": true,
        "template": {
         "data": {
          "bar": [
           {
            "error_x": {
             "color": "#2a3f5f"
            },
            "error_y": {
             "color": "#2a3f5f"
            },
            "marker": {
             "line": {
              "color": "#E5ECF6",
              "width": 0.5
             },
             "pattern": {
              "fillmode": "overlay",
              "size": 10,
              "solidity": 0.2
             }
            },
            "type": "bar"
           }
          ],
          "barpolar": [
           {
            "marker": {
             "line": {
              "color": "#E5ECF6",
              "width": 0.5
             },
             "pattern": {
              "fillmode": "overlay",
              "size": 10,
              "solidity": 0.2
             }
            },
            "type": "barpolar"
           }
          ],
          "carpet": [
           {
            "aaxis": {
             "endlinecolor": "#2a3f5f",
             "gridcolor": "white",
             "linecolor": "white",
             "minorgridcolor": "white",
             "startlinecolor": "#2a3f5f"
            },
            "baxis": {
             "endlinecolor": "#2a3f5f",
             "gridcolor": "white",
             "linecolor": "white",
             "minorgridcolor": "white",
             "startlinecolor": "#2a3f5f"
            },
            "type": "carpet"
           }
          ],
          "choropleth": [
           {
            "colorbar": {
             "outlinewidth": 0,
             "ticks": ""
            },
            "type": "choropleth"
           }
          ],
          "contour": [
           {
            "colorbar": {
             "outlinewidth": 0,
             "ticks": ""
            },
            "colorscale": [
             [
              0,
              "#0d0887"
             ],
             [
              0.1111111111111111,
              "#46039f"
             ],
             [
              0.2222222222222222,
              "#7201a8"
             ],
             [
              0.3333333333333333,
              "#9c179e"
             ],
             [
              0.4444444444444444,
              "#bd3786"
             ],
             [
              0.5555555555555556,
              "#d8576b"
             ],
             [
              0.6666666666666666,
              "#ed7953"
             ],
             [
              0.7777777777777778,
              "#fb9f3a"
             ],
             [
              0.8888888888888888,
              "#fdca26"
             ],
             [
              1,
              "#f0f921"
             ]
            ],
            "type": "contour"
           }
          ],
          "contourcarpet": [
           {
            "colorbar": {
             "outlinewidth": 0,
             "ticks": ""
            },
            "type": "contourcarpet"
           }
          ],
          "heatmap": [
           {
            "colorbar": {
             "outlinewidth": 0,
             "ticks": ""
            },
            "colorscale": [
             [
              0,
              "#0d0887"
             ],
             [
              0.1111111111111111,
              "#46039f"
             ],
             [
              0.2222222222222222,
              "#7201a8"
             ],
             [
              0.3333333333333333,
              "#9c179e"
             ],
             [
              0.4444444444444444,
              "#bd3786"
             ],
             [
              0.5555555555555556,
              "#d8576b"
             ],
             [
              0.6666666666666666,
              "#ed7953"
             ],
             [
              0.7777777777777778,
              "#fb9f3a"
             ],
             [
              0.8888888888888888,
              "#fdca26"
             ],
             [
              1,
              "#f0f921"
             ]
            ],
            "type": "heatmap"
           }
          ],
          "histogram": [
           {
            "marker": {
             "pattern": {
              "fillmode": "overlay",
              "size": 10,
              "solidity": 0.2
             }
            },
            "type": "histogram"
           }
          ],
          "histogram2d": [
           {
            "colorbar": {
             "outlinewidth": 0,
             "ticks": ""
            },
            "colorscale": [
             [
              0,
              "#0d0887"
             ],
             [
              0.1111111111111111,
              "#46039f"
             ],
             [
              0.2222222222222222,
              "#7201a8"
             ],
             [
              0.3333333333333333,
              "#9c179e"
             ],
             [
              0.4444444444444444,
              "#bd3786"
             ],
             [
              0.5555555555555556,
              "#d8576b"
             ],
             [
              0.6666666666666666,
              "#ed7953"
             ],
             [
              0.7777777777777778,
              "#fb9f3a"
             ],
             [
              0.8888888888888888,
              "#fdca26"
             ],
             [
              1,
              "#f0f921"
             ]
            ],
            "type": "histogram2d"
           }
          ],
          "histogram2dcontour": [
           {
            "colorbar": {
             "outlinewidth": 0,
             "ticks": ""
            },
            "colorscale": [
             [
              0,
              "#0d0887"
             ],
             [
              0.1111111111111111,
              "#46039f"
             ],
             [
              0.2222222222222222,
              "#7201a8"
             ],
             [
              0.3333333333333333,
              "#9c179e"
             ],
             [
              0.4444444444444444,
              "#bd3786"
             ],
             [
              0.5555555555555556,
              "#d8576b"
             ],
             [
              0.6666666666666666,
              "#ed7953"
             ],
             [
              0.7777777777777778,
              "#fb9f3a"
             ],
             [
              0.8888888888888888,
              "#fdca26"
             ],
             [
              1,
              "#f0f921"
             ]
            ],
            "type": "histogram2dcontour"
           }
          ],
          "mesh3d": [
           {
            "colorbar": {
             "outlinewidth": 0,
             "ticks": ""
            },
            "type": "mesh3d"
           }
          ],
          "parcoords": [
           {
            "line": {
             "colorbar": {
              "outlinewidth": 0,
              "ticks": ""
             }
            },
            "type": "parcoords"
           }
          ],
          "pie": [
           {
            "automargin": true,
            "type": "pie"
           }
          ],
          "scatter": [
           {
            "fillpattern": {
             "fillmode": "overlay",
             "size": 10,
             "solidity": 0.2
            },
            "type": "scatter"
           }
          ],
          "scatter3d": [
           {
            "line": {
             "colorbar": {
              "outlinewidth": 0,
              "ticks": ""
             }
            },
            "marker": {
             "colorbar": {
              "outlinewidth": 0,
              "ticks": ""
             }
            },
            "type": "scatter3d"
           }
          ],
          "scattercarpet": [
           {
            "marker": {
             "colorbar": {
              "outlinewidth": 0,
              "ticks": ""
             }
            },
            "type": "scattercarpet"
           }
          ],
          "scattergeo": [
           {
            "marker": {
             "colorbar": {
              "outlinewidth": 0,
              "ticks": ""
             }
            },
            "type": "scattergeo"
           }
          ],
          "scattergl": [
           {
            "marker": {
             "colorbar": {
              "outlinewidth": 0,
              "ticks": ""
             }
            },
            "type": "scattergl"
           }
          ],
          "scattermap": [
           {
            "marker": {
             "colorbar": {
              "outlinewidth": 0,
              "ticks": ""
             }
            },
            "type": "scattermap"
           }
          ],
          "scattermapbox": [
           {
            "marker": {
             "colorbar": {
              "outlinewidth": 0,
              "ticks": ""
             }
            },
            "type": "scattermapbox"
           }
          ],
          "scatterpolar": [
           {
            "marker": {
             "colorbar": {
              "outlinewidth": 0,
              "ticks": ""
             }
            },
            "type": "scatterpolar"
           }
          ],
          "scatterpolargl": [
           {
            "marker": {
             "colorbar": {
              "outlinewidth": 0,
              "ticks": ""
             }
            },
            "type": "scatterpolargl"
           }
          ],
          "scatterternary": [
           {
            "marker": {
             "colorbar": {
              "outlinewidth": 0,
              "ticks": ""
             }
            },
            "type": "scatterternary"
           }
          ],
          "surface": [
           {
            "colorbar": {
             "outlinewidth": 0,
             "ticks": ""
            },
            "colorscale": [
             [
              0,
              "#0d0887"
             ],
             [
              0.1111111111111111,
              "#46039f"
             ],
             [
              0.2222222222222222,
              "#7201a8"
             ],
             [
              0.3333333333333333,
              "#9c179e"
             ],
             [
              0.4444444444444444,
              "#bd3786"
             ],
             [
              0.5555555555555556,
              "#d8576b"
             ],
             [
              0.6666666666666666,
              "#ed7953"
             ],
             [
              0.7777777777777778,
              "#fb9f3a"
             ],
             [
              0.8888888888888888,
              "#fdca26"
             ],
             [
              1,
              "#f0f921"
             ]
            ],
            "type": "surface"
           }
          ],
          "table": [
           {
            "cells": {
             "fill": {
              "color": "#EBF0F8"
             },
             "line": {
              "color": "white"
             }
            },
            "header": {
             "fill": {
              "color": "#C8D4E3"
             },
             "line": {
              "color": "white"
             }
            },
            "type": "table"
           }
          ]
         },
         "layout": {
          "annotationdefaults": {
           "arrowcolor": "#2a3f5f",
           "arrowhead": 0,
           "arrowwidth": 1
          },
          "autotypenumbers": "strict",
          "coloraxis": {
           "colorbar": {
            "outlinewidth": 0,
            "ticks": ""
           }
          },
          "colorscale": {
           "diverging": [
            [
             0,
             "#8e0152"
            ],
            [
             0.1,
             "#c51b7d"
            ],
            [
             0.2,
             "#de77ae"
            ],
            [
             0.3,
             "#f1b6da"
            ],
            [
             0.4,
             "#fde0ef"
            ],
            [
             0.5,
             "#f7f7f7"
            ],
            [
             0.6,
             "#e6f5d0"
            ],
            [
             0.7,
             "#b8e186"
            ],
            [
             0.8,
             "#7fbc41"
            ],
            [
             0.9,
             "#4d9221"
            ],
            [
             1,
             "#276419"
            ]
           ],
           "sequential": [
            [
             0,
             "#0d0887"
            ],
            [
             0.1111111111111111,
             "#46039f"
            ],
            [
             0.2222222222222222,
             "#7201a8"
            ],
            [
             0.3333333333333333,
             "#9c179e"
            ],
            [
             0.4444444444444444,
             "#bd3786"
            ],
            [
             0.5555555555555556,
             "#d8576b"
            ],
            [
             0.6666666666666666,
             "#ed7953"
            ],
            [
             0.7777777777777778,
             "#fb9f3a"
            ],
            [
             0.8888888888888888,
             "#fdca26"
            ],
            [
             1,
             "#f0f921"
            ]
           ],
           "sequentialminus": [
            [
             0,
             "#0d0887"
            ],
            [
             0.1111111111111111,
             "#46039f"
            ],
            [
             0.2222222222222222,
             "#7201a8"
            ],
            [
             0.3333333333333333,
             "#9c179e"
            ],
            [
             0.4444444444444444,
             "#bd3786"
            ],
            [
             0.5555555555555556,
             "#d8576b"
            ],
            [
             0.6666666666666666,
             "#ed7953"
            ],
            [
             0.7777777777777778,
             "#fb9f3a"
            ],
            [
             0.8888888888888888,
             "#fdca26"
            ],
            [
             1,
             "#f0f921"
            ]
           ]
          },
          "colorway": [
           "#636efa",
           "#EF553B",
           "#00cc96",
           "#ab63fa",
           "#FFA15A",
           "#19d3f3",
           "#FF6692",
           "#B6E880",
           "#FF97FF",
           "#FECB52"
          ],
          "font": {
           "color": "#2a3f5f"
          },
          "geo": {
           "bgcolor": "white",
           "lakecolor": "white",
           "landcolor": "#E5ECF6",
           "showlakes": true,
           "showland": true,
           "subunitcolor": "white"
          },
          "hoverlabel": {
           "align": "left"
          },
          "hovermode": "closest",
          "mapbox": {
           "style": "light"
          },
          "paper_bgcolor": "white",
          "plot_bgcolor": "#E5ECF6",
          "polar": {
           "angularaxis": {
            "gridcolor": "white",
            "linecolor": "white",
            "ticks": ""
           },
           "bgcolor": "#E5ECF6",
           "radialaxis": {
            "gridcolor": "white",
            "linecolor": "white",
            "ticks": ""
           }
          },
          "scene": {
           "xaxis": {
            "backgroundcolor": "#E5ECF6",
            "gridcolor": "white",
            "gridwidth": 2,
            "linecolor": "white",
            "showbackground": true,
            "ticks": "",
            "zerolinecolor": "white"
           },
           "yaxis": {
            "backgroundcolor": "#E5ECF6",
            "gridcolor": "white",
            "gridwidth": 2,
            "linecolor": "white",
            "showbackground": true,
            "ticks": "",
            "zerolinecolor": "white"
           },
           "zaxis": {
            "backgroundcolor": "#E5ECF6",
            "gridcolor": "white",
            "gridwidth": 2,
            "linecolor": "white",
            "showbackground": true,
            "ticks": "",
            "zerolinecolor": "white"
           }
          },
          "shapedefaults": {
           "line": {
            "color": "#2a3f5f"
           }
          },
          "ternary": {
           "aaxis": {
            "gridcolor": "white",
            "linecolor": "white",
            "ticks": ""
           },
           "baxis": {
            "gridcolor": "white",
            "linecolor": "white",
            "ticks": ""
           },
           "bgcolor": "#E5ECF6",
           "caxis": {
            "gridcolor": "white",
            "linecolor": "white",
            "ticks": ""
           }
          },
          "title": {
           "x": 0.05
          },
          "xaxis": {
           "automargin": true,
           "gridcolor": "white",
           "linecolor": "white",
           "ticks": "",
           "title": {
            "standoff": 15
           },
           "zerolinecolor": "white",
           "zerolinewidth": 2
          },
          "yaxis": {
           "automargin": true,
           "gridcolor": "white",
           "linecolor": "white",
           "ticks": "",
           "title": {
            "standoff": 15
           },
           "zerolinecolor": "white",
           "zerolinewidth": 2
          }
         }
        },
        "title": {
         "text": "Embeddings Visualization by Original Category",
         "x": 0.5
        },
        "width": 800,
        "xaxis": {
         "title": {
          "text": "UMAP 1"
         }
        },
        "yaxis": {
         "title": {
          "text": "UMAP 2"
         }
        }
       }
      }
     },
     "metadata": {},
     "output_type": "display_data"
    }
   ],
   "source": [
    "# Interactive visualization with Plotly - Original categories only\n",
    "fig = go.Figure()\n",
    "\n",
    "# Plot by original category\n",
    "for category in df['category'].unique():\n",
    "    mask = df['category'] == category\n",
    "    fig.add_trace(\n",
    "        go.Scatter(\n",
    "            x=df.loc[mask, 'x'],\n",
    "            y=df.loc[mask, 'y'],\n",
    "            mode='markers',\n",
    "            name=category,\n",
    "            text=df.loc[mask, 'sentence'],\n",
    "            hovertemplate='<b>%{text}</b><br>Category: ' + category + '<extra></extra>',\n",
    "            marker=dict(size=10, opacity=0.8)\n",
    "        )\n",
    "    )\n",
    "\n",
    "# Update layout\n",
    "fig.update_layout(\n",
    "    title=\"Embeddings Visualization by Original Category\",\n",
    "    title_x=0.5,\n",
    "    height=600,\n",
    "    width=800,\n",
    "    showlegend=True,\n",
    "    xaxis_title=\"UMAP 1\",\n",
    "    yaxis_title=\"UMAP 2\"\n",
    ")\n",
    "\n",
    "# Show figure\n",
    "fig.show()\n"
   ]
  },
  {
   "cell_type": "markdown",
   "id": "75d30f84",
   "metadata": {},
   "source": [
    "## 5. Semantic Similarity Analysis\n",
    "\n",
    "Let's explore semantic similarities between sentences using the generated embeddings.\n"
   ]
  },
  {
   "cell_type": "code",
   "execution_count": 9,
   "id": "655e09d1",
   "metadata": {},
   "outputs": [
    {
     "name": "stdout",
     "output_type": "stream",
     "text": [
      "Calculating cosine similarity matrix...\n",
      "Similarity matrix shape: (30, 30)\n",
      "\n",
      "=== MOST SIMILAR SENTENCES ===\n",
      "\n",
      "Sentence: Cultural identity is formed through family traditions\n",
      "Most similar:\n",
      "  1. Ancestral customs shape our cultural identity (similarity: 0.754)\n",
      "  2. Mother tongue is a pillar of cultural identity (similarity: 0.686)\n",
      "  3. Traditional celebrations strengthen cultural identity (similarity: 0.682)\n",
      "\n",
      "Sentence: Ancestral customs shape our cultural identity\n",
      "Most similar:\n",
      "  1. Cultural identity is formed through family traditions (similarity: 0.754)\n",
      "  2. Traditional celebrations strengthen cultural identity (similarity: 0.712)\n",
      "  3. Mother tongue is a pillar of cultural identity (similarity: 0.645)\n",
      "\n",
      "Sentence: Folk music is a fundamental part of cultural identity\n",
      "Most similar:\n",
      "  1. Ancestral customs shape our cultural identity (similarity: 0.631)\n",
      "  2. Cultural identity is formed through family traditions (similarity: 0.591)\n",
      "  3. Mother tongue is a pillar of cultural identity (similarity: 0.576)\n",
      "\n",
      "... (showing only the first 3 sentences)\n"
     ]
    }
   ],
   "source": [
    "# Calculate cosine similarity matrix\n",
    "from sklearn.metrics.pairwise import cosine_similarity\n",
    "\n",
    "print(\"Calculating cosine similarity matrix...\")\n",
    "similarity_matrix = cosine_similarity(embeddings)\n",
    "\n",
    "# Create DataFrame with similarity matrix\n",
    "df_similarity = pd.DataFrame(\n",
    "    similarity_matrix,\n",
    "    index=df['sentence'],\n",
    "    columns=df['sentence']\n",
    ")\n",
    "\n",
    "print(f\"Similarity matrix shape: {similarity_matrix.shape}\")\n",
    "\n",
    "# Find most similar sentences for each sentence\n",
    "print(\"\\n=== MOST SIMILAR SENTENCES ===\")\n",
    "for i, sentence in enumerate(df['sentence']):\n",
    "    # Get similarities (excluding the sentence with itself)\n",
    "    similarities = similarity_matrix[i]\n",
    "    similar_indices = np.argsort(similarities)[::-1][1:4]  # Top 3 most similar\n",
    "    \n",
    "    print(f\"\\nSentence: {sentence}\")\n",
    "    print(\"Most similar:\")\n",
    "    for j, idx in enumerate(similar_indices):\n",
    "        similarity = similarities[idx]\n",
    "        print(f\"  {j+1}. {df.iloc[idx]['sentence']} (similarity: {similarity:.3f})\")\n",
    "    \n",
    "    if i >= 2:  # Show only first 3 to avoid clutter\n",
    "        print(\"\\n... (showing only the first 3 sentences)\")\n",
    "        break\n"
   ]
  },
  {
   "cell_type": "markdown",
   "id": "bebbf4b7",
   "metadata": {},
   "source": [
    "## 7. Conclusions and Applications\n",
    "\n",
    "### What have we learned?\n",
    "\n",
    "1. **Semantic Embeddings**: Transformer models can capture the semantic meaning of text, representing it as dense high-dimensional vectors.\n",
    "\n",
    "2. **Dimensionality Reduction**: UMAP is effective for visualizing embeddings while preserving both local and global data structure.\n",
    "\n",
    "3. **Semantic Similarity**: Cosine similarity between embeddings reflects semantic relationships between sentences.\n",
    "\n",
    "### Practical Applications\n",
    "\n",
    "- **Sentiment Analysis**: Automatically classify opinions or comments\n",
    "- **Semantic Search**: Find similar documents based on meaning, not just keywords\n",
    "- **Topic Detection**: Automatically identify themes in large text corpora\n",
    "- **Content Recommendation**: Suggest similar articles or posts\n",
    "- **Social Media Analysis**: Group conversations by topics\n"
   ]
  },
  {
   "cell_type": "markdown",
   "id": "a5b4c98e",
   "metadata": {},
   "source": [
    "## 8. Additional Exercises\n",
    "\n",
    "### To Practice More:\n",
    "\n",
    "1. **Experiment with different models**:\n",
    "   ```python\n",
    "   # Try other embedding models\n",
    "   alternative_model = SentenceTransformer('all-MiniLM-L6-v2')\n",
    "   ```\n",
    "\n",
    "2. **Adjust UMAP parameters**:\n",
    "   - Change `n_neighbors` (5, 10, 20, 50)\n",
    "   - Modify `min_dist` (0.01, 0.1, 0.5, 1.0)\n",
    "   - Observe how visualizations change\n",
    "\n",
    "3. **Add more sentences**:\n",
    "   - Include new thematic categories\n",
    "   - Experiment with longer or shorter sentences\n",
    "   - Try more technical or colloquial text\n",
    "\n",
    "4. **Quality analysis**:\n",
    "   - Calculate metrics like silhouette coefficient\n",
    "   - Compare with hierarchical clustering\n",
    "   - Evaluate semantic coherence of clusters\n"
   ]
  },
  {
   "cell_type": "markdown",
   "id": "93484488",
   "metadata": {},
   "source": [
    "## 9. Additional Resources\n",
    "\n",
    "### Documentation and Tutorials:\n",
    "- [Sentence Transformers Documentation](https://www.sbert.net/)\n",
    "- [UMAP Documentation](https://umap-learn.readthedocs.io/)\n",
    "- [Scikit-learn Clustering](https://scikit-learn.org/stable/modules/clustering.html)\n",
    "\n",
    "### Embedding Models:\n",
    "- `paraphrase-multilingual-MiniLM-L12-v2` (used in this tutorial)\n",
    "- `all-MiniLM-L6-v2` (English-optimized, faster)\n",
    "- `all-mpnet-base-v2` (English, higher quality)\n",
    "- `multi-qa-MiniLM-L6-cos-v1` (for question-answering)\n",
    "\n",
    "### Related Tools:\n",
    "- **spaCy**: Natural language processing\n",
    "- **Transformers**: Hugging Face library\n",
    "- **Gensim**: Topic modeling and word2vec\n",
    "- **BERTopic**: Topic clustering with BERT\n",
    "\n",
    "---\n",
    "\n",
    "\n"
   ]
  }
 ],
 "metadata": {
  "kernelspec": {
   "display_name": "llm_course",
   "language": "python",
   "name": "python3"
  },
  "language_info": {
   "codemirror_mode": {
    "name": "ipython",
    "version": 3
   },
   "file_extension": ".py",
   "mimetype": "text/x-python",
   "name": "python",
   "nbconvert_exporter": "python",
   "pygments_lexer": "ipython3",
   "version": "3.11.13"
  }
 },
 "nbformat": 4,
 "nbformat_minor": 5
}
