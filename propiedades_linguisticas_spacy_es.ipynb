{
  "cells": [
    {
      "cell_type": "markdown",
      "metadata": {
        "id": "G2blrrDMzqJC"
      },
      "source": [
        "[![Open In Colab](https://colab.research.google.com/assets/colab-badge.svg)](https://colab.research.google.com/github/danielmlow/llm_course/blob/main/propiedades_linguisticas_spacy_es.ipynb)"
      ]
    },
    {
      "cell_type": "markdown",
      "metadata": {
        "id": "8Xv3iMEHLeIE"
      },
      "source": [
        "# Propiedades lingüísticas\n",
        "\n",
        "- Manera tradicional: usando paquetes como Spacy (gratis, rapido, sin API Key)\n",
        "- Si paquetes como Spacy no tienen estas capacidades, los LLM seguramente lo puedan resolver.\n"
      ]
    },
    {
      "cell_type": "markdown",
      "metadata": {
        "id": "kmZGe0P-LS93"
      },
      "source": [
        "-\tTokens → palabras y signos de puntuación.\n",
        "\n",
        "-\tLemas → forma base (“comió” → “comer”).\n",
        "\n",
        "-\tPOS (parte de la oración) → sustantivo, verbo, adjetivo, etc.\n",
        "\n",
        "-\tMorfología → rasgos gramaticales (tiempo, número, género, persona).\n",
        "\n",
        "-\tDependencias sintácticas → relaciones como sujeto, objeto, modificador.\n",
        "\n",
        "-\tEntidades nombradas → nombres propios, lugares, fechas (ej. “Madrid”)."
      ]
    },
    {
      "cell_type": "code",
      "execution_count": 1,
      "metadata": {
        "colab": {
          "base_uri": "https://localhost:8080/"
        },
        "id": "lIoKAQAZLjNc",
        "outputId": "0546ecc6-cea3-4c42-bbae-5efc6ec31fb4"
      },
      "outputs": [
        {
          "name": "stdout",
          "output_type": "stream",
          "text": [
            "Collecting es-core-news-sm==3.8.0\n",
            "  Downloading https://github.com/explosion/spacy-models/releases/download/es_core_news_sm-3.8.0/es_core_news_sm-3.8.0-py3-none-any.whl (12.9 MB)\n",
            "\u001b[2K     \u001b[90m━━━━━━━━━━━━━━━━━━━━━━━━━━━━━━━━━━━━━━━━\u001b[0m \u001b[32m12.9/12.9 MB\u001b[0m \u001b[31m29.3 MB/s\u001b[0m eta \u001b[36m0:00:00\u001b[0m\n",
            "\u001b[?25hInstalling collected packages: es-core-news-sm\n",
            "Successfully installed es-core-news-sm-3.8.0\n",
            "\u001b[38;5;2m✔ Download and installation successful\u001b[0m\n",
            "You can now load the package via spacy.load('es_core_news_sm')\n",
            "\u001b[38;5;3m⚠ Restart to reload dependencies\u001b[0m\n",
            "If you are in a Jupyter or Colab notebook, you may need to restart Python in\n",
            "order to load all the package's dependencies. You can do this by selecting the\n",
            "'Restart kernel' or 'Restart runtime' option.\n"
          ]
        }
      ],
      "source": [
        "# descargar models en espanol\n",
        "!python -m spacy download es_core_news_sm"
      ]
    },
    {
      "cell_type": "code",
      "execution_count": 2,
      "metadata": {
        "colab": {
          "base_uri": "https://localhost:8080/"
        },
        "id": "Pxf77-LaLDso",
        "outputId": "26b90208-16fc-47d9-9b66-d3d4a07e943d"
      },
      "outputs": [
        {
          "name": "stdout",
          "output_type": "stream",
          "text": [
            "=== Tokens, Lemas, Categoría gramatical (POS), Morfología ===\n",
            "Juan         | Lema: Juan         | POS: PROPN    | Morfología: \n",
            "comió        | Lema: comer        | POS: VERB     | Morfología: Mood=Ind|Number=Sing|Person=3|Tense=Past|VerbForm=Fin\n",
            "rápidamente  | Lema: rápidamente  | POS: ADV      | Morfología: \n",
            "la           | Lema: el           | POS: DET      | Morfología: Definite=Def|Gender=Fem|Number=Sing|PronType=Art\n",
            "manzana      | Lema: manzana      | POS: NOUN     | Morfología: Gender=Fem|Number=Sing\n",
            "roja         | Lema: rojo         | POS: ADJ      | Morfología: Gender=Fem|Number=Sing\n",
            "en           | Lema: en           | POS: ADP      | Morfología: \n",
            "Madrid       | Lema: Madrid       | POS: PROPN    | Morfología: \n",
            ".            | Lema: .            | POS: PUNCT    | Morfología: PunctType=Peri\n"
          ]
        }
      ],
      "source": [
        "import spacy\n",
        "\n",
        "# Cargar el modelo de español\n",
        "nlp = spacy.load(\"es_core_news_sm\")\n",
        "\n",
        "texto = \"Juan comió rápidamente la manzana roja en Madrid.\"\n",
        "\n",
        "doc = nlp(texto)\n",
        "\n",
        "print(\"=== Tokens, Lemas, Categoría gramatical (POS), Morfología ===\")\n",
        "for token in doc:\n",
        "    print(f\"{token.text:12} | Lema: {token.lemma_:12} | POS: {token.pos_:8} | Morfología: {token.morph}\")\n",
        "\n"
      ]
    },
    {
      "cell_type": "code",
      "execution_count": 2,
      "metadata": {
        "id": "pPNVgdsxOWVo"
      },
      "outputs": [],
      "source": []
    },
    {
      "cell_type": "markdown",
      "metadata": {
        "id": "hJFHOeXrOWsf"
      },
      "source": [
        "Lema: Juan (los nombres propios se mantienen igual).\n",
        "\t-\tPOS: PROPN → nombre propio.\n",
        "\t-\tMorfología: vacío, porque no lleva rasgos gramaticales como género/ número marcados explícitamente.\n",
        "\n",
        "⸻\n",
        "\n",
        "2. comió\n",
        "\t-\tLema: comer (forma base del verbo).\n",
        "\t-\tPOS: VERB → verbo.\n",
        "\t-\tMorfología:\n",
        "\t-\tMood=Ind → modo indicativo.\n",
        "\t-\tNumber=Sing → singular.\n",
        "\t-\tPerson=3 → tercera persona.\n",
        "\t-\tTense=Past → tiempo pasado.\n",
        "\t-\tVerbForm=Fin → forma verbal finita (conjugada).\n",
        "\n",
        "👉 Traducción: “comió” es la forma de tercera persona singular del pasado del verbo “comer”.\n",
        "\n",
        "⸻\n",
        "\n",
        "3. rápidamente\n",
        "\t-\tLema: rápidamente.\n",
        "\t-\tPOS: ADV → adverbio.\n",
        "\t-\tMorfología: sin rasgos adicionales (los adverbios suelen ser invariables).\n",
        "\n",
        "⸻\n",
        "\n",
        "4. la\n",
        "\t-\tLema: el.\n",
        "\t-\tPOS: DET → determinante.\n",
        "\t-\tMorfología:\n",
        "\t-\tDefinite=Def → artículo definido.\n",
        "\t-\tGender=Fem → femenino.\n",
        "\t-\tNumber=Sing → singular.\n",
        "\t-\tPronType=Art → artículo.\n",
        "\n",
        "👉 Es el artículo definido femenino singular."
      ]
    },
    {
      "cell_type": "code",
      "execution_count": 3,
      "metadata": {
        "colab": {
          "base_uri": "https://localhost:8080/"
        },
        "id": "J9I1IyQeLIoe",
        "outputId": "04658d4b-2ebf-49d7-e039-7feed4836b38"
      },
      "outputs": [
        {
          "name": "stdout",
          "output_type": "stream",
          "text": [
            "\n",
            "=== Dependency Relations ===\n",
            "Juan       <--nsubj-- comió\n",
            "comió      <--ROOT-- comió\n",
            "rápidamente <--advmod-- comió\n",
            "la         <--det-- manzana\n",
            "manzana    <--obj-- comió\n",
            "roja       <--amod-- manzana\n",
            "en         <--case-- Madrid\n",
            "Madrid     <--obl-- comió\n",
            ".          <--punct-- comió\n"
          ]
        }
      ],
      "source": [
        "print(\"\\n=== Dependency Relations ===\")\n",
        "for token in doc:\n",
        "    print(f\"{token.text:10} <--{token.dep_}-- {token.head.text}\")\n",
        "\n"
      ]
    },
    {
      "cell_type": "markdown",
      "metadata": {
        "id": "xRRy1G2CLrLt"
      },
      "source": [
        "análisis de dependencias sintácticas de spaCy para la oración “Juan comió rápidamente la manzana roja en Madrid.”.\n",
        "Cada línea se lee como: [palabra] ←–(relación sintáctica)– [palabra principal].\n",
        "\n",
        "Vamos una por una:\n",
        "\n",
        "⸻\n",
        "\n",
        "1. Juan ←–nsubj– comió\n",
        "\t•\tnsubj = nominal subject (sujeto nominal).\n",
        "👉 Juan es el sujeto del verbo comió.\n",
        "\n",
        "⸻\n",
        "\n",
        "2. comió ←–ROOT– comió\n",
        "\t•\tROOT = la raíz de la oración, el núcleo del predicado.\n",
        "👉 comió es el verbo principal y centro de la estructura.\n",
        "\n",
        "\n",
        "3. rápidamente ←–advmod– comió\n",
        "\t•\tadvmod = adverbial modifier (modificador adverbial).\n",
        "👉 rápidamente modifica al verbo comió, indicando la manera.\n",
        "\n",
        "⸻\n",
        "\n",
        "4. la ←–det– manzana\n",
        "\t•\tdet = determiner (determinante).\n",
        "👉 la funciona como determinante de manzana.\n",
        "\n",
        "⸻\n",
        "\n",
        "5. manzana ←–obj– comió\n",
        "\t•\tobj = object (objeto directo).\n",
        "👉 manzana es el objeto directo de comió.\n",
        "\n",
        "⸻\n",
        "\n",
        "6. roja ←–amod– manzana\n",
        "\t•\tamod = adjectival modifier (modificador adjetival).\n",
        "👉 roja modifica al sustantivo manzana.\n",
        "\n",
        "⸻\n",
        "\n",
        "7. en ←–case– Madrid\n",
        "\t•\tcase = marca de caso (generalmente preposición).\n",
        "👉 en introduce el complemento Madrid.\n",
        "\n",
        "⸻\n",
        "\n",
        "8. Madrid ←–obl– comió\n",
        "\t•\tobl = oblique nominal (complemento circunstancial).\n",
        "👉 Madrid funciona como un complemento circunstancial de lugar de comió, encabezado por la preposición en.\n",
        "\n",
        "⸻\n",
        "\n",
        "9. . ←–punct– comió\n",
        "\t•\tpunct = signo de puntuación.\n",
        "👉 El punto final está asociado al verbo principal comió.\n",
        "\n",
        "\n",
        "                comió (ROOT)\n",
        "               /   |     \\ \n",
        "         Juan    rápidamente   manzana\n",
        "                        |        |  \\\n",
        "                       la      roja  .\n",
        "                              \n",
        "                          en → Madrid"
      ]
    },
    {
      "cell_type": "code",
      "execution_count": 4,
      "metadata": {
        "colab": {
          "base_uri": "https://localhost:8080/"
        },
        "id": "18fv9CyILJV_",
        "outputId": "a475b9ea-6086-4f8e-e0dc-18609c7c37a3"
      },
      "outputs": [
        {
          "name": "stdout",
          "output_type": "stream",
          "text": [
            "\n",
            "=== Named Entities ===\n",
            "Juan comió      | Label: PER\n",
            "Madrid          | Label: LOC\n"
          ]
        }
      ],
      "source": [
        "\n",
        "print(\"\\n=== Named Entities ===\")\n",
        "for ent in doc.ents:\n",
        "    print(f\"{ent.text:15} | Label: {ent.label_}\")"
      ]
    },
    {
      "cell_type": "markdown",
      "metadata": {},
      "source": [
        "- PER: Person\n",
        "- Loc: location"
      ]
    }
  ],
  "metadata": {
    "colab": {
      "provenance": []
    },
    "kernelspec": {
      "display_name": "Python 3",
      "name": "python3"
    },
    "language_info": {
      "name": "python"
    }
  },
  "nbformat": 4,
  "nbformat_minor": 0
}
